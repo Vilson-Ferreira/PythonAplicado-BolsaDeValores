{
 "cells": [
  {
   "cell_type": "markdown",
   "id": "later-oxygen",
   "metadata": {},
   "source": [
    "# Setup do Ambiente\n",
    "\n",
    "Este notebook indica as necessidades de ferramentas e pacotes necessários para realização das análises.\n",
    "<br />\n",
    "- Anaconda 3.\n",
    "- Python 3.8+.\n",
    "- Bibliotecas: datetime, pandas, pandas-datareader, numpy, nodejs e plotly.\n",
    "\n",
    "Concluído as instalações, também é necessário instalar a extensão do plotly para Jupyter Lab:\n",
    "<br />\n",
    "jupyter labextension install jupyterlab-plotly@4.14.3"
   ]
  },
  {
   "cell_type": "markdown",
   "id": "pacific-september",
   "metadata": {},
   "source": [
    "## Teste de importação da bibliotecas\n",
    "Realiza carga das bibliotecas instaladas para avaliar sua instalação."
   ]
  },
  {
   "cell_type": "code",
   "execution_count": null,
   "id": "fifth-world",
   "metadata": {},
   "outputs": [],
   "source": [
    "import datetime"
   ]
  },
  {
   "cell_type": "code",
   "execution_count": null,
   "id": "viral-letters",
   "metadata": {},
   "outputs": [],
   "source": [
    "import pandas"
   ]
  },
  {
   "cell_type": "code",
   "execution_count": null,
   "id": "expressed-twenty",
   "metadata": {},
   "outputs": [],
   "source": [
    "import pandas_datareader"
   ]
  },
  {
   "cell_type": "code",
   "execution_count": null,
   "id": "institutional-brief",
   "metadata": {},
   "outputs": [],
   "source": [
    "import plotly"
   ]
  },
  {
   "cell_type": "code",
   "execution_count": null,
   "id": "described-camping",
   "metadata": {},
   "outputs": [],
   "source": [
    "import numpy"
   ]
  }
 ],
 "metadata": {
  "kernelspec": {
   "display_name": "Python 3",
   "language": "python",
   "name": "python3"
  },
  "language_info": {
   "codemirror_mode": {
    "name": "ipython",
    "version": 3
   },
   "file_extension": ".py",
   "mimetype": "text/x-python",
   "name": "python",
   "nbconvert_exporter": "python",
   "pygments_lexer": "ipython3",
   "version": "3.7.9"
  }
 },
 "nbformat": 4,
 "nbformat_minor": 5
}
