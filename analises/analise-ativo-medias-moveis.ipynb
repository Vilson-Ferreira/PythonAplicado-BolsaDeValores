{
 "cells": [
  {
   "cell_type": "markdown",
   "id": "addressed-basket",
   "metadata": {},
   "source": [
    "# Análise de Médias Móveis de um Ativo\n",
    "Análise de médias móveis responsável por suavizar as oscilações de preços e ajudar a identificar tendência dos preços de um ativo financeiro.<br />"
   ]
  },
  {
   "cell_type": "code",
   "execution_count": null,
   "id": "administrative-leader",
   "metadata": {},
   "outputs": [],
   "source": [
    "import pandas as pd\n",
    "import numpy as np\n",
    "import datetime\n",
    "import pandas_datareader as pdr\n",
    "import plotly\n",
    "import plotly.offline as plo\n",
    "import plotly.graph_objs as plg\n",
    "import plotly.express as plx\n",
    "from scipy.stats import norm"
   ]
  },
  {
   "cell_type": "markdown",
   "id": "alternate-rachel",
   "metadata": {},
   "source": [
    "### Funções de Configurações Gráficas\n",
    "Funções para configurações base de gráficos e exibição."
   ]
  },
  {
   "cell_type": "code",
   "execution_count": null,
   "id": "exposed-lafayette",
   "metadata": {},
   "outputs": [],
   "source": [
    "def Plot_Formato(fig, title):\n",
    "    title={'text': title, 'xanchor': 'center', 'yanchor': 'bottom', 'y':0, 'x':0.5,}\n",
    "    \n",
    "    fig.update_layout(title=title, \n",
    "            xaxis_rangeslider_visible=False,  width=1280, height=720,\n",
    "            xaxis_showgrid=True, xaxis_gridwidth=1, xaxis_gridcolor='#E8E8E8',\n",
    "            yaxis_showgrid=True, yaxis_gridwidth=1, yaxis_gridcolor='#E8E8E8',\n",
    "            plot_bgcolor='rgba(0,0,0,0)')\n",
    "    \n",
    "def Plot_Show(data, title):\n",
    "    fig = plg.Figure(data=data)\n",
    "\n",
    "    Plot_Formato(fig, title)\n",
    "\n",
    "    fig.show()   "
   ]
  },
  {
   "cell_type": "markdown",
   "id": "sealed-northern",
   "metadata": {},
   "source": [
    "### Leitura de Dados de Ativos\n",
    "Realiza a leitura online de dados de ativos financeiros."
   ]
  },
  {
   "cell_type": "code",
   "execution_count": null,
   "id": "instant-russell",
   "metadata": {},
   "outputs": [],
   "source": [
    "Acoes = \"ITUB4.SA\"\n",
    "Periodo_Inicio = datetime.datetime(2019,1,1)\n",
    "Periodo_Termino = datetime.datetime(2021,2,10)"
   ]
  },
  {
   "cell_type": "code",
   "execution_count": null,
   "id": "specific-concert",
   "metadata": {},
   "outputs": [],
   "source": [
    "Dados = pdr.get_data_yahoo(Acoes, start=Periodo_Inicio, end=Periodo_Termino)"
   ]
  },
  {
   "cell_type": "code",
   "execution_count": null,
   "id": "included-links",
   "metadata": {},
   "outputs": [],
   "source": [
    "Dados"
   ]
  },
  {
   "cell_type": "markdown",
   "id": "pleasant-analysis",
   "metadata": {},
   "source": [
    "### Análise dos Preços\n",
    "Candlestick da série de preços do ativo."
   ]
  },
  {
   "cell_type": "code",
   "execution_count": null,
   "id": "phantom-husband",
   "metadata": {},
   "outputs": [],
   "source": [
    "SeriePrecos = plg.Figure(plg.Scatter(x=Dados.index, y=Dados.Close))\n",
    "SeriePrecos.update_layout(yaxis_tickformat=\".2f\")\n",
    "Plot_Show(SeriePrecos, \"Preços\")"
   ]
  },
  {
   "cell_type": "code",
   "execution_count": null,
   "id": "committed-hollywood",
   "metadata": {},
   "outputs": [],
   "source": [
    "CandlePrecos = plg.Figure(plg.Candlestick(x=Dados.index,\n",
    "                                          open=Dados.Open,\n",
    "                                          high=Dados.High,\n",
    "                                          low=Dados.Low,\n",
    "                                          close=Dados.Close))\n",
    "CandlePrecos.update_layout(yaxis_tickformat=\".2f\")\n",
    "Plot_Show(CandlePrecos, \"Preços\")"
   ]
  },
  {
   "cell_type": "markdown",
   "id": "spatial-juvenile",
   "metadata": {},
   "source": [
    "- Janela de tempo para uso das Médias Móveis"
   ]
  },
  {
   "cell_type": "code",
   "execution_count": null,
   "id": "wrong-reasoning",
   "metadata": {},
   "outputs": [],
   "source": [
    "JanelaDeTempo = 21"
   ]
  },
  {
   "cell_type": "markdown",
   "id": "discrete-culture",
   "metadata": {},
   "source": [
    "### Média Móvel Simples (MA)\n",
    "Cálculo da série de médias móveis simples.<br />\n",
    "Com a série de MA é possível avaliar a tendência de alta ou de queda do ativo, dando um mesmo peso para os preços na média."
   ]
  },
  {
   "cell_type": "code",
   "execution_count": null,
   "id": "necessary-philosophy",
   "metadata": {},
   "outputs": [],
   "source": [
    "MA = Dados.Close.rolling(window=JanelaDeTempo).mean()"
   ]
  },
  {
   "cell_type": "code",
   "execution_count": null,
   "id": "peripheral-cathedral",
   "metadata": {},
   "outputs": [],
   "source": [
    "SerieComMediaMovel = plg.Figure()\n",
    "SerieComMediaMovel.add_trace(plg.Scatter(x=MA.index,\n",
    "                                        y=MA,\n",
    "                                        name=\"MA(21)\"))\n",
    "SerieComMediaMovel.add_trace(plg.Candlestick(x=Dados.index,\n",
    "                                            open=Dados.Open,\n",
    "                                            high=Dados.High,\n",
    "                                            low=Dados.Low,\n",
    "                                            close=Dados.Close,\n",
    "                                            name=\"Preços\",\n",
    "                                            opacity=0.5))\n",
    "Plot_Show(SerieComMediaMovel, \"Preços & Média Móvel\")"
   ]
  },
  {
   "cell_type": "markdown",
   "id": "brilliant-namibia",
   "metadata": {},
   "source": [
    "### Média Móvel Exponencial (EMA)\n",
    "Cálculo da série de médias móveis exponencial.<br />\n",
    "Com a série de EMA é possível avaliar a tendência de alta ou de queda do ativo, dando um peso mais alto para os preços mais recentes."
   ]
  },
  {
   "cell_type": "code",
   "execution_count": null,
   "id": "invisible-speaker",
   "metadata": {},
   "outputs": [],
   "source": [
    "FatorK = (2 / (JanelaDeTempo+1))"
   ]
  },
  {
   "cell_type": "code",
   "execution_count": null,
   "id": "computational-parcel",
   "metadata": {},
   "outputs": [],
   "source": [
    "MA = Dados.Close.rolling(window=JanelaDeTempo).mean().dropna()"
   ]
  },
  {
   "cell_type": "code",
   "execution_count": null,
   "id": "headed-suite",
   "metadata": {},
   "outputs": [],
   "source": [
    "EMA = pd.DataFrame(index=MA.index)\n",
    "EMA[\"Preco\"] = Dados.Close\n",
    "EMA[\"MA\"] = MA\n",
    "EMA[\"EMA\"] = np.NaN"
   ]
  },
  {
   "cell_type": "code",
   "execution_count": null,
   "id": "applicable-backup",
   "metadata": {},
   "outputs": [],
   "source": [
    "EMA.EMA[0] = EMA.MA[1]\n",
    "\n",
    "for i in range(1, len(EMA)):\n",
    "    EMA.EMA[i] = (EMA.Preco[i] * FatorK) + ((1-FatorK) * EMA.EMA[i-1])"
   ]
  },
  {
   "cell_type": "code",
   "execution_count": null,
   "id": "injured-flour",
   "metadata": {},
   "outputs": [],
   "source": [
    "SerieComMediaMovel = plg.Figure()\n",
    "SerieComMediaMovel.add_trace(plg.Scatter(x=MA.index,\n",
    "                                        y=MA,\n",
    "                                        name=\"MA(21)\"))\n",
    "SerieComMediaMovel.add_trace(plg.Scatter(x=EMA.index,\n",
    "                                        y=EMA.EMA,\n",
    "                                        name=\"EMA(21)\"))\n",
    "SerieComMediaMovel.add_trace(plg.Candlestick(x=Dados.index,\n",
    "                                            open=Dados.Open,\n",
    "                                            high=Dados.High,\n",
    "                                            low=Dados.Low,\n",
    "                                            close=Dados.Close,\n",
    "                                            name=\"Preços\",\n",
    "                                        opacity=0.5))\n",
    "Plot_Show(SerieComMediaMovel, \"Preços & Média Móvel\")"
   ]
  },
  {
   "cell_type": "markdown",
   "id": "expired-bishop",
   "metadata": {},
   "source": [
    "### Cruzamento de Médias Móveis\n",
    "Análise do cruzamento das médias móveis é uma técnica para decisão de compra ou venda de um ativo.\n",
    "- Média curta cruzando a longa para cima = Sinal para Compra.\n",
    "- Média curta cruzando a longa para baixo = Sinal para Venda."
   ]
  },
  {
   "cell_type": "code",
   "execution_count": null,
   "id": "complicated-middle",
   "metadata": {},
   "outputs": [],
   "source": [
    "JanelaDeTempoShort = 9\n",
    "JanelaDeTempoLong  = 21"
   ]
  },
  {
   "cell_type": "code",
   "execution_count": null,
   "id": "heated-palmer",
   "metadata": {},
   "outputs": [],
   "source": [
    "MA_Short = Dados.Close.rolling(window=JanelaDeTempoShort).mean()"
   ]
  },
  {
   "cell_type": "code",
   "execution_count": null,
   "id": "encouraging-viking",
   "metadata": {},
   "outputs": [],
   "source": [
    "MA_Long = Dados.Close.rolling(window=JanelaDeTempoLong).mean()"
   ]
  },
  {
   "cell_type": "code",
   "execution_count": null,
   "id": "center-volunteer",
   "metadata": {},
   "outputs": [],
   "source": [
    "SerieComMediaMovel = plg.Figure()\n",
    "SerieComMediaMovel.add_trace(plg.Scatter(x=MA_Short.index,\n",
    "                                        y=MA_Short,\n",
    "                                        name=\"MA(9)\"))\n",
    "SerieComMediaMovel.add_trace(plg.Scatter(x=MA_Long.index,\n",
    "                                        y=MA_Long,\n",
    "                                        name=\"MA(21)\"))\n",
    "SerieComMediaMovel.add_trace(plg.Candlestick(x=Dados.index,\n",
    "                                            open=Dados.Open,\n",
    "                                            high=Dados.High,\n",
    "                                            low=Dados.Low,\n",
    "                                            close=Dados.Close,\n",
    "                                            name=\"Preços\",\n",
    "                                            opacity=0.5))\n",
    "Plot_Show(SerieComMediaMovel, \"Preços & Média Móvel\")"
   ]
  },
  {
   "cell_type": "code",
   "execution_count": null,
   "id": "fabulous-glory",
   "metadata": {},
   "outputs": [],
   "source": []
  }
 ],
 "metadata": {
  "kernelspec": {
   "display_name": "Python 3",
   "language": "python",
   "name": "python3"
  },
  "language_info": {
   "codemirror_mode": {
    "name": "ipython",
    "version": 3
   },
   "file_extension": ".py",
   "mimetype": "text/x-python",
   "name": "python",
   "nbconvert_exporter": "python",
   "pygments_lexer": "ipython3",
   "version": "3.7.9"
  }
 },
 "nbformat": 4,
 "nbformat_minor": 5
}
