{
 "cells": [
  {
   "cell_type": "markdown",
   "id": "opposite-inquiry",
   "metadata": {},
   "source": [
    "# Índice de Força Relativa (RSI - Relative Strenght Index)\n",
    "O indicador RSI é bastante popular pois mede a força de um ativo pelas mudanças de preços de fechamento, sendo utilizado como um indicador oscilador.<br />\n",
    "Os indicadores baseados em médias móveis são mais classificados como indicadores de tendências, e naturalmente emitem seus sinais com algum atraso.<br />\n",
    "Indicadores do tipo oscilador emitem seus sinais antes das reversões."
   ]
  },
  {
   "cell_type": "code",
   "execution_count": null,
   "id": "binary-receptor",
   "metadata": {},
   "outputs": [],
   "source": [
    "import pandas as pd\n",
    "import numpy as np\n",
    "import datetime\n",
    "import yfinance as yf\n",
    "import plotly\n",
    "import plotly.offline as plo\n",
    "import plotly.graph_objs as plg\n",
    "import plotly.express as plx\n",
    "import plotly.subplots as pls\n",
    "from scipy.stats import norm\n",
    "\n",
    "pd.options.mode.copy_on_write = True"
   ]
  },
  {
   "cell_type": "markdown",
   "id": "established-patch",
   "metadata": {},
   "source": [
    "### Funções de Configurações Gráficas\n",
    "Funções para configurações base de gráficos e exibição."
   ]
  },
  {
   "cell_type": "code",
   "execution_count": null,
   "id": "creative-arrival",
   "metadata": {},
   "outputs": [],
   "source": [
    "def Plot_Formato(fig, title):\n",
    "    title={'text': title, 'xanchor': 'center', 'yanchor': 'bottom', 'y':0, 'x':0.5,}\n",
    "    \n",
    "    fig.update_layout(title=title, \n",
    "            xaxis_rangeslider_visible=False,  width=1280, height=720,\n",
    "            xaxis_showgrid=True, xaxis_gridwidth=1, xaxis_gridcolor='#E8E8E8',\n",
    "            yaxis_showgrid=True, yaxis_gridwidth=1, yaxis_gridcolor='#E8E8E8',\n",
    "            plot_bgcolor='rgba(0,0,0,0)')\n",
    "    \n",
    "def Plot_Show(data, title):\n",
    "    fig = plg.Figure(data=data)\n",
    "\n",
    "    Plot_Formato(fig, title)\n",
    "\n",
    "    fig.show()   "
   ]
  },
  {
   "cell_type": "markdown",
   "id": "aging-holocaust",
   "metadata": {},
   "source": [
    "### Leitura de Dados de Ativos\n",
    "Realiza a leitura online de dados de ativos financeiros."
   ]
  },
  {
   "cell_type": "code",
   "execution_count": null,
   "id": "needed-animation",
   "metadata": {},
   "outputs": [],
   "source": [
    "Acao = \"CPLE3.SA\"\n",
    "Periodo_Inicio = datetime.datetime(2019,1,1)\n",
    "Periodo_Termino = datetime.datetime(2021,2,10)"
   ]
  },
  {
   "cell_type": "code",
   "execution_count": null,
   "id": "divine-notebook",
   "metadata": {},
   "outputs": [],
   "source": [
    "Dados = yf.download(Acao, start=Periodo_Inicio, end=Periodo_Termino)"
   ]
  },
  {
   "cell_type": "code",
   "execution_count": null,
   "id": "affecting-patrol",
   "metadata": {},
   "outputs": [],
   "source": [
    "Dados"
   ]
  },
  {
   "cell_type": "markdown",
   "id": "quantitative-aberdeen",
   "metadata": {},
   "source": [
    "### Análise dos Preços\n",
    "Candlestick da série de preços do ativo."
   ]
  },
  {
   "cell_type": "code",
   "execution_count": null,
   "id": "excessive-camera",
   "metadata": {},
   "outputs": [],
   "source": [
    "SeriePrecos = plg.Figure(plg.Scatter(x=Dados.index, y=Dados[\"Close\", Acao]))\n",
    "SeriePrecos.update_layout(yaxis_tickformat=\".2f\")\n",
    "Plot_Show(SeriePrecos, \"Preços\")"
   ]
  },
  {
   "cell_type": "code",
   "execution_count": null,
   "id": "dense-omega",
   "metadata": {},
   "outputs": [],
   "source": [
    "CandlePrecos = plg.Figure(plg.Candlestick(x=Dados.index,\n",
    "                                          open=Dados[\"Open\", Acao],\n",
    "                                          high=Dados[\"High\", Acao],\n",
    "                                          low=Dados[\"Low\", Acao],\n",
    "                                          close=Dados[\"Close\", Acao]))\n",
    "CandlePrecos.update_layout(yaxis_tickformat=\".2f\")\n",
    "Plot_Show(CandlePrecos, \"Preços\")"
   ]
  },
  {
   "cell_type": "markdown",
   "id": "opened-french",
   "metadata": {},
   "source": [
    "### Cálculo do RSI e séries de sinais\n",
    "O RSI é baseado em médias simples comumente para períodos de 14 dias, conforme a seguinte equiação:\n",
    "- Ganho Médio = (Média Ganhos 14d * 13 + Média Atual) / 14 \n",
    "- Perda Média = (Média Perdas 14d * 13 + Média Atual) / 14 \n",
    "- Força Relativa = Ganho Médio / Perda Média \n",
    "- Índice = 100 - 100 / (1 + Força Relativa) \n",
    "\n",
    "\n",
    "O índice terá assim um valor entre 0 e 100, indicando:\n",
    "- Regiões de Sobre Compra (ativo caro) na faixa de 70 a 100.\n",
    "- Regiões de Sobre Venda (ativo barato) na faixa de 0 a 30."
   ]
  },
  {
   "cell_type": "code",
   "execution_count": null,
   "id": "cardiac-chicago",
   "metadata": {},
   "outputs": [],
   "source": [
    "JanelaDeTempo = 14"
   ]
  },
  {
   "cell_type": "code",
   "execution_count": null,
   "id": "green-intervention",
   "metadata": {},
   "outputs": [],
   "source": [
    "Dados[\"Retorno\", Acao] = Dados[\"Close\", Acao].pct_change().fillna(0)"
   ]
  },
  {
   "cell_type": "markdown",
   "id": "alternative-macintosh",
   "metadata": {},
   "source": [
    "- Separação dos Ganhos e Perdas"
   ]
  },
  {
   "cell_type": "code",
   "execution_count": null,
   "id": "sensitive-playback",
   "metadata": {},
   "outputs": [],
   "source": [
    "Dados[\"Ganhos\", Acao] = Dados[\"Retorno\", Acao][Dados[\"Retorno\", Acao] > 0]\n",
    "Dados[\"Ganhos\", Acao] = Dados[\"Ganhos\", Acao].fillna(0)"
   ]
  },
  {
   "cell_type": "code",
   "execution_count": null,
   "id": "greater-lease",
   "metadata": {},
   "outputs": [],
   "source": [
    "Dados[\"Perdas\", Acao] = Dados[\"Retorno\", Acao][Dados[\"Retorno\", Acao] < 0] * (-1)\n",
    "Dados[\"Perdas\", Acao] = Dados[\"Perdas\", Acao].fillna(0)"
   ]
  },
  {
   "cell_type": "code",
   "execution_count": null,
   "id": "figured-mistress",
   "metadata": {},
   "outputs": [],
   "source": [
    "Dados[\"GanhoMedio\", Acao] = 0.00\n",
    "Dados[\"PerdaMedia\", Acao] = 0.00"
   ]
  },
  {
   "cell_type": "markdown",
   "id": "later-central",
   "metadata": {},
   "source": [
    "- Média Simples dia-a-dia usando 14 dias anteriores"
   ]
  },
  {
   "cell_type": "code",
   "execution_count": null,
   "id": "promising-server",
   "metadata": {},
   "outputs": [],
   "source": [
    "Dados[\"GanhoMedio\", Acao] = Dados[\"Ganhos\", Acao].rolling(JanelaDeTempo).mean()"
   ]
  },
  {
   "cell_type": "code",
   "execution_count": null,
   "id": "intense-given",
   "metadata": {},
   "outputs": [],
   "source": [
    "Dados[\"PerdaMedia\", Acao] = Dados[\"Perdas\", Acao].rolling(JanelaDeTempo).mean()"
   ]
  },
  {
   "cell_type": "markdown",
   "id": "gorgeous-norwegian",
   "metadata": {},
   "source": [
    "- Cálculo do Índice"
   ]
  },
  {
   "cell_type": "code",
   "execution_count": null,
   "id": "acting-formula",
   "metadata": {},
   "outputs": [],
   "source": [
    "for i in range(JanelaDeTempo, len(Dados)):\n",
    "    Dados.iloc[i][\"GanhoMedio\", Acao] = (Dados.iloc[i-1][\"GanhoMedio\", Acao] * (JanelaDeTempo - 1) + Dados.iloc[i][\"Ganhos\", Acao]) / JanelaDeTempo\n",
    "    Dados.iloc[i][\"PerdaMedia\", Acao] = (Dados.iloc[i-1][\"PerdaMedia\", Acao] * (JanelaDeTempo - 1) + Dados.iloc[i][\"Perdas\", Acao]) / JanelaDeTempo\n",
    "\n",
    "Dados[\"RSI\", Acao] = 100 - (100 / (1 + (Dados[\"GanhoMedio\", Acao] / Dados[\"PerdaMedia\", Acao])))"
   ]
  },
  {
   "cell_type": "code",
   "execution_count": null,
   "id": "9307dfaf-387a-45eb-bb75-50dd88582142",
   "metadata": {},
   "outputs": [],
   "source": [
    "Dados.head(20)"
   ]
  },
  {
   "cell_type": "code",
   "execution_count": null,
   "id": "physical-position",
   "metadata": {},
   "outputs": [],
   "source": [
    "SerieRSI = pls.make_subplots(rows=2, cols=1)\n",
    "SerieRSI.add_trace(plg.Candlestick(x=Dados.index,\n",
    "                                   open=Dados[\"Open\", Acao],\n",
    "                                   high=Dados[\"High\", Acao],\n",
    "                                   low=Dados[\"Low\", Acao],\n",
    "                                   close=Dados[\"Close\", Acao],\n",
    "                                   name=\"Preços\",\n",
    "                                   opacity=0.5), 1, 1)\n",
    "SerieRSI.add_trace(plg.Scatter(mode=\"lines\",\n",
    "                               x=Dados.index,\n",
    "                               y=Dados[\"RSI\", Acao],\n",
    "                               name=\"RSI\"), 2, 1)\n",
    "SerieRSI.update_layout(xaxis2 = dict(domain=[0, 1]),\n",
    "                       yaxis2 = dict(domain=[0, 0.45],\n",
    "                                     range=[0, 100]),\n",
    "                      shapes=[{\"xref\": \"x2\",\n",
    "                               \"yref\": \"y2\",\n",
    "                               \"x0\": Dados.index[0],\n",
    "                               \"y0\": 30,\n",
    "                               \"x1\": Dados.index[-1],\n",
    "                               \"y1\": 30,\n",
    "                               \"line\": {\"width\": 1,\n",
    "                                        \"dash\": \"dot\",\n",
    "                                        \"color\": \"green\"}},\n",
    "                             {\"xref\": \"x2\",\n",
    "                               \"yref\": \"y2\",\n",
    "                               \"x0\": Dados.index[0],\n",
    "                               \"y0\": 70,\n",
    "                               \"x1\": Dados.index[-1],\n",
    "                               \"y1\": 70,\n",
    "                               \"line\": {\"width\": 1,\n",
    "                                        \"dash\": \"dot\",\n",
    "                                        \"color\": \"green\"}}])\n",
    "Plot_Show(SerieRSI, \"Preços & RSI\")"
   ]
  },
  {
   "cell_type": "code",
   "execution_count": null,
   "id": "thick-spain",
   "metadata": {},
   "outputs": [],
   "source": []
  }
 ],
 "metadata": {
  "kernelspec": {
   "display_name": "Python 3 (ipykernel)",
   "language": "python",
   "name": "python3"
  },
  "language_info": {
   "codemirror_mode": {
    "name": "ipython",
    "version": 3
   },
   "file_extension": ".py",
   "mimetype": "text/x-python",
   "name": "python",
   "nbconvert_exporter": "python",
   "pygments_lexer": "ipython3",
   "version": "3.13.2"
  }
 },
 "nbformat": 4,
 "nbformat_minor": 5
}
