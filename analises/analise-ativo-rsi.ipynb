{
 "cells": [
  {
   "cell_type": "markdown",
   "id": "thousand-causing",
   "metadata": {},
   "source": [
    "# Índice de Força Relativa (RSI - Relative Strenght Index)\n",
    "O indicador RSI é bastante popular pois mede a força de um ativo pelas mudanças de preços de fechamento, sendo utilizado como um indicador oscilador.<br />\n",
    "Os indicadores baseados em médias móveis são mais classificados como indicadores de tendências, e naturalmente emitem seus sinais com algum atraso.<br />\n",
    "Indicadores do tipo oscilador emitem seus sinais antes das reversões."
   ]
  },
  {
   "cell_type": "code",
   "execution_count": null,
   "id": "finite-temple",
   "metadata": {},
   "outputs": [],
   "source": [
    "import pandas as pd\n",
    "import numpy as np\n",
    "import datetime\n",
    "import pandas_datareader as pdr\n",
    "import plotly\n",
    "import plotly.offline as plo\n",
    "import plotly.graph_objs as plg\n",
    "import plotly.express as plx\n",
    "import plotly.subplots as pls\n",
    "from scipy.stats import norm"
   ]
  },
  {
   "cell_type": "markdown",
   "id": "dress-agent",
   "metadata": {},
   "source": [
    "### Funções de Configurações Gráficas\n",
    "Funções para configurações base de gráficos e exibição."
   ]
  },
  {
   "cell_type": "code",
   "execution_count": null,
   "id": "analyzed-dating",
   "metadata": {},
   "outputs": [],
   "source": [
    "def Plot_Formato(fig, title):\n",
    "    title={'text': title, 'xanchor': 'center', 'yanchor': 'bottom', 'y':0, 'x':0.5,}\n",
    "    \n",
    "    fig.update_layout(title=title, \n",
    "            xaxis_rangeslider_visible=False,  width=1280, height=720,\n",
    "            xaxis_showgrid=True, xaxis_gridwidth=1, xaxis_gridcolor='#E8E8E8',\n",
    "            yaxis_showgrid=True, yaxis_gridwidth=1, yaxis_gridcolor='#E8E8E8',\n",
    "            plot_bgcolor='rgba(0,0,0,0)')\n",
    "    \n",
    "def Plot_Show(data, title):\n",
    "    fig = plg.Figure(data=data)\n",
    "\n",
    "    Plot_Formato(fig, title)\n",
    "\n",
    "    fig.show()   "
   ]
  },
  {
   "cell_type": "markdown",
   "id": "third-charity",
   "metadata": {},
   "source": [
    "### Leitura de Dados de Ativos\n",
    "Realiza a leitura online de dados de ativos financeiros."
   ]
  },
  {
   "cell_type": "code",
   "execution_count": null,
   "id": "arbitrary-macedonia",
   "metadata": {},
   "outputs": [],
   "source": [
    "Acoes = \"CPLE3.SA\"\n",
    "Periodo_Inicio = datetime.datetime(2019,1,1)\n",
    "Periodo_Termino = datetime.datetime(2021,2,10)"
   ]
  },
  {
   "cell_type": "code",
   "execution_count": null,
   "id": "lined-darwin",
   "metadata": {},
   "outputs": [],
   "source": [
    "Dados = pdr.get_data_yahoo(Acoes, start=Periodo_Inicio, end=Periodo_Termino)"
   ]
  },
  {
   "cell_type": "code",
   "execution_count": null,
   "id": "reverse-commitment",
   "metadata": {},
   "outputs": [],
   "source": [
    "Dados"
   ]
  },
  {
   "cell_type": "markdown",
   "id": "rapid-spain",
   "metadata": {},
   "source": [
    "### Análise dos Preços\n",
    "Candlestick da série de preços do ativo."
   ]
  },
  {
   "cell_type": "code",
   "execution_count": null,
   "id": "improved-greeting",
   "metadata": {},
   "outputs": [],
   "source": [
    "SeriePrecos = plg.Figure(plg.Scatter(x=Dados.index, y=Dados.Close))\n",
    "SeriePrecos.update_layout(yaxis_tickformat=\".2f\")\n",
    "Plot_Show(SeriePrecos, \"Preços\")"
   ]
  },
  {
   "cell_type": "code",
   "execution_count": null,
   "id": "focal-alignment",
   "metadata": {},
   "outputs": [],
   "source": [
    "CandlePrecos = plg.Figure(plg.Candlestick(x=Dados.index,\n",
    "                                          open=Dados.Open,\n",
    "                                          high=Dados.High,\n",
    "                                          low=Dados.Low,\n",
    "                                          close=Dados.Close))\n",
    "CandlePrecos.update_layout(yaxis_tickformat=\".2f\")\n",
    "Plot_Show(CandlePrecos, \"Preços\")"
   ]
  },
  {
   "cell_type": "markdown",
   "id": "dominant-mongolia",
   "metadata": {},
   "source": [
    "### Cálculo do RSI e séries de sinais\n",
    "O RSI é baseado em médias simples comumente para períodos de 14 dias, conforme a seguinte equiação:<br />\n",
    "<br />\n",
    "Força Relativa = Média de Ganhos / Média de Perdas\n",
    "Índice = 100 - 100 / (1 + Força Relativa)\n",
    "<br />\n",
    "O índice terá assim um valor entre 0 e 100, indicando:\n",
    "- Regiões de Sobre Compra (ativo caro) na faixa de 70 a 100.\n",
    "- Regiões de Sobre Venda (ativo barato) na faixa de 0 a 30."
   ]
  },
  {
   "cell_type": "code",
   "execution_count": null,
   "id": "superior-digest",
   "metadata": {},
   "outputs": [],
   "source": [
    "JanelaDeTempo = 14"
   ]
  },
  {
   "cell_type": "code",
   "execution_count": null,
   "id": "positive-michigan",
   "metadata": {},
   "outputs": [],
   "source": [
    "Dados[\"Retorno\"] = Dados[\"Adj Close\"].pct_change().fillna(0)"
   ]
  },
  {
   "cell_type": "markdown",
   "id": "breeding-private",
   "metadata": {},
   "source": [
    "- Separação dos Ganhos e Perdas"
   ]
  },
  {
   "cell_type": "code",
   "execution_count": null,
   "id": "quarterly-mirror",
   "metadata": {},
   "outputs": [],
   "source": [
    "Dados[\"Ganhos\"] = Dados.Retorno[Dados.Retorno > 0]\n",
    "Dados.Ganhos = Dados.Ganhos.fillna(0)"
   ]
  },
  {
   "cell_type": "code",
   "execution_count": null,
   "id": "actual-funds",
   "metadata": {},
   "outputs": [],
   "source": [
    "Dados[\"Perdas\"] = Dados.Retorno[Dados.Retorno < 0] * (-1)\n",
    "Dados.Perdas = Dados.Perdas.fillna(0)"
   ]
  },
  {
   "cell_type": "code",
   "execution_count": null,
   "id": "transsexual-attribute",
   "metadata": {},
   "outputs": [],
   "source": [
    "Dados[\"GanhoMedio\"] = 0\n",
    "Dados[\"PerdaMedia\"] = 0"
   ]
  },
  {
   "cell_type": "markdown",
   "id": "olympic-bradford",
   "metadata": {},
   "source": [
    "- Média Simples dia-a-dia usando 14 dias anteriores"
   ]
  },
  {
   "cell_type": "code",
   "execution_count": null,
   "id": "treated-dublin",
   "metadata": {},
   "outputs": [],
   "source": [
    "Dados.GanhoMedio = Dados.Ganhos.rolling(JanelaDeTempo).mean()"
   ]
  },
  {
   "cell_type": "code",
   "execution_count": null,
   "id": "weekly-taste",
   "metadata": {},
   "outputs": [],
   "source": [
    "Dados.PerdaMedia = Dados.Perdas.rolling(JanelaDeTempo).mean()"
   ]
  },
  {
   "cell_type": "markdown",
   "id": "joined-favorite",
   "metadata": {},
   "source": [
    "- Cálculo do Índice"
   ]
  },
  {
   "cell_type": "code",
   "execution_count": null,
   "id": "academic-parliament",
   "metadata": {},
   "outputs": [],
   "source": [
    "for i in range(JanelaDeTempo, len(Dados)):\n",
    "    Dados.GanhoMedio[i] = (Dados.GanhoMedio[i-1] * (JanelaDeTempo - 1) + Dados.Ganhos[i]) / JanelaDeTempo\n",
    "    Dados.PerdaMedia[i] = (Dados.PerdaMedia[i-1] * (JanelaDeTempo - 1) + Dados.Perdas[i]) / JanelaDeTempo\n",
    "\n",
    "Dados[\"RSI\"] = 100 - (100 / (1 + (Dados.GanhoMedio / Dados.PerdaMedia)))"
   ]
  },
  {
   "cell_type": "code",
   "execution_count": null,
   "id": "bigger-motivation",
   "metadata": {},
   "outputs": [],
   "source": [
    "SerieRSI = pls.make_subplots(rows=2, cols=1)\n",
    "SerieRSI.add_trace(plg.Candlestick(x=Dados.index,\n",
    "                                   open=Dados.Open,\n",
    "                                   high=Dados.High,\n",
    "                                   low=Dados.Low,\n",
    "                                   close=Dados.Close,\n",
    "                                   name=\"Preços\",\n",
    "                                   opacity=0.5), 1, 1)\n",
    "SerieRSI.add_trace(plg.Scatter(mode=\"lines\",\n",
    "                               x=Dados.index,\n",
    "                               y=Dados.RSI,\n",
    "                               name=\"RSI\"), 2, 1)\n",
    "SerieRSI.update_layout(xaxis2 = dict(domain=[0, 1]),\n",
    "                       yaxis2 = dict(domain=[0, 0.45],\n",
    "                                     range=[0, 100]),\n",
    "                      shapes=[{\"xref\": \"x2\",\n",
    "                               \"yref\": \"y2\",\n",
    "                               \"x0\": Dados.index[0],\n",
    "                               \"y0\": 30,\n",
    "                               \"x1\": Dados.index[-1],\n",
    "                               \"y1\": 30,\n",
    "                               \"line\": {\"width\": 1,\n",
    "                                        \"dash\": \"dot\",\n",
    "                                        \"color\": \"green\"}},\n",
    "                             {\"xref\": \"x2\",\n",
    "                               \"yref\": \"y2\",\n",
    "                               \"x0\": Dados.index[0],\n",
    "                               \"y0\": 70,\n",
    "                               \"x1\": Dados.index[-1],\n",
    "                               \"y1\": 70,\n",
    "                               \"line\": {\"width\": 1,\n",
    "                                        \"dash\": \"dot\",\n",
    "                                        \"color\": \"green\"}}])\n",
    "Plot_Show(SerieRSI, \"Preços & RSI\")"
   ]
  },
  {
   "cell_type": "code",
   "execution_count": null,
   "id": "social-alarm",
   "metadata": {},
   "outputs": [],
   "source": []
  }
 ],
 "metadata": {
  "kernelspec": {
   "display_name": "Python 3",
   "language": "python",
   "name": "python3"
  },
  "language_info": {
   "codemirror_mode": {
    "name": "ipython",
    "version": 3
   },
   "file_extension": ".py",
   "mimetype": "text/x-python",
   "name": "python",
   "nbconvert_exporter": "python",
   "pygments_lexer": "ipython3",
   "version": "3.7.9"
  }
 },
 "nbformat": 4,
 "nbformat_minor": 5
}
