{
 "cells": [
  {
   "cell_type": "markdown",
   "id": "following-consumption",
   "metadata": {},
   "source": [
    "# Análise de Portfólio\n",
    "Análise de portfólio de Mínimo Risco com técnicas de VaR (Value at Risk), otimização por simulações."
   ]
  },
  {
   "cell_type": "code",
   "execution_count": null,
   "id": "optional-section",
   "metadata": {},
   "outputs": [],
   "source": [
    "import pandas as pd\n",
    "import numpy as np\n",
    "import datetime\n",
    "import pandas_datareader as pdr\n",
    "import plotly\n",
    "import plotly.offline as plo\n",
    "import plotly.graph_objs as plg\n",
    "import plotly.express as plx\n",
    "from scipy.stats import norm"
   ]
  },
  {
   "cell_type": "markdown",
   "id": "middle-hours",
   "metadata": {},
   "source": [
    "### Funções de Configurações Gráficas\n",
    "Funções para configurações base de gráficos e exibição."
   ]
  },
  {
   "cell_type": "code",
   "execution_count": null,
   "id": "preliminary-reaction",
   "metadata": {},
   "outputs": [],
   "source": [
    "def Plot_Formato(fig, title):\n",
    "    title={'text': title, 'xanchor': 'center', 'yanchor': 'bottom', 'y':0, 'x':0.5,}\n",
    "    \n",
    "    fig.update_layout(title=title, \n",
    "            xaxis_rangeslider_visible=False,  width=1280, height=720,\n",
    "            xaxis_showgrid=True, xaxis_gridwidth=1, xaxis_gridcolor='#E8E8E8',\n",
    "            yaxis_showgrid=True, yaxis_gridwidth=1, yaxis_gridcolor='#E8E8E8',\n",
    "            plot_bgcolor='rgba(0,0,0,0)')\n",
    "    \n",
    "def Plot_Show(data, title):\n",
    "    fig = plg.Figure(data=data)\n",
    "\n",
    "    Plot_Formato(fig, title)\n",
    "\n",
    "    fig.show()   "
   ]
  },
  {
   "cell_type": "markdown",
   "id": "collect-composite",
   "metadata": {},
   "source": [
    "### Leitura de Dados de Ativos\n",
    "Realiza a leitura online de dados de ativos financeiros."
   ]
  },
  {
   "cell_type": "code",
   "execution_count": null,
   "id": "latter-assault",
   "metadata": {},
   "outputs": [],
   "source": [
    "Acoes = [\"ITUB4.SA\", \"CPLE3.SA\", \"LREN3.SA\", \"EMBR3.SA\", \"PSSA3.SA\", \"GOAU4.SA\"]\n",
    "Pesos = {\"ITUB4.SA\":0.10, \"CPLE3.SA\":0.20, \"LREN3.SA\":0.20, \"EMBR3.SA\":0.10, \"PSSA3.SA\":0.10, \"GOAU4.SA\":0.30}\n",
    "\n",
    "Periodo_Inicio = datetime.datetime(2016,1,1)\n",
    "Periodo_Termino = datetime.datetime(2021,2,10)"
   ]
  },
  {
   "cell_type": "code",
   "execution_count": null,
   "id": "demonstrated-anaheim",
   "metadata": {},
   "outputs": [],
   "source": [
    "DadosAcoes = pdr.get_data_yahoo(Acoes, start=Periodo_Inicio, end=Periodo_Termino)"
   ]
  },
  {
   "cell_type": "code",
   "execution_count": null,
   "id": "spatial-velvet",
   "metadata": {},
   "outputs": [],
   "source": [
    "Dados = DadosAcoes[\"Adj Close\"]"
   ]
  },
  {
   "cell_type": "code",
   "execution_count": null,
   "id": "baking-substance",
   "metadata": {},
   "outputs": [],
   "source": [
    "Dados"
   ]
  },
  {
   "cell_type": "markdown",
   "id": "developed-biotechnology",
   "metadata": {},
   "source": [
    "### Fronteira Eficiente\n",
    "Calcula o retorno esperado para um portfólio e cria fronteira eficiente simulando 10.000 portfólios."
   ]
  },
  {
   "cell_type": "markdown",
   "id": "multiple-ordinance",
   "metadata": {},
   "source": [
    "- Retorno dos Ativos"
   ]
  },
  {
   "cell_type": "code",
   "execution_count": null,
   "id": "jewish-summer",
   "metadata": {},
   "outputs": [],
   "source": [
    "RetornoDosAtivos = Dados.pct_change().fillna(0)"
   ]
  },
  {
   "cell_type": "code",
   "execution_count": null,
   "id": "consistent-suite",
   "metadata": {},
   "outputs": [],
   "source": [
    "RetornoDosAtivos"
   ]
  },
  {
   "cell_type": "markdown",
   "id": "personal-feeding",
   "metadata": {},
   "source": [
    "- Retorno do Portfólio"
   ]
  },
  {
   "cell_type": "code",
   "execution_count": null,
   "id": "promotional-approach",
   "metadata": {},
   "outputs": [],
   "source": [
    "RetornoDosAtivos[\"Portfolio\"] = RetornoDosAtivos.dot(list(Pesos.values()))"
   ]
  },
  {
   "cell_type": "code",
   "execution_count": null,
   "id": "daily-market",
   "metadata": {},
   "outputs": [],
   "source": [
    "RetornoDosAtivos"
   ]
  },
  {
   "cell_type": "markdown",
   "id": "imported-volleyball",
   "metadata": {},
   "source": [
    "- Retorno Médio Diário Esperado"
   ]
  },
  {
   "cell_type": "code",
   "execution_count": null,
   "id": "written-sunset",
   "metadata": {},
   "outputs": [],
   "source": [
    "RetornoMedioDiario = RetornoDosAtivos[\"Portfolio\"].mean()"
   ]
  },
  {
   "cell_type": "code",
   "execution_count": null,
   "id": "separate-chrome",
   "metadata": {},
   "outputs": [],
   "source": [
    "print(\"Retorno Médio Diário do Portfólio: {0:.2%}\".format(RetornoMedioDiario))"
   ]
  },
  {
   "cell_type": "markdown",
   "id": "unlike-romania",
   "metadata": {},
   "source": [
    "- Retorno Médio Mensal Esperado"
   ]
  },
  {
   "cell_type": "code",
   "execution_count": null,
   "id": "bored-values",
   "metadata": {},
   "outputs": [],
   "source": [
    "RetornoMedioMensal = Dados.resample(\"M\").last().pct_change().dot(list(Pesos.values())).mean()"
   ]
  },
  {
   "cell_type": "code",
   "execution_count": null,
   "id": "awful-mistress",
   "metadata": {},
   "outputs": [],
   "source": [
    "print(\"Retorno Médio Mensal do Portfólio: {0:.2%}\".format(RetornoMedioMensal))"
   ]
  },
  {
   "cell_type": "markdown",
   "id": "alike-counter",
   "metadata": {},
   "source": [
    "- Retorno Médio Anualizado Esperado"
   ]
  },
  {
   "cell_type": "code",
   "execution_count": null,
   "id": "three-academy",
   "metadata": {},
   "outputs": [],
   "source": [
    "RetornoMedioAnualizado = Dados.resample(\"Y\").last().pct_change().dot(list(Pesos.values())).mean()"
   ]
  },
  {
   "cell_type": "code",
   "execution_count": null,
   "id": "instant-innocent",
   "metadata": {},
   "outputs": [],
   "source": [
    "print(\"Retorno Médio Anualizado do Portfólio: {0:.2%}\".format(RetornoMedioAnualizado))"
   ]
  },
  {
   "cell_type": "markdown",
   "id": "vocational-yield",
   "metadata": {},
   "source": [
    "- Risco do Portfólio pelo Desvio"
   ]
  },
  {
   "cell_type": "code",
   "execution_count": null,
   "id": "advisory-fashion",
   "metadata": {},
   "outputs": [],
   "source": [
    "RiscoPorDesvio = RetornoDosAtivos[\"Portfolio\"].std()"
   ]
  },
  {
   "cell_type": "code",
   "execution_count": null,
   "id": "british-replacement",
   "metadata": {},
   "outputs": [],
   "source": [
    "RiscoPorDesvioDiario = RiscoPorDesvio\n",
    "RiscoPorDesvioMensal = RiscoPorDesvio * np.sqrt(21)\n",
    "RiscoPorDesvioAnualizado = RiscoPorDesvio * np.sqrt(252)"
   ]
  },
  {
   "cell_type": "code",
   "execution_count": null,
   "id": "secret-designation",
   "metadata": {},
   "outputs": [],
   "source": [
    "print(\"Risco Diário do Portfólio: {0:.2%}\".format(RiscoPorDesvioDiario))\n",
    "print(\"Risco Mensal do Portfólio: {0:.2%}\".format(RiscoPorDesvioMensal))\n",
    "print(\"Risco Anualizado do Portfólio: {0:.2%}\".format(RiscoPorDesvioAnualizado))"
   ]
  },
  {
   "cell_type": "markdown",
   "id": "settled-citizen",
   "metadata": {},
   "source": [
    "- Riscos do Portfólio com Value at Risk Histórico"
   ]
  },
  {
   "cell_type": "code",
   "execution_count": null,
   "id": "ideal-anthony",
   "metadata": {},
   "outputs": [],
   "source": [
    "RiscoPorVarHistorico = np.quantile(RetornoDosAtivos[\"Portfolio\"], 0.05)"
   ]
  },
  {
   "cell_type": "code",
   "execution_count": null,
   "id": "eight-chancellor",
   "metadata": {},
   "outputs": [],
   "source": [
    "RiscoPorVarHistoricoDiario = RiscoPorVarHistorico\n",
    "RiscoPorVarHistoricoMensal = RiscoPorVarHistorico * np.sqrt(21)\n",
    "RiscoPorVarHistoricoAnualizado = RiscoPorVarHistorico * np.sqrt(252)"
   ]
  },
  {
   "cell_type": "code",
   "execution_count": null,
   "id": "designed-wages",
   "metadata": {},
   "outputs": [],
   "source": [
    "print(\"Risco Diário do Portfólio: {0:.2%}\".format(RiscoPorVarHistoricoDiario))\n",
    "print(\"Risco Mensal do Portfólio: {0:.2%}\".format(RiscoPorVarHistoricoMensal))\n",
    "print(\"Risco Anualizado do Portfólio: {0:.2%}\".format(RiscoPorVarHistoricoAnualizado))"
   ]
  },
  {
   "cell_type": "markdown",
   "id": "alone-auckland",
   "metadata": {},
   "source": [
    "- Riscos do Portfólio com Value at Risk Paramétrico"
   ]
  },
  {
   "cell_type": "code",
   "execution_count": null,
   "id": "lined-macro",
   "metadata": {},
   "outputs": [],
   "source": [
    "RiscoPorVarParam = RetornoMedioDiario - norm.ppf(0.95) * RiscoPorDesvio"
   ]
  },
  {
   "cell_type": "code",
   "execution_count": null,
   "id": "adaptive-relaxation",
   "metadata": {},
   "outputs": [],
   "source": [
    "RiscoPorVarParamDiario = RiscoPorVarParam\n",
    "RiscoPorVarParamMensal = RiscoPorVarParam * np.sqrt(21)\n",
    "RiscoPorVarParamAnualizado = RiscoPorVarParam * np.sqrt(252)"
   ]
  },
  {
   "cell_type": "code",
   "execution_count": null,
   "id": "dying-trunk",
   "metadata": {},
   "outputs": [],
   "source": [
    "print(\"Risco Diário do Portfólio: {0:.2%}\".format(RiscoPorVarParamDiario))\n",
    "print(\"Risco Mensal do Portfólio: {0:.2%}\".format(RiscoPorVarParamMensal))\n",
    "print(\"Risco Anualizado do Portfólio: {0:.2%}\".format(RiscoPorVarParamAnualizado))"
   ]
  },
  {
   "cell_type": "markdown",
   "id": "supposed-discharge",
   "metadata": {},
   "source": [
    "### Simulação de Portfólios\n",
    "Simula um número de portfólios baseado nos seguintes parâmetros:\n",
    "- Ativos: Dataframe com Ativos e seus preços.\n",
    "- NumPortfolios: Número de portfólios à simular."
   ]
  },
  {
   "cell_type": "code",
   "execution_count": null,
   "id": "furnished-orlando",
   "metadata": {},
   "outputs": [],
   "source": [
    "def SimularPortfolios(Ativos, NumPortfolios):\n",
    "    RetornosSimulados = []\n",
    "    RiscosSimulados = []\n",
    "    VaR_Hist_Simulados = []\n",
    "    VaR_Param_Simulados = []\n",
    "    PesosSimulados = []\n",
    "    NumAtivos = len(Ativos.columns)\n",
    "    \n",
    "    # Retorno dos Ativos\n",
    "    Ativos = Ativos.pct_change().fillna(0)\n",
    "\n",
    "    # Simulações\n",
    "    for portfolio in range(NumPortfolios):\n",
    "\n",
    "        # Simula pesos para um portfólio\n",
    "        Pesos = np.random.random(NumAtivos)\n",
    "        Pesos = Pesos/np.sum(Pesos)\n",
    "        PesosSimulados.append(Pesos)\n",
    "        \n",
    "        # Retorno do Portfólio simulado\n",
    "        Retornos = Ativos.dot(Pesos).values\n",
    "        Retorno = Retornos.mean()\n",
    "        RetornosSimulados.append(Retorno)\n",
    "        \n",
    "        # Risco do portfólio simulado\n",
    "        Risco = Retornos.std()\n",
    "        VaR_Hist = np.quantile(Retornos, 0.05)\n",
    "        VaR_Param = Retornos.mean() - norm.ppf(0.95) * Retornos.std()\n",
    "       \n",
    "        RiscosSimulados.append(Risco)\n",
    "        VaR_Hist_Simulados.append(VaR_Hist)\n",
    "        VaR_Param_Simulados.append(VaR_Param)\n",
    "\n",
    "    # Dataframe dos Portfólios simulados\n",
    "    Simulacoes = {\"Retorno\":RetornosSimulados, \"Risco\":RiscosSimulados, \"VaR_Hist\":VaR_Hist_Simulados, \"VaR_Param\":VaR_Param_Simulados}\n",
    "    for counter, symbol in enumerate(Ativos.columns.tolist()):\n",
    "        Simulacoes[symbol] = [w[counter] for w in PesosSimulados]\n",
    "    \n",
    "    Portfolios = pd.DataFrame(Simulacoes)\n",
    "    return(Portfolios)"
   ]
  },
  {
   "cell_type": "code",
   "execution_count": null,
   "id": "technical-savannah",
   "metadata": {},
   "outputs": [],
   "source": [
    "Portfolios = SimularPortfolios(Dados, 10000)"
   ]
  },
  {
   "cell_type": "code",
   "execution_count": null,
   "id": "alpha-remove",
   "metadata": {},
   "outputs": [],
   "source": [
    "Portfolios"
   ]
  },
  {
   "cell_type": "markdown",
   "id": "exterior-crawford",
   "metadata": {},
   "source": [
    "- Performance de cada Portfólio"
   ]
  },
  {
   "cell_type": "code",
   "execution_count": null,
   "id": "contrary-garlic",
   "metadata": {},
   "outputs": [],
   "source": [
    "Portfolios[\"Sharpe\"] = Portfolios[\"Retorno\"] / Portfolios[\"Risco\"]"
   ]
  },
  {
   "cell_type": "code",
   "execution_count": null,
   "id": "adaptive-dream",
   "metadata": {},
   "outputs": [],
   "source": [
    "Portfolios"
   ]
  },
  {
   "cell_type": "markdown",
   "id": "original-shepherd",
   "metadata": {},
   "source": [
    "### Análise dos Portfólios Simulados\n",
    "Análise de posicionamento dos portfólios simulados"
   ]
  },
  {
   "cell_type": "markdown",
   "id": "prime-review",
   "metadata": {},
   "source": [
    "- Portfólio de Maior Retorno"
   ]
  },
  {
   "cell_type": "code",
   "execution_count": null,
   "id": "sublime-organic",
   "metadata": {},
   "outputs": [],
   "source": [
    "PortfolioMaiorRetorno = Portfolios.iloc[Portfolios[\"Retorno\"].idxmax()]"
   ]
  },
  {
   "cell_type": "code",
   "execution_count": null,
   "id": "joined-pathology",
   "metadata": {},
   "outputs": [],
   "source": [
    "PortfolioMaiorRetorno"
   ]
  },
  {
   "cell_type": "markdown",
   "id": "parallel-transcript",
   "metadata": {},
   "source": [
    "- Portfólio de Menor Risco"
   ]
  },
  {
   "cell_type": "code",
   "execution_count": null,
   "id": "essential-designer",
   "metadata": {},
   "outputs": [],
   "source": [
    "PortfolioMenorRisco = Portfolios.iloc[Portfolios[\"Risco\"].idxmin()]"
   ]
  },
  {
   "cell_type": "code",
   "execution_count": null,
   "id": "variable-france",
   "metadata": {},
   "outputs": [],
   "source": [
    "PortfolioMenorRisco"
   ]
  },
  {
   "cell_type": "markdown",
   "id": "minus-ghana",
   "metadata": {},
   "source": [
    "- Portfólio de Melhor Performance"
   ]
  },
  {
   "cell_type": "code",
   "execution_count": null,
   "id": "numerous-salvation",
   "metadata": {},
   "outputs": [],
   "source": [
    "PortfolioMelhorSharpe = Portfolios.iloc[Portfolios[\"Sharpe\"].idxmax()]"
   ]
  },
  {
   "cell_type": "code",
   "execution_count": null,
   "id": "associate-pioneer",
   "metadata": {},
   "outputs": [],
   "source": [
    "PortfolioMelhorSharpe"
   ]
  },
  {
   "cell_type": "markdown",
   "id": "downtown-hughes",
   "metadata": {},
   "source": [
    "- Análise de posicionamento Risco vs Retorno"
   ]
  },
  {
   "cell_type": "code",
   "execution_count": null,
   "id": "brazilian-marker",
   "metadata": {},
   "outputs": [],
   "source": [
    "FronteiraEficiente = plg.Figure()\n",
    "\n",
    "FronteiraEficiente.add_trace(plg.Scatter(x=Portfolios[\"Risco\"],\n",
    "                                         y=Portfolios[\"Retorno\"],\n",
    "                                         mode=\"markers\", marker_symbol=\"circle\", marker_opacity=0.5,\n",
    "                                         name=\"Portfolios Simulados\"))\n",
    "FronteiraEficiente.add_trace(plg.Scatter(x=[PortfolioMenorRisco[\"Risco\"]],\n",
    "                                         y=[PortfolioMenorRisco[\"Retorno\"]],\n",
    "                                         mode=\"markers\", marker_symbol=\"star\", marker_size=20,\n",
    "                                         name=\"Menor Risco\"))\n",
    "FronteiraEficiente.add_trace(plg.Scatter(x=[PortfolioMaiorRetorno[\"Risco\"]],\n",
    "                                         y=[PortfolioMaiorRetorno[\"Retorno\"]],\n",
    "                                         mode=\"markers\", marker_symbol=\"star\", marker_size=20,\n",
    "                                         name=\"Maior Retorno\"))\n",
    "FronteiraEficiente.add_trace(plg.Scatter(x=[PortfolioMelhorSharpe[\"Risco\"]],\n",
    "                                         y=[PortfolioMelhorSharpe[\"Retorno\"]],\n",
    "                                         mode=\"markers\", marker_symbol=\"star\", marker_size=20,\n",
    "                                         name=\"Maior Sharpe\"))\n",
    "FronteiraEficiente.update_layout(xaxis_tickformat=\".2%\", yaxis_tickformat=\".2%\")\n",
    "Plot_Show(FronteiraEficiente, \"Portfólios Simulados\")"
   ]
  },
  {
   "cell_type": "markdown",
   "id": "oriental-shakespeare",
   "metadata": {},
   "source": [
    "- Portfólio de Menor VaR Histórico"
   ]
  },
  {
   "cell_type": "code",
   "execution_count": null,
   "id": "laden-shape",
   "metadata": {},
   "outputs": [],
   "source": [
    "PortfolioMelhorVarH = Portfolios.iloc[Portfolios[\"VaR_Hist\"].idxmax()]"
   ]
  },
  {
   "cell_type": "code",
   "execution_count": null,
   "id": "varied-multiple",
   "metadata": {},
   "outputs": [],
   "source": [
    "PortfolioMelhorVarH"
   ]
  },
  {
   "cell_type": "markdown",
   "id": "continued-prompt",
   "metadata": {},
   "source": [
    "- Portfólio de Menor VaR Paramétrico"
   ]
  },
  {
   "cell_type": "code",
   "execution_count": null,
   "id": "former-token",
   "metadata": {},
   "outputs": [],
   "source": [
    "PortfolioMelhorVarP = Portfolios.iloc[Portfolios[\"VaR_Param\"].idxmax()]"
   ]
  },
  {
   "cell_type": "code",
   "execution_count": null,
   "id": "pointed-database",
   "metadata": {},
   "outputs": [],
   "source": [
    "PortfolioMelhorVarP"
   ]
  },
  {
   "cell_type": "markdown",
   "id": "synthetic-touch",
   "metadata": {},
   "source": [
    "- Análise de posicionamento Risco vs Retorno baseado em VaR Histórico"
   ]
  },
  {
   "cell_type": "code",
   "execution_count": null,
   "id": "suitable-commitment",
   "metadata": {},
   "outputs": [],
   "source": [
    "FronteiraEficiente = plg.Figure()\n",
    "\n",
    "FronteiraEficiente.add_trace(plg.Scatter(x=Portfolios[\"VaR_Hist\"],\n",
    "                                         y=Portfolios[\"Retorno\"],\n",
    "                                         mode=\"markers\", marker_symbol=\"circle\", marker_opacity=0.5,\n",
    "                                         name=\"Portfolios Simulados\"))\n",
    "FronteiraEficiente.add_trace(plg.Scatter(x=[PortfolioMenorRisco[\"VaR_Hist\"]],\n",
    "                                         y=[PortfolioMenorRisco[\"Retorno\"]],\n",
    "                                         mode=\"markers\", marker_symbol=\"star\", marker_size=20,\n",
    "                                         name=\"Menor Risco\"))\n",
    "FronteiraEficiente.add_trace(plg.Scatter(x=[PortfolioMelhorVarH[\"VaR_Hist\"]],\n",
    "                                         y=[PortfolioMelhorVarH[\"Retorno\"]],\n",
    "                                         mode=\"markers\", marker_symbol=\"star\", marker_size=20,\n",
    "                                         name=\"Menor VaR HIstórico\"))\n",
    "FronteiraEficiente.add_trace(plg.Scatter(x=[PortfolioMelhorVarP[\"VaR_Hist\"]],\n",
    "                                         y=[PortfolioMelhorVarP[\"Retorno\"]],\n",
    "                                         mode=\"markers\", marker_symbol=\"star\", marker_size=20,\n",
    "                                         name=\"Menor VaR Paramétrico\"))\n",
    "FronteiraEficiente.add_trace(plg.Scatter(x=[PortfolioMaiorRetorno[\"VaR_Hist\"]],\n",
    "                                         y=[PortfolioMaiorRetorno[\"Retorno\"]],\n",
    "                                         mode=\"markers\", marker_symbol=\"star\", marker_size=20,\n",
    "                                         name=\"Maior Retorno\"))\n",
    "FronteiraEficiente.add_trace(plg.Scatter(x=[PortfolioMelhorSharpe[\"VaR_Hist\"]],\n",
    "                                         y=[PortfolioMelhorSharpe[\"Retorno\"]],\n",
    "                                         mode=\"markers\", marker_symbol=\"star\", marker_size=20,\n",
    "                                         name=\"Maior Sharpe\"))\n",
    "FronteiraEficiente.update_layout(xaxis_tickformat=\".2%\", yaxis_tickformat=\".2%\")\n",
    "Plot_Show(FronteiraEficiente, \"Portfólios Simulados\")"
   ]
  },
  {
   "cell_type": "markdown",
   "id": "caring-issue",
   "metadata": {},
   "source": [
    "- Análise de posicionamento Risco vs Retorno baseado em VaR Paramétrico"
   ]
  },
  {
   "cell_type": "code",
   "execution_count": null,
   "id": "interstate-latex",
   "metadata": {},
   "outputs": [],
   "source": [
    "FronteiraEficiente = plg.Figure()\n",
    "\n",
    "FronteiraEficiente.add_trace(plg.Scatter(x=Portfolios[\"VaR_Param\"],\n",
    "                                         y=Portfolios[\"Retorno\"],\n",
    "                                         mode=\"markers\", marker_symbol=\"circle\", marker_opacity=0.5,\n",
    "                                         name=\"Portfolios Simulados\"))\n",
    "FronteiraEficiente.add_trace(plg.Scatter(x=[PortfolioMenorRisco[\"VaR_Param\"]],\n",
    "                                         y=[PortfolioMenorRisco[\"Retorno\"]],\n",
    "                                         mode=\"markers\", marker_symbol=\"star\", marker_size=20,\n",
    "                                         name=\"Menor Risco\"))\n",
    "FronteiraEficiente.add_trace(plg.Scatter(x=[PortfolioMelhorVarH[\"VaR_Param\"]],\n",
    "                                         y=[PortfolioMelhorVarH[\"Retorno\"]],\n",
    "                                         mode=\"markers\", marker_symbol=\"star\", marker_size=20,\n",
    "                                         name=\"Menor VaR HIstórico\"))\n",
    "FronteiraEficiente.add_trace(plg.Scatter(x=[PortfolioMelhorVarP[\"VaR_Param\"]],\n",
    "                                         y=[PortfolioMelhorVarP[\"Retorno\"]],\n",
    "                                         mode=\"markers\", marker_symbol=\"star\", marker_size=20,\n",
    "                                         name=\"Menor VaR Paramétrico\"))\n",
    "FronteiraEficiente.add_trace(plg.Scatter(x=[PortfolioMaiorRetorno[\"VaR_Param\"]],\n",
    "                                         y=[PortfolioMaiorRetorno[\"Retorno\"]],\n",
    "                                         mode=\"markers\", marker_symbol=\"star\", marker_size=20,\n",
    "                                         name=\"Maior Retorno\"))\n",
    "FronteiraEficiente.add_trace(plg.Scatter(x=[PortfolioMelhorSharpe[\"VaR_Param\"]],\n",
    "                                         y=[PortfolioMelhorSharpe[\"Retorno\"]],\n",
    "                                         mode=\"markers\", marker_symbol=\"star\", marker_size=20,\n",
    "                                         name=\"Maior Sharpe\"))\n",
    "FronteiraEficiente.update_layout(xaxis_tickformat=\".2%\", yaxis_tickformat=\".2%\")\n",
    "Plot_Show(FronteiraEficiente, \"Portfólios Simulados\")"
   ]
  },
  {
   "cell_type": "code",
   "execution_count": null,
   "id": "second-baptist",
   "metadata": {},
   "outputs": [],
   "source": []
  }
 ],
 "metadata": {
  "kernelspec": {
   "display_name": "Python 3",
   "language": "python",
   "name": "python3"
  },
  "language_info": {
   "codemirror_mode": {
    "name": "ipython",
    "version": 3
   },
   "file_extension": ".py",
   "mimetype": "text/x-python",
   "name": "python",
   "nbconvert_exporter": "python",
   "pygments_lexer": "ipython3",
   "version": "3.7.9"
  }
 },
 "nbformat": 4,
 "nbformat_minor": 5
}
