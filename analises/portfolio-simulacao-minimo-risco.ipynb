{
 "cells": [
  {
   "cell_type": "markdown",
   "id": "removed-sentence",
   "metadata": {},
   "source": [
    "# Análise de Portfólio\n",
    "Análise de portfólio de Mínimo Risco com técnicas de VaR (Value at Risk), otimização por simulações."
   ]
  },
  {
   "cell_type": "code",
   "execution_count": null,
   "id": "alpine-republic",
   "metadata": {},
   "outputs": [],
   "source": [
    "import pandas as pd\n",
    "import numpy as np\n",
    "import datetime\n",
    "import pandas_datareader as pdr\n",
    "import plotly\n",
    "import plotly.offline as plo\n",
    "import plotly.graph_objs as plg\n",
    "import plotly.express as plx\n",
    "from scipy.stats import norm"
   ]
  },
  {
   "cell_type": "markdown",
   "id": "upset-growth",
   "metadata": {},
   "source": [
    "### Funções de Configurações Gráficas\n",
    "Funções para configurações base de gráficos e exibição."
   ]
  },
  {
   "cell_type": "code",
   "execution_count": null,
   "id": "humanitarian-yukon",
   "metadata": {},
   "outputs": [],
   "source": [
    "def Plot_Formato(fig, title):\n",
    "    title={'text': title, 'xanchor': 'center', 'yanchor': 'bottom', 'y':0, 'x':0.5,}\n",
    "    \n",
    "    fig.update_layout(title=title, \n",
    "            xaxis_rangeslider_visible=False,  width=1280, height=720,\n",
    "            xaxis_showgrid=True, xaxis_gridwidth=1, xaxis_gridcolor='#E8E8E8',\n",
    "            yaxis_showgrid=True, yaxis_gridwidth=1, yaxis_gridcolor='#E8E8E8',\n",
    "            plot_bgcolor='rgba(0,0,0,0)')\n",
    "    \n",
    "def Plot_Show(data, title):\n",
    "    fig = plg.Figure(data=data)\n",
    "\n",
    "    Plot_Formato(fig, title)\n",
    "\n",
    "    fig.show()   "
   ]
  },
  {
   "cell_type": "markdown",
   "id": "indirect-violin",
   "metadata": {},
   "source": [
    "### Leitura de Dados de Ativos\n",
    "Realiza a leitura online de dados de ativos financeiros."
   ]
  },
  {
   "cell_type": "code",
   "execution_count": null,
   "id": "attended-vaccine",
   "metadata": {},
   "outputs": [],
   "source": [
    "Pesos = {\"ITUB4.SA\":0.10, \"CPLE3.SA\":0.20, \"LREN3.SA\":0.20, \"EMBR3.SA\":0.10, \"PSSA3.SA\":0.10, \"GOAU4.SA\":0.30}\n",
    "\n",
    "Periodo_Inicio = datetime.datetime(2016,1,1)\n",
    "Periodo_Termino = datetime.datetime(2021,2,10)"
   ]
  },
  {
   "cell_type": "code",
   "execution_count": null,
   "id": "american-ecology",
   "metadata": {},
   "outputs": [],
   "source": [
    "DadosAcoes = pdr.get_data_yahoo(list(Pesos.keys()), start=Periodo_Inicio, end=Periodo_Termino)"
   ]
  },
  {
   "cell_type": "code",
   "execution_count": null,
   "id": "distinguished-status",
   "metadata": {},
   "outputs": [],
   "source": [
    "Dados = DadosAcoes[\"Adj Close\"]"
   ]
  },
  {
   "cell_type": "code",
   "execution_count": null,
   "id": "harmful-detector",
   "metadata": {},
   "outputs": [],
   "source": [
    "Dados"
   ]
  },
  {
   "cell_type": "markdown",
   "id": "medieval-kidney",
   "metadata": {},
   "source": [
    "### Indicadores de Portfólio e Risco Máximo Esperado\n",
    "Calcula indicadores de retorno esperado e risco com uso de Value at Risk."
   ]
  },
  {
   "cell_type": "markdown",
   "id": "mineral-basketball",
   "metadata": {},
   "source": [
    "- Retorno dos Ativos"
   ]
  },
  {
   "cell_type": "code",
   "execution_count": null,
   "id": "offshore-kenya",
   "metadata": {},
   "outputs": [],
   "source": [
    "RetornoDosAtivos = Dados.pct_change().fillna(0)"
   ]
  },
  {
   "cell_type": "code",
   "execution_count": null,
   "id": "inner-curve",
   "metadata": {},
   "outputs": [],
   "source": [
    "RetornoDosAtivos"
   ]
  },
  {
   "cell_type": "markdown",
   "id": "urban-principal",
   "metadata": {},
   "source": [
    "- Retorno do Portfólio"
   ]
  },
  {
   "cell_type": "code",
   "execution_count": null,
   "id": "expensive-thunder",
   "metadata": {},
   "outputs": [],
   "source": [
    "RetornoDosAtivos[\"Portfolio\"] = RetornoDosAtivos.dot(list(Pesos.values()))"
   ]
  },
  {
   "cell_type": "code",
   "execution_count": null,
   "id": "prepared-resort",
   "metadata": {},
   "outputs": [],
   "source": [
    "RetornoDosAtivos"
   ]
  },
  {
   "cell_type": "markdown",
   "id": "reported-intranet",
   "metadata": {},
   "source": [
    "- Retorno Médio Diário Esperado"
   ]
  },
  {
   "cell_type": "code",
   "execution_count": null,
   "id": "rapid-process",
   "metadata": {},
   "outputs": [],
   "source": [
    "RetornoMedioDiario = RetornoDosAtivos[\"Portfolio\"].mean()"
   ]
  },
  {
   "cell_type": "code",
   "execution_count": null,
   "id": "sixth-audio",
   "metadata": {},
   "outputs": [],
   "source": [
    "print(\"Retorno Médio Diário do Portfólio: {0:.2%}\".format(RetornoMedioDiario))"
   ]
  },
  {
   "cell_type": "markdown",
   "id": "necessary-excess",
   "metadata": {},
   "source": [
    "- Retorno Médio Mensal Esperado"
   ]
  },
  {
   "cell_type": "code",
   "execution_count": null,
   "id": "associate-polls",
   "metadata": {},
   "outputs": [],
   "source": [
    "RetornoMedioMensal = Dados.resample(\"M\").last().pct_change().dot(list(Pesos.values())).mean()"
   ]
  },
  {
   "cell_type": "code",
   "execution_count": null,
   "id": "ultimate-struggle",
   "metadata": {},
   "outputs": [],
   "source": [
    "print(\"Retorno Médio Mensal do Portfólio: {0:.2%}\".format(RetornoMedioMensal))"
   ]
  },
  {
   "cell_type": "markdown",
   "id": "thirty-quarterly",
   "metadata": {},
   "source": [
    "- Retorno Médio Anualizado Esperado"
   ]
  },
  {
   "cell_type": "code",
   "execution_count": null,
   "id": "ranging-thinking",
   "metadata": {},
   "outputs": [],
   "source": [
    "RetornoMedioAnualizado = Dados.resample(\"Y\").last().pct_change().dot(list(Pesos.values())).mean()"
   ]
  },
  {
   "cell_type": "code",
   "execution_count": null,
   "id": "armed-colon",
   "metadata": {},
   "outputs": [],
   "source": [
    "print(\"Retorno Médio Anualizado do Portfólio: {0:.2%}\".format(RetornoMedioAnualizado))"
   ]
  },
  {
   "cell_type": "markdown",
   "id": "boolean-department",
   "metadata": {},
   "source": [
    "- Risco do Portfólio pelo Desvio"
   ]
  },
  {
   "cell_type": "code",
   "execution_count": null,
   "id": "micro-graphic",
   "metadata": {},
   "outputs": [],
   "source": [
    "RiscoPorDesvio = RetornoDosAtivos[\"Portfolio\"].std()"
   ]
  },
  {
   "cell_type": "code",
   "execution_count": null,
   "id": "welcome-mitchell",
   "metadata": {},
   "outputs": [],
   "source": [
    "RiscoPorDesvioDiario = RiscoPorDesvio\n",
    "RiscoPorDesvioMensal = RiscoPorDesvio * np.sqrt(21)\n",
    "RiscoPorDesvioAnualizado = RiscoPorDesvio * np.sqrt(252)"
   ]
  },
  {
   "cell_type": "code",
   "execution_count": null,
   "id": "wired-smooth",
   "metadata": {},
   "outputs": [],
   "source": [
    "print(\"Risco Diário do Portfólio: {0:.2%}\".format(RiscoPorDesvioDiario))\n",
    "print(\"Risco Mensal do Portfólio: {0:.2%}\".format(RiscoPorDesvioMensal))\n",
    "print(\"Risco Anualizado do Portfólio: {0:.2%}\".format(RiscoPorDesvioAnualizado))"
   ]
  },
  {
   "cell_type": "markdown",
   "id": "nonprofit-narrow",
   "metadata": {},
   "source": [
    "- Riscos do Portfólio com Value at Risk Histórico"
   ]
  },
  {
   "cell_type": "code",
   "execution_count": null,
   "id": "variable-smith",
   "metadata": {},
   "outputs": [],
   "source": [
    "RiscoPorVarHistorico = np.quantile(RetornoDosAtivos[\"Portfolio\"], 0.05)"
   ]
  },
  {
   "cell_type": "code",
   "execution_count": null,
   "id": "attached-glory",
   "metadata": {},
   "outputs": [],
   "source": [
    "RiscoPorVarHistoricoDiario = RiscoPorVarHistorico\n",
    "RiscoPorVarHistoricoMensal = RiscoPorVarHistorico * np.sqrt(21)\n",
    "RiscoPorVarHistoricoAnualizado = RiscoPorVarHistorico * np.sqrt(252)"
   ]
  },
  {
   "cell_type": "code",
   "execution_count": null,
   "id": "manual-brick",
   "metadata": {},
   "outputs": [],
   "source": [
    "print(\"Risco Diário do Portfólio: {0:.2%}\".format(RiscoPorVarHistoricoDiario))\n",
    "print(\"Risco Mensal do Portfólio: {0:.2%}\".format(RiscoPorVarHistoricoMensal))\n",
    "print(\"Risco Anualizado do Portfólio: {0:.2%}\".format(RiscoPorVarHistoricoAnualizado))"
   ]
  },
  {
   "cell_type": "markdown",
   "id": "checked-japan",
   "metadata": {},
   "source": [
    "- Riscos do Portfólio com Value at Risk Paramétrico"
   ]
  },
  {
   "cell_type": "code",
   "execution_count": null,
   "id": "smoking-wildlife",
   "metadata": {},
   "outputs": [],
   "source": [
    "RiscoPorVarParam = RetornoMedioDiario - norm.ppf(0.95) * RiscoPorDesvio"
   ]
  },
  {
   "cell_type": "code",
   "execution_count": null,
   "id": "acknowledged-twist",
   "metadata": {},
   "outputs": [],
   "source": [
    "RiscoPorVarParamDiario = RiscoPorVarParam\n",
    "RiscoPorVarParamMensal = RiscoPorVarParam * np.sqrt(21)\n",
    "RiscoPorVarParamAnualizado = RiscoPorVarParam * np.sqrt(252)"
   ]
  },
  {
   "cell_type": "code",
   "execution_count": null,
   "id": "suburban-vampire",
   "metadata": {},
   "outputs": [],
   "source": [
    "print(\"Risco Diário do Portfólio: {0:.2%}\".format(RiscoPorVarParamDiario))\n",
    "print(\"Risco Mensal do Portfólio: {0:.2%}\".format(RiscoPorVarParamMensal))\n",
    "print(\"Risco Anualizado do Portfólio: {0:.2%}\".format(RiscoPorVarParamAnualizado))"
   ]
  },
  {
   "cell_type": "markdown",
   "id": "classical-tokyo",
   "metadata": {},
   "source": [
    "### Simulação de Portfólios\n",
    "Simula um número de portfólios baseado nos seguintes parâmetros:\n",
    "- Ativos: Dataframe com Ativos e seus preços.\n",
    "- NumPortfolios: Número de portfólios à simular."
   ]
  },
  {
   "cell_type": "code",
   "execution_count": null,
   "id": "attractive-neighbor",
   "metadata": {},
   "outputs": [],
   "source": [
    "def SimularPortfolios(Ativos, NumPortfolios):\n",
    "    RetornosSimulados = []\n",
    "    RiscosSimulados = []\n",
    "    VaR_Hist_Simulados = []\n",
    "    VaR_Param_Simulados = []\n",
    "    PesosSimulados = []\n",
    "    NumAtivos = len(Ativos.columns)\n",
    "    \n",
    "    # Retorno dos Ativos\n",
    "    Ativos = Ativos.pct_change().fillna(0)\n",
    "\n",
    "    # Simulações\n",
    "    for portfolio in range(NumPortfolios):\n",
    "\n",
    "        # Simula pesos para um portfólio\n",
    "        Pesos = np.random.random(NumAtivos)\n",
    "        Pesos = Pesos/np.sum(Pesos)\n",
    "        PesosSimulados.append(Pesos)\n",
    "        \n",
    "        # Retorno do Portfólio simulado\n",
    "        Retornos = Ativos.dot(Pesos).values\n",
    "        Retorno = Retornos.mean()\n",
    "        RetornosSimulados.append(Retorno)\n",
    "        \n",
    "        # Risco do portfólio simulado\n",
    "        Risco = Retornos.std()\n",
    "        VaR_Hist = np.quantile(Retornos, 0.05)\n",
    "        VaR_Param = Retornos.mean() - norm.ppf(0.95) * Retornos.std()\n",
    "       \n",
    "        RiscosSimulados.append(Risco)\n",
    "        VaR_Hist_Simulados.append(VaR_Hist)\n",
    "        VaR_Param_Simulados.append(VaR_Param)\n",
    "\n",
    "    # Dataframe dos Portfólios simulados\n",
    "    Simulacoes = {\"Retorno\":RetornosSimulados, \"Risco\":RiscosSimulados, \"VaR_Hist\":VaR_Hist_Simulados, \"VaR_Param\":VaR_Param_Simulados}\n",
    "    for counter, symbol in enumerate(Ativos.columns.tolist()):\n",
    "        Simulacoes[symbol] = [w[counter] for w in PesosSimulados]\n",
    "    \n",
    "    Portfolios = pd.DataFrame(Simulacoes)\n",
    "    return(Portfolios)"
   ]
  },
  {
   "cell_type": "code",
   "execution_count": null,
   "id": "adolescent-poultry",
   "metadata": {},
   "outputs": [],
   "source": [
    "Portfolios = SimularPortfolios(Dados, 10000)"
   ]
  },
  {
   "cell_type": "code",
   "execution_count": null,
   "id": "bulgarian-membrane",
   "metadata": {},
   "outputs": [],
   "source": [
    "Portfolios"
   ]
  },
  {
   "cell_type": "markdown",
   "id": "mexican-discipline",
   "metadata": {},
   "source": [
    "- Performance de cada Portfólio"
   ]
  },
  {
   "cell_type": "code",
   "execution_count": null,
   "id": "tropical-klein",
   "metadata": {},
   "outputs": [],
   "source": [
    "Portfolios[\"Sharpe\"] = Portfolios[\"Retorno\"] / Portfolios[\"Risco\"]"
   ]
  },
  {
   "cell_type": "code",
   "execution_count": null,
   "id": "korean-sitting",
   "metadata": {},
   "outputs": [],
   "source": [
    "Portfolios"
   ]
  },
  {
   "cell_type": "markdown",
   "id": "threaded-handbook",
   "metadata": {},
   "source": [
    "### Fronteira Eficiente com VaR\n",
    "Análise de posicionamento dos portfólios simulados."
   ]
  },
  {
   "cell_type": "markdown",
   "id": "incorporated-vacation",
   "metadata": {},
   "source": [
    "- Portfólio de Maior Retorno"
   ]
  },
  {
   "cell_type": "code",
   "execution_count": null,
   "id": "recent-genesis",
   "metadata": {},
   "outputs": [],
   "source": [
    "PortfolioMaiorRetorno = Portfolios.iloc[Portfolios[\"Retorno\"].idxmax()]"
   ]
  },
  {
   "cell_type": "code",
   "execution_count": null,
   "id": "ecological-somerset",
   "metadata": {},
   "outputs": [],
   "source": [
    "PortfolioMaiorRetorno"
   ]
  },
  {
   "cell_type": "markdown",
   "id": "packed-element",
   "metadata": {},
   "source": [
    "- Portfólio de Menor Risco"
   ]
  },
  {
   "cell_type": "code",
   "execution_count": null,
   "id": "regulation-enterprise",
   "metadata": {},
   "outputs": [],
   "source": [
    "PortfolioMenorRisco = Portfolios.iloc[Portfolios[\"Risco\"].idxmin()]"
   ]
  },
  {
   "cell_type": "code",
   "execution_count": null,
   "id": "sensitive-pattern",
   "metadata": {},
   "outputs": [],
   "source": [
    "PortfolioMenorRisco"
   ]
  },
  {
   "cell_type": "markdown",
   "id": "automotive-dealing",
   "metadata": {},
   "source": [
    "- Portfólio de Melhor Performance"
   ]
  },
  {
   "cell_type": "code",
   "execution_count": null,
   "id": "functional-movie",
   "metadata": {},
   "outputs": [],
   "source": [
    "PortfolioMelhorSharpe = Portfolios.iloc[Portfolios[\"Sharpe\"].idxmax()]"
   ]
  },
  {
   "cell_type": "code",
   "execution_count": null,
   "id": "artificial-installation",
   "metadata": {},
   "outputs": [],
   "source": [
    "PortfolioMelhorSharpe"
   ]
  },
  {
   "cell_type": "markdown",
   "id": "boolean-dodge",
   "metadata": {},
   "source": [
    "- Fronteira Eficiente usando Risco vs Retorno"
   ]
  },
  {
   "cell_type": "code",
   "execution_count": null,
   "id": "delayed-perspective",
   "metadata": {},
   "outputs": [],
   "source": [
    "FronteiraEficiente = plg.Figure()\n",
    "\n",
    "FronteiraEficiente.add_trace(plg.Scatter(x=Portfolios[\"Risco\"],\n",
    "                                         y=Portfolios[\"Retorno\"],\n",
    "                                         mode=\"markers\", marker_symbol=\"circle\", marker_opacity=0.5,\n",
    "                                         name=\"Portfolios Simulados\"))\n",
    "FronteiraEficiente.add_trace(plg.Scatter(x=[PortfolioMenorRisco[\"Risco\"]],\n",
    "                                         y=[PortfolioMenorRisco[\"Retorno\"]],\n",
    "                                         mode=\"markers\", marker_symbol=\"star\", marker_size=20,\n",
    "                                         name=\"Menor Risco\"))\n",
    "FronteiraEficiente.add_trace(plg.Scatter(x=[PortfolioMaiorRetorno[\"Risco\"]],\n",
    "                                         y=[PortfolioMaiorRetorno[\"Retorno\"]],\n",
    "                                         mode=\"markers\", marker_symbol=\"star\", marker_size=20,\n",
    "                                         name=\"Maior Retorno\"))\n",
    "FronteiraEficiente.add_trace(plg.Scatter(x=[PortfolioMelhorSharpe[\"Risco\"]],\n",
    "                                         y=[PortfolioMelhorSharpe[\"Retorno\"]],\n",
    "                                         mode=\"markers\", marker_symbol=\"star\", marker_size=20,\n",
    "                                         name=\"Maior Sharpe\"))\n",
    "FronteiraEficiente.update_layout(xaxis_tickformat=\".2%\", yaxis_tickformat=\".2%\")\n",
    "Plot_Show(FronteiraEficiente, \"Portfólios Simulados\")"
   ]
  },
  {
   "cell_type": "markdown",
   "id": "legitimate-extent",
   "metadata": {},
   "source": [
    "- Portfólio de Menor VaR Histórico"
   ]
  },
  {
   "cell_type": "code",
   "execution_count": null,
   "id": "rising-mozambique",
   "metadata": {},
   "outputs": [],
   "source": [
    "PortfolioMelhorVarH = Portfolios.iloc[Portfolios[\"VaR_Hist\"].idxmax()]"
   ]
  },
  {
   "cell_type": "code",
   "execution_count": null,
   "id": "concrete-details",
   "metadata": {},
   "outputs": [],
   "source": [
    "PortfolioMelhorVarH"
   ]
  },
  {
   "cell_type": "markdown",
   "id": "external-dakota",
   "metadata": {},
   "source": [
    "- Portfólio de Menor VaR Paramétrico"
   ]
  },
  {
   "cell_type": "code",
   "execution_count": null,
   "id": "close-massage",
   "metadata": {},
   "outputs": [],
   "source": [
    "PortfolioMelhorVarP = Portfolios.iloc[Portfolios[\"VaR_Param\"].idxmax()]"
   ]
  },
  {
   "cell_type": "code",
   "execution_count": null,
   "id": "planned-split",
   "metadata": {},
   "outputs": [],
   "source": [
    "PortfolioMelhorVarP"
   ]
  },
  {
   "cell_type": "markdown",
   "id": "prerequisite-latvia",
   "metadata": {},
   "source": [
    "- Fronteira Eficiente usando VaR Histórico vs Retorno"
   ]
  },
  {
   "cell_type": "code",
   "execution_count": null,
   "id": "premium-banks",
   "metadata": {},
   "outputs": [],
   "source": [
    "FronteiraEficiente = plg.Figure()\n",
    "\n",
    "FronteiraEficiente.add_trace(plg.Scatter(x=Portfolios[\"VaR_Hist\"],\n",
    "                                         y=Portfolios[\"Retorno\"],\n",
    "                                         mode=\"markers\", marker_symbol=\"circle\", marker_opacity=0.5,\n",
    "                                         name=\"Portfolios Simulados\"))\n",
    "FronteiraEficiente.add_trace(plg.Scatter(x=[PortfolioMenorRisco[\"VaR_Hist\"]],\n",
    "                                         y=[PortfolioMenorRisco[\"Retorno\"]],\n",
    "                                         mode=\"markers\", marker_symbol=\"star\", marker_size=20,\n",
    "                                         name=\"Menor Risco\"))\n",
    "FronteiraEficiente.add_trace(plg.Scatter(x=[PortfolioMelhorVarH[\"VaR_Hist\"]],\n",
    "                                         y=[PortfolioMelhorVarH[\"Retorno\"]],\n",
    "                                         mode=\"markers\", marker_symbol=\"star\", marker_size=20,\n",
    "                                         name=\"Menor VaR HIstórico\"))\n",
    "FronteiraEficiente.add_trace(plg.Scatter(x=[PortfolioMelhorVarP[\"VaR_Hist\"]],\n",
    "                                         y=[PortfolioMelhorVarP[\"Retorno\"]],\n",
    "                                         mode=\"markers\", marker_symbol=\"star\", marker_size=20,\n",
    "                                         name=\"Menor VaR Paramétrico\"))\n",
    "FronteiraEficiente.add_trace(plg.Scatter(x=[PortfolioMaiorRetorno[\"VaR_Hist\"]],\n",
    "                                         y=[PortfolioMaiorRetorno[\"Retorno\"]],\n",
    "                                         mode=\"markers\", marker_symbol=\"star\", marker_size=20,\n",
    "                                         name=\"Maior Retorno\"))\n",
    "FronteiraEficiente.add_trace(plg.Scatter(x=[PortfolioMelhorSharpe[\"VaR_Hist\"]],\n",
    "                                         y=[PortfolioMelhorSharpe[\"Retorno\"]],\n",
    "                                         mode=\"markers\", marker_symbol=\"star\", marker_size=20,\n",
    "                                         name=\"Maior Sharpe\"))\n",
    "FronteiraEficiente.update_layout(xaxis_tickformat=\".2%\", yaxis_tickformat=\".2%\")\n",
    "Plot_Show(FronteiraEficiente, \"Portfólios Simulados\")"
   ]
  },
  {
   "cell_type": "markdown",
   "id": "worldwide-double",
   "metadata": {},
   "source": [
    "- Fronteira Eficiente usando VaR Paramétrico vs Retorno"
   ]
  },
  {
   "cell_type": "code",
   "execution_count": null,
   "id": "sophisticated-hamburg",
   "metadata": {},
   "outputs": [],
   "source": [
    "FronteiraEficiente = plg.Figure()\n",
    "\n",
    "FronteiraEficiente.add_trace(plg.Scatter(x=Portfolios[\"VaR_Param\"],\n",
    "                                         y=Portfolios[\"Retorno\"],\n",
    "                                         mode=\"markers\", marker_symbol=\"circle\", marker_opacity=0.5,\n",
    "                                         name=\"Portfolios Simulados\"))\n",
    "FronteiraEficiente.add_trace(plg.Scatter(x=[PortfolioMenorRisco[\"VaR_Param\"]],\n",
    "                                         y=[PortfolioMenorRisco[\"Retorno\"]],\n",
    "                                         mode=\"markers\", marker_symbol=\"star\", marker_size=20,\n",
    "                                         name=\"Menor Risco\"))\n",
    "FronteiraEficiente.add_trace(plg.Scatter(x=[PortfolioMelhorVarH[\"VaR_Param\"]],\n",
    "                                         y=[PortfolioMelhorVarH[\"Retorno\"]],\n",
    "                                         mode=\"markers\", marker_symbol=\"star\", marker_size=20,\n",
    "                                         name=\"Menor VaR HIstórico\"))\n",
    "FronteiraEficiente.add_trace(plg.Scatter(x=[PortfolioMelhorVarP[\"VaR_Param\"]],\n",
    "                                         y=[PortfolioMelhorVarP[\"Retorno\"]],\n",
    "                                         mode=\"markers\", marker_symbol=\"star\", marker_size=20,\n",
    "                                         name=\"Menor VaR Paramétrico\"))\n",
    "FronteiraEficiente.add_trace(plg.Scatter(x=[PortfolioMaiorRetorno[\"VaR_Param\"]],\n",
    "                                         y=[PortfolioMaiorRetorno[\"Retorno\"]],\n",
    "                                         mode=\"markers\", marker_symbol=\"star\", marker_size=20,\n",
    "                                         name=\"Maior Retorno\"))\n",
    "FronteiraEficiente.add_trace(plg.Scatter(x=[PortfolioMelhorSharpe[\"VaR_Param\"]],\n",
    "                                         y=[PortfolioMelhorSharpe[\"Retorno\"]],\n",
    "                                         mode=\"markers\", marker_symbol=\"star\", marker_size=20,\n",
    "                                         name=\"Maior Sharpe\"))\n",
    "FronteiraEficiente.update_layout(xaxis_tickformat=\".2%\", yaxis_tickformat=\".2%\")\n",
    "Plot_Show(FronteiraEficiente, \"Portfólios Simulados\")"
   ]
  },
  {
   "cell_type": "code",
   "execution_count": null,
   "id": "informational-tucson",
   "metadata": {},
   "outputs": [],
   "source": []
  }
 ],
 "metadata": {
  "kernelspec": {
   "display_name": "Python 3",
   "language": "python",
   "name": "python3"
  },
  "language_info": {
   "codemirror_mode": {
    "name": "ipython",
    "version": 3
   },
   "file_extension": ".py",
   "mimetype": "text/x-python",
   "name": "python",
   "nbconvert_exporter": "python",
   "pygments_lexer": "ipython3",
   "version": "3.7.9"
  }
 },
 "nbformat": 4,
 "nbformat_minor": 5
}
