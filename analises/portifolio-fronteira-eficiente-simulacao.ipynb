{
 "cells": [
  {
   "cell_type": "markdown",
   "id": "printable-arctic",
   "metadata": {},
   "source": [
    "# Otimização de Portfólio\n",
    "Otimização de portfólio usando a Fronteira Eficiente."
   ]
  },
  {
   "cell_type": "code",
   "execution_count": null,
   "id": "controversial-howard",
   "metadata": {},
   "outputs": [],
   "source": [
    "import pandas as pd\n",
    "import numpy as np\n",
    "import datetime\n",
    "import pandas_datareader as pdr\n",
    "import plotly\n",
    "import plotly.offline as plo\n",
    "import plotly.graph_objs as plg\n",
    "import plotly.express as plx\n",
    "from scipy.stats import norm"
   ]
  },
  {
   "cell_type": "markdown",
   "id": "daily-priority",
   "metadata": {},
   "source": [
    "### Funções de Configurações Gráficas\n",
    "Funções para configurações base de gráficos e exibição."
   ]
  },
  {
   "cell_type": "code",
   "execution_count": null,
   "id": "hungarian-february",
   "metadata": {},
   "outputs": [],
   "source": [
    "def Plot_Formato(fig, title):\n",
    "    title={'text': title, 'xanchor': 'center', 'yanchor': 'bottom', 'y':0, 'x':0.5,}\n",
    "    \n",
    "    fig.update_layout(title=title, \n",
    "            xaxis_rangeslider_visible=False,  width=1280, height=720,\n",
    "            xaxis_showgrid=True, xaxis_gridwidth=1, xaxis_gridcolor='#E8E8E8',\n",
    "            yaxis_showgrid=True, yaxis_gridwidth=1, yaxis_gridcolor='#E8E8E8',\n",
    "            plot_bgcolor='rgba(0,0,0,0)')\n",
    "    \n",
    "def Plot_Show(data, title):\n",
    "    fig = plg.Figure(data=data)\n",
    "\n",
    "    Plot_Formato(fig, title)\n",
    "\n",
    "    fig.show()   "
   ]
  },
  {
   "cell_type": "markdown",
   "id": "designing-volume",
   "metadata": {},
   "source": [
    "### Leitura de Dados de Ativos\n",
    "Realiza a leitura online de dados de ativos financeiros."
   ]
  },
  {
   "cell_type": "code",
   "execution_count": null,
   "id": "korean-jacob",
   "metadata": {},
   "outputs": [],
   "source": [
    "Acoes = [\"ITUB4.SA\", \"CPLE3.SA\", \"LREN3.SA\", \"EMBR3.SA\", \"PSSA3.SA\", \"GOAU4.SA\"]\n",
    "Pesos = {\"ITUB4.SA\":0.10, \"CPLE3.SA\":0.20, \"LREN3.SA\":0.20, \"EMBR3.SA\":0.10, \"PSSA3.SA\":0.10, \"GOAU4.SA\":0.30}\n",
    "\n",
    "Periodo_Inicio = datetime.datetime(2016,1,1)\n",
    "Periodo_Termino = datetime.datetime(2021,2,10)"
   ]
  },
  {
   "cell_type": "code",
   "execution_count": null,
   "id": "blond-demographic",
   "metadata": {},
   "outputs": [],
   "source": [
    "DadosAcoes = pdr.get_data_yahoo(Acoes, start=Periodo_Inicio, end=Periodo_Termino)"
   ]
  },
  {
   "cell_type": "code",
   "execution_count": null,
   "id": "brown-livestock",
   "metadata": {},
   "outputs": [],
   "source": [
    "Dados = DadosAcoes[\"Adj Close\"]"
   ]
  },
  {
   "cell_type": "code",
   "execution_count": null,
   "id": "atomic-contractor",
   "metadata": {},
   "outputs": [],
   "source": [
    "Dados"
   ]
  },
  {
   "cell_type": "markdown",
   "id": "understanding-element",
   "metadata": {},
   "source": [
    "### Fronteira Eficiente\n",
    "Calcula o retorno esperado para um portfólio e cria fronteira eficiente simulando 10.000 portfólios."
   ]
  },
  {
   "cell_type": "markdown",
   "id": "upper-seafood",
   "metadata": {},
   "source": [
    "- Retorno dos Ativos"
   ]
  },
  {
   "cell_type": "code",
   "execution_count": null,
   "id": "approved-transcription",
   "metadata": {},
   "outputs": [],
   "source": [
    "DadosRetorno = Dados.pct_change().fillna(0)"
   ]
  },
  {
   "cell_type": "code",
   "execution_count": null,
   "id": "reported-gamma",
   "metadata": {},
   "outputs": [],
   "source": [
    "DadosRetorno"
   ]
  },
  {
   "cell_type": "markdown",
   "id": "dense-paintball",
   "metadata": {},
   "source": [
    "- Matriz de Covariância"
   ]
  },
  {
   "cell_type": "code",
   "execution_count": null,
   "id": "diagnostic-sperm",
   "metadata": {},
   "outputs": [],
   "source": [
    "DadosCovariancia = DadosRetorno.cov()"
   ]
  },
  {
   "cell_type": "code",
   "execution_count": null,
   "id": "adopted-fundamentals",
   "metadata": {},
   "outputs": [],
   "source": [
    "DadosCovariancia"
   ]
  },
  {
   "cell_type": "markdown",
   "id": "altered-blackberry",
   "metadata": {},
   "source": [
    "- Matriz de Correlação"
   ]
  },
  {
   "cell_type": "code",
   "execution_count": null,
   "id": "innovative-designation",
   "metadata": {},
   "outputs": [],
   "source": [
    "DadosCorrelacao = DadosRetorno.corr()"
   ]
  },
  {
   "cell_type": "code",
   "execution_count": null,
   "id": "honest-preparation",
   "metadata": {},
   "outputs": [],
   "source": [
    "DadosCorrelacao"
   ]
  },
  {
   "cell_type": "markdown",
   "id": "nasty-optimization",
   "metadata": {},
   "source": [
    "- Definição do Portfolio e Variância"
   ]
  },
  {
   "cell_type": "code",
   "execution_count": null,
   "id": "designing-concentrate",
   "metadata": {},
   "outputs": [],
   "source": [
    "PortfolioVariancia = DadosCovariancia.mul(Pesos, axis=0).mul(Pesos, axis=1).sum().sum()"
   ]
  },
  {
   "cell_type": "code",
   "execution_count": null,
   "id": "conscious-support",
   "metadata": {},
   "outputs": [],
   "source": [
    "PortfolioVariancia"
   ]
  },
  {
   "cell_type": "markdown",
   "id": "junior-correspondence",
   "metadata": {},
   "source": [
    "- Retorno Esperado do Portfólio"
   ]
  },
  {
   "cell_type": "code",
   "execution_count": null,
   "id": "bearing-documentary",
   "metadata": {},
   "outputs": [],
   "source": [
    "RetornoAnualizado = Dados.resample(\"Y\").last().pct_change().mean()"
   ]
  },
  {
   "cell_type": "code",
   "execution_count": null,
   "id": "assisted-wilderness",
   "metadata": {},
   "outputs": [],
   "source": [
    "RetornoAnualizado"
   ]
  },
  {
   "cell_type": "code",
   "execution_count": null,
   "id": "ideal-increase",
   "metadata": {},
   "outputs": [],
   "source": [
    "PortfolioRetorno = (list(Pesos.values()) * RetornoAnualizado).sum()"
   ]
  },
  {
   "cell_type": "code",
   "execution_count": null,
   "id": "younger-custody",
   "metadata": {},
   "outputs": [],
   "source": [
    "PortfolioRetorno"
   ]
  },
  {
   "cell_type": "markdown",
   "id": "subjective-deployment",
   "metadata": {},
   "source": [
    "- Simulação de Portfólios"
   ]
  },
  {
   "cell_type": "code",
   "execution_count": null,
   "id": "twelve-current",
   "metadata": {},
   "outputs": [],
   "source": [
    "RetornosSimulados = []\n",
    "RiscosSimulados = []\n",
    "PesosSimulados = []\n",
    "\n",
    "NumAtivos = len(Dados.columns)\n",
    "NumPortfolios = 10000"
   ]
  },
  {
   "cell_type": "code",
   "execution_count": null,
   "id": "worth-brighton",
   "metadata": {},
   "outputs": [],
   "source": [
    "for portfolio in range(NumPortfolios):\n",
    "    pesos = np.random.random(NumAtivos)\n",
    "    pesos = pesos/np.sum(pesos)\n",
    "    PesosSimulados.append(pesos)\n",
    "    retornos = np.dot(pesos, RetornoAnualizado)\n",
    " \n",
    "    RetornosSimulados.append(retornos)\n",
    "    var = DadosCovariancia.mul(pesos, axis=0).mul(pesos, axis=1).sum().sum()\n",
    "    sd = np.sqrt(var)\n",
    "    ann_sd = sd*np.sqrt(252)\n",
    "    RiscosSimulados.append(ann_sd)"
   ]
  },
  {
   "cell_type": "code",
   "execution_count": null,
   "id": "optical-platform",
   "metadata": {},
   "outputs": [],
   "source": [
    "data = {'Retorno':RetornosSimulados, 'Risco':RiscosSimulados}\n",
    "for counter, symbol in enumerate(Dados.columns.tolist()):\n",
    "    data[symbol] = [w[counter] for w in PesosSimulados]"
   ]
  },
  {
   "cell_type": "code",
   "execution_count": null,
   "id": "linear-dominant",
   "metadata": {},
   "outputs": [],
   "source": [
    "Portfolios = pd.DataFrame(data)\n",
    "Portfolios.head()"
   ]
  },
  {
   "cell_type": "markdown",
   "id": "verified-ideal",
   "metadata": {},
   "source": [
    "- Performance de cada Portfólio"
   ]
  },
  {
   "cell_type": "code",
   "execution_count": null,
   "id": "white-headline",
   "metadata": {},
   "outputs": [],
   "source": [
    "Portfolios[\"Sharpe\"] = Portfolios[\"Retorno\"] / Portfolios[\"Risco\"]"
   ]
  },
  {
   "cell_type": "code",
   "execution_count": null,
   "id": "dental-comedy",
   "metadata": {},
   "outputs": [],
   "source": [
    "Portfolios"
   ]
  },
  {
   "cell_type": "markdown",
   "id": "interracial-steering",
   "metadata": {},
   "source": [
    "- Fronteira Eficiente Visual"
   ]
  },
  {
   "cell_type": "code",
   "execution_count": null,
   "id": "offshore-rwanda",
   "metadata": {},
   "outputs": [],
   "source": [
    "FronteiraEficiente = plg.Figure(plg.Scatter(x=Portfolios[\"Risco\"],\n",
    "                                            y=Portfolios[\"Retorno\"],\n",
    "                                            mode=\"markers\", marker_symbol=\"circle\", marker_opacity=0.5,\n",
    "                                            name=\"Portfolios Simulados\"))\n",
    "FronteiraEficiente.update_layout(xaxis_tickformat=\".1%\", yaxis_tickformat=\".1%\")\n",
    "Plot_Show(FronteiraEficiente, \"Fronteira Eficiente\")"
   ]
  },
  {
   "cell_type": "markdown",
   "id": "likely-administration",
   "metadata": {},
   "source": [
    "- Portfólio de Menor Risco"
   ]
  },
  {
   "cell_type": "code",
   "execution_count": null,
   "id": "cordless-journal",
   "metadata": {},
   "outputs": [],
   "source": [
    "PortfolioMenorRisco = Portfolios.iloc[Portfolios[\"Risco\"].idxmin()]"
   ]
  },
  {
   "cell_type": "code",
   "execution_count": null,
   "id": "given-burns",
   "metadata": {},
   "outputs": [],
   "source": [
    "PortfolioMenorRisco"
   ]
  },
  {
   "cell_type": "markdown",
   "id": "expensive-workstation",
   "metadata": {},
   "source": [
    "- Portfólio de Maior Retorno"
   ]
  },
  {
   "cell_type": "code",
   "execution_count": null,
   "id": "absolute-treasury",
   "metadata": {},
   "outputs": [],
   "source": [
    "PortfolioMaiorRetorno = Portfolios.iloc[Portfolios[\"Retorno\"].idxmax()]"
   ]
  },
  {
   "cell_type": "code",
   "execution_count": null,
   "id": "neural-rachel",
   "metadata": {},
   "outputs": [],
   "source": [
    "PortfolioMaiorRetorno"
   ]
  },
  {
   "cell_type": "markdown",
   "id": "amateur-viewer",
   "metadata": {},
   "source": [
    "- Portfólio de Melhor Performance"
   ]
  },
  {
   "cell_type": "code",
   "execution_count": null,
   "id": "certified-viking",
   "metadata": {},
   "outputs": [],
   "source": [
    "PortfolioMelhorSharpe = Portfolios.iloc[Portfolios[\"Sharpe\"].idxmax()]"
   ]
  },
  {
   "cell_type": "code",
   "execution_count": null,
   "id": "oriented-mainstream",
   "metadata": {},
   "outputs": [],
   "source": [
    "PortfolioMelhorSharpe"
   ]
  },
  {
   "cell_type": "markdown",
   "id": "careful-individual",
   "metadata": {},
   "source": [
    "- Fronteira Eficiente com Melhores Portifólios "
   ]
  },
  {
   "cell_type": "code",
   "execution_count": null,
   "id": "outer-woman",
   "metadata": {},
   "outputs": [],
   "source": [
    "FronteiraEficiente = plg.Figure()\n",
    "\n",
    "FronteiraEficiente.add_trace(plg.Scatter(x=Portfolios[\"Risco\"],\n",
    "                                         y=Portfolios[\"Retorno\"],\n",
    "                                         mode=\"markers\", marker_symbol=\"circle\", marker_opacity=0.5,\n",
    "                                         name=\"Portfolios Simulados\"))\n",
    "FronteiraEficiente.add_trace(plg.Scatter(x=[PortfolioMenorRisco[\"Risco\"]],\n",
    "                                         y=[PortfolioMenorRisco[\"Retorno\"]],\n",
    "                                         mode=\"markers\", marker_symbol=\"star\", marker_size=20,\n",
    "                                         name=\"Menor Risco\"))\n",
    "FronteiraEficiente.add_trace(plg.Scatter(x=[PortfolioMaiorRetorno[\"Risco\"]],\n",
    "                                         y=[PortfolioMaiorRetorno[\"Retorno\"]],\n",
    "                                         mode=\"markers\", marker_symbol=\"star\", marker_size=20,\n",
    "                                         name=\"Maior Retorno\"))\n",
    "FronteiraEficiente.add_trace(plg.Scatter(x=[PortfolioMelhorSharpe[\"Risco\"]],\n",
    "                                         y=[PortfolioMelhorSharpe[\"Retorno\"]],\n",
    "                                         mode=\"markers\", marker_symbol=\"star\", marker_size=20,\n",
    "                                         name=\"Maior Sharpe\"))\n",
    "FronteiraEficiente.update_layout(xaxis_tickformat=\".1%\", yaxis_tickformat=\".1%\")\n",
    "Plot_Show(FronteiraEficiente, \"Fronteira Eficiente\")"
   ]
  },
  {
   "cell_type": "code",
   "execution_count": null,
   "id": "authorized-decimal",
   "metadata": {},
   "outputs": [],
   "source": []
  }
 ],
 "metadata": {
  "kernelspec": {
   "display_name": "Python 3",
   "language": "python",
   "name": "python3"
  },
  "language_info": {
   "codemirror_mode": {
    "name": "ipython",
    "version": 3
   },
   "file_extension": ".py",
   "mimetype": "text/x-python",
   "name": "python",
   "nbconvert_exporter": "python",
   "pygments_lexer": "ipython3",
   "version": "3.7.9"
  }
 },
 "nbformat": 4,
 "nbformat_minor": 5
}
