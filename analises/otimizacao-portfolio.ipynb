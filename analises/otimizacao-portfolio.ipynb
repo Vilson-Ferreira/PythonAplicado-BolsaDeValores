{
 "cells": [
  {
   "cell_type": "markdown",
   "id": "elect-success",
   "metadata": {},
   "source": [
    "# Otimização de Portfólio\n",
    "Otimização de portfólio usando a Fronteira Eficiente."
   ]
  },
  {
   "cell_type": "code",
   "execution_count": null,
   "id": "induced-tender",
   "metadata": {},
   "outputs": [],
   "source": [
    "import pandas as pd\n",
    "import numpy as np\n",
    "import datetime\n",
    "import pandas_datareader as pdr\n",
    "import plotly\n",
    "import plotly.offline as plo\n",
    "import plotly.graph_objs as plg\n",
    "import plotly.express as plx\n",
    "from scipy.stats import norm"
   ]
  },
  {
   "cell_type": "markdown",
   "id": "architectural-missouri",
   "metadata": {},
   "source": [
    "### Funções de Configurações Gráficas\n",
    "Funções para configurações base de gráficos e exibição."
   ]
  },
  {
   "cell_type": "code",
   "execution_count": null,
   "id": "active-engine",
   "metadata": {},
   "outputs": [],
   "source": [
    "def Plot_Formato(fig, title):\n",
    "    title={'text': title, 'xanchor': 'center', 'yanchor': 'bottom', 'y':0, 'x':0.5,}\n",
    "    \n",
    "    fig.update_layout(title=title, \n",
    "            xaxis_rangeslider_visible=False,  width=1280, height=720,\n",
    "            xaxis_showgrid=True, xaxis_gridwidth=1, xaxis_gridcolor='#E8E8E8',\n",
    "            yaxis_showgrid=True, yaxis_gridwidth=1, yaxis_gridcolor='#E8E8E8',\n",
    "            plot_bgcolor='rgba(0,0,0,0)')\n",
    "    \n",
    "def Plot_Show(data, title):\n",
    "    fig = plg.Figure(data=data)\n",
    "\n",
    "    Plot_Formato(fig, title)\n",
    "\n",
    "    fig.show()   "
   ]
  },
  {
   "cell_type": "markdown",
   "id": "warming-placement",
   "metadata": {},
   "source": [
    "### Leitura de Dados de Ativos\n",
    "Realiza a leitura online de dados de ativos financeiros."
   ]
  },
  {
   "cell_type": "code",
   "execution_count": null,
   "id": "demanding-auction",
   "metadata": {},
   "outputs": [],
   "source": [
    "#Acoes = [\"ITUB4.SA\", \"CPLE3.SA\", \"LREN3.SA\", \"EMBR3.SA\", \"PSSA3.SA\", \"GOAU4.SA\"]\n",
    "Acoes = [\"AAPL\", \"NKE\", \"GOOGL\", \"AMZN\"]\n",
    "Periodo_Inicio = datetime.datetime(2015,1,1)\n",
    "Periodo_Termino = datetime.datetime(2019,12,31)"
   ]
  },
  {
   "cell_type": "code",
   "execution_count": null,
   "id": "dependent-studio",
   "metadata": {},
   "outputs": [],
   "source": [
    "DadosAcoes = pdr.get_data_yahoo(Acoes, start=Periodo_Inicio, end=Periodo_Termino)"
   ]
  },
  {
   "cell_type": "code",
   "execution_count": null,
   "id": "appreciated-grocery",
   "metadata": {},
   "outputs": [],
   "source": [
    "Dados = DadosAcoes[\"Adj Close\"]"
   ]
  },
  {
   "cell_type": "code",
   "execution_count": null,
   "id": "steady-match",
   "metadata": {},
   "outputs": [],
   "source": [
    "Dados"
   ]
  },
  {
   "cell_type": "markdown",
   "id": "behind-flashing",
   "metadata": {},
   "source": [
    "### Fronteira Eficiente\n",
    "Calcula o retorno esperado para um portfólio e cria fronteira eficiente simulando 10.000 portfólios."
   ]
  },
  {
   "cell_type": "markdown",
   "id": "single-plumbing",
   "metadata": {},
   "source": [
    "- Retorno dos Ativos"
   ]
  },
  {
   "cell_type": "code",
   "execution_count": null,
   "id": "ordered-depression",
   "metadata": {},
   "outputs": [],
   "source": [
    "DadosRetorno = Dados.pct_change().fillna(0)"
   ]
  },
  {
   "cell_type": "code",
   "execution_count": null,
   "id": "hourly-international",
   "metadata": {},
   "outputs": [],
   "source": [
    "DadosRetorno"
   ]
  },
  {
   "cell_type": "markdown",
   "id": "restricted-linux",
   "metadata": {},
   "source": [
    "- Matriz de Covariância"
   ]
  },
  {
   "cell_type": "code",
   "execution_count": null,
   "id": "structured-heather",
   "metadata": {},
   "outputs": [],
   "source": [
    "DadosCovariancia = DadosRetorno.cov()"
   ]
  },
  {
   "cell_type": "code",
   "execution_count": null,
   "id": "compatible-george",
   "metadata": {},
   "outputs": [],
   "source": [
    "DadosCovariancia"
   ]
  },
  {
   "cell_type": "markdown",
   "id": "handled-clinic",
   "metadata": {},
   "source": [
    "- Matriz de Correlação"
   ]
  },
  {
   "cell_type": "code",
   "execution_count": null,
   "id": "given-heath",
   "metadata": {},
   "outputs": [],
   "source": [
    "DadosCorrelacao = DadosRetorno.corr()"
   ]
  },
  {
   "cell_type": "code",
   "execution_count": null,
   "id": "standard-knight",
   "metadata": {},
   "outputs": [],
   "source": [
    "DadosCorrelacao"
   ]
  },
  {
   "cell_type": "markdown",
   "id": "different-store",
   "metadata": {},
   "source": [
    "- Definição do Portfolio e Variância"
   ]
  },
  {
   "cell_type": "code",
   "execution_count": null,
   "id": "covered-subject",
   "metadata": {},
   "outputs": [],
   "source": [
    "Pesos = {'AAPL': 0.1, 'NKE': 0.2, 'GOOGL': 0.5, 'AMZN': 0.2}"
   ]
  },
  {
   "cell_type": "code",
   "execution_count": null,
   "id": "weighted-tobago",
   "metadata": {},
   "outputs": [],
   "source": [
    "PortfolioVariancia = DadosCovariancia.mul(Pesos, axis=0).mul(Pesos, axis=1).sum().sum()"
   ]
  },
  {
   "cell_type": "code",
   "execution_count": null,
   "id": "awful-trick",
   "metadata": {},
   "outputs": [],
   "source": [
    "PortfolioVariancia"
   ]
  },
  {
   "cell_type": "markdown",
   "id": "communist-anniversary",
   "metadata": {},
   "source": [
    "- Retorno Esperado do Portfólio"
   ]
  },
  {
   "cell_type": "code",
   "execution_count": null,
   "id": "alone-profile",
   "metadata": {},
   "outputs": [],
   "source": [
    "RetornoAnualizado = Dados.resample(\"Y\").last().pct_change().mean()"
   ]
  },
  {
   "cell_type": "code",
   "execution_count": null,
   "id": "lesser-moment",
   "metadata": {},
   "outputs": [],
   "source": [
    "RetornoAnualizado"
   ]
  },
  {
   "cell_type": "code",
   "execution_count": null,
   "id": "binary-atlas",
   "metadata": {},
   "outputs": [],
   "source": [
    "PortfolioRetorno = (list(Pesos.values()) * RetornoAnualizado).sum()"
   ]
  },
  {
   "cell_type": "code",
   "execution_count": null,
   "id": "decreased-pension",
   "metadata": {},
   "outputs": [],
   "source": [
    "PortfolioRetorno"
   ]
  },
  {
   "cell_type": "markdown",
   "id": "downtown-mexican",
   "metadata": {},
   "source": [
    "- Simulação de Portfólios"
   ]
  },
  {
   "cell_type": "code",
   "execution_count": null,
   "id": "complete-johnson",
   "metadata": {},
   "outputs": [],
   "source": [
    "RetornosSimulados = []\n",
    "RiscosSimulados = []\n",
    "PesosSimulados = []\n",
    "\n",
    "NumAtivos = len(Dados.columns)\n",
    "NumPortfolios = 10000"
   ]
  },
  {
   "cell_type": "code",
   "execution_count": null,
   "id": "mysterious-sucking",
   "metadata": {},
   "outputs": [],
   "source": [
    "for portfolio in range(NumPortfolios):\n",
    "    pesos = np.random.random(NumAtivos)\n",
    "    pesos = pesos/np.sum(pesos)\n",
    "    PesosSimulados.append(pesos)\n",
    "    retornos = np.dot(pesos, RetornoAnualizado)\n",
    " \n",
    "    RetornosSimulados.append(retornos)\n",
    "    var = DadosCovariancia.mul(pesos, axis=0).mul(pesos, axis=1).sum().sum()\n",
    "    sd = np.sqrt(var)\n",
    "    ann_sd = sd*np.sqrt(250)\n",
    "    RiscosSimulados.append(ann_sd)"
   ]
  },
  {
   "cell_type": "code",
   "execution_count": null,
   "id": "median-harvard",
   "metadata": {},
   "outputs": [],
   "source": [
    "data = {'Retorno':RetornosSimulados, 'Risco':RiscosSimulados}\n",
    "for counter, symbol in enumerate(Dados.columns.tolist()):\n",
    "    data[symbol] = [w[counter] for w in PesosSimulados]"
   ]
  },
  {
   "cell_type": "code",
   "execution_count": null,
   "id": "intimate-congress",
   "metadata": {},
   "outputs": [],
   "source": [
    "Portfolios = pd.DataFrame(data)\n",
    "Portfolios.head()"
   ]
  },
  {
   "cell_type": "markdown",
   "id": "ruled-liberal",
   "metadata": {},
   "source": [
    "- Performance de cada Portfólio"
   ]
  },
  {
   "cell_type": "code",
   "execution_count": null,
   "id": "retired-authorization",
   "metadata": {},
   "outputs": [],
   "source": [
    "Portfolios[\"Sharpe\"] = Portfolios[\"Retorno\"] / Portfolios[\"Risco\"]"
   ]
  },
  {
   "cell_type": "code",
   "execution_count": null,
   "id": "precise-neutral",
   "metadata": {},
   "outputs": [],
   "source": [
    "Portfolios"
   ]
  },
  {
   "cell_type": "markdown",
   "id": "distributed-intensity",
   "metadata": {},
   "source": [
    "- Fronteira Eficiente Visual"
   ]
  },
  {
   "cell_type": "code",
   "execution_count": null,
   "id": "descending-context",
   "metadata": {},
   "outputs": [],
   "source": [
    "FronteiraEficiente = plg.Figure(plg.Scatter(x=Portfolios[\"Risco\"],\n",
    "                                            y=Portfolios[\"Retorno\"],\n",
    "                                            mode=\"markers\", marker_symbol=\"circle\", marker_opacity=0.5,\n",
    "                                            name=\"Portfolios Simulados\"))\n",
    "Plot_Show(FronteiraEficiente, \"Fronteira Eficiente\")"
   ]
  },
  {
   "cell_type": "markdown",
   "id": "micro-membership",
   "metadata": {},
   "source": [
    "- Portfólio de Menor Risco"
   ]
  },
  {
   "cell_type": "code",
   "execution_count": null,
   "id": "hazardous-spirit",
   "metadata": {},
   "outputs": [],
   "source": [
    "PortfolioMenorRisco = Portfolios.iloc[Portfolios[\"Risco\"].idxmin()]"
   ]
  },
  {
   "cell_type": "code",
   "execution_count": null,
   "id": "several-elizabeth",
   "metadata": {},
   "outputs": [],
   "source": [
    "PortfolioMenorRisco"
   ]
  },
  {
   "cell_type": "markdown",
   "id": "assigned-eclipse",
   "metadata": {},
   "source": [
    "- Portfólio de Maior Retorno"
   ]
  },
  {
   "cell_type": "code",
   "execution_count": null,
   "id": "protective-zimbabwe",
   "metadata": {},
   "outputs": [],
   "source": [
    "PortfolioMaiorRetorno = Portfolios.iloc[Portfolios[\"Risco\"].idxmax()]"
   ]
  },
  {
   "cell_type": "code",
   "execution_count": null,
   "id": "bigger-butler",
   "metadata": {},
   "outputs": [],
   "source": [
    "PortfolioMaiorRetorno"
   ]
  },
  {
   "cell_type": "markdown",
   "id": "armed-hunger",
   "metadata": {},
   "source": [
    "- Portfólio de Melhor Performance"
   ]
  },
  {
   "cell_type": "code",
   "execution_count": null,
   "id": "institutional-reserve",
   "metadata": {},
   "outputs": [],
   "source": [
    "PortfolioMelhorSharpe = Portfolios.iloc[Portfolios[\"Sharpe\"].idxmax()]"
   ]
  },
  {
   "cell_type": "code",
   "execution_count": null,
   "id": "defined-carol",
   "metadata": {},
   "outputs": [],
   "source": [
    "PortfolioMelhorSharpe"
   ]
  },
  {
   "cell_type": "code",
   "execution_count": null,
   "id": "joined-programming",
   "metadata": {},
   "outputs": [],
   "source": [
    "FronteiraEficiente = plg.Figure()\n",
    "\n",
    "FronteiraEficiente.add_trace(plg.Scatter(x=Portfolios[\"Risco\"],\n",
    "                                         y=Portfolios[\"Retorno\"],\n",
    "                                         mode=\"markers\", marker_symbol=\"circle\", marker_opacity=0.5,\n",
    "                                         name=\"Portfolios Simulados\"))\n",
    "FronteiraEficiente.add_trace(plg.Scatter(x=[PortfolioMenorRisco[1]],\n",
    "                                         y=[PortfolioMenorRisco[0]],\n",
    "                                         mode=\"markers\", marker_symbol=\"star\", marker_size=20,\n",
    "                                         name=\"Menor Risco\"))\n",
    "FronteiraEficiente.add_trace(plg.Scatter(x=[PortfolioMaiorRetorno[1]],\n",
    "                                         y=[PortfolioMaiorRetorno[0]],\n",
    "                                         mode=\"markers\", marker_symbol=\"star\", marker_size=20,\n",
    "                                         name=\"Maior Retorno\"))\n",
    "FronteiraEficiente.add_trace(plg.Scatter(x=[PortfolioMelhorSharpe[1]],\n",
    "                                         y=[PortfolioMelhorSharpe[0]],\n",
    "                                         mode=\"markers\", marker_symbol=\"star\", marker_size=20,\n",
    "                                         name=\"Maior Sharpe\"))\n",
    "\n",
    "Plot_Show(FronteiraEficiente, \"Fronteira Eficiente\")"
   ]
  },
  {
   "cell_type": "code",
   "execution_count": null,
   "id": "fluid-essay",
   "metadata": {},
   "outputs": [],
   "source": []
  }
 ],
 "metadata": {
  "kernelspec": {
   "display_name": "Python 3",
   "language": "python",
   "name": "python3"
  },
  "language_info": {
   "codemirror_mode": {
    "name": "ipython",
    "version": 3
   },
   "file_extension": ".py",
   "mimetype": "text/x-python",
   "name": "python",
   "nbconvert_exporter": "python",
   "pygments_lexer": "ipython3",
   "version": "3.7.9"
  }
 },
 "nbformat": 4,
 "nbformat_minor": 5
}
