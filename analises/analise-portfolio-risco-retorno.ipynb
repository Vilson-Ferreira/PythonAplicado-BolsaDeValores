{
 "cells": [
  {
   "cell_type": "markdown",
   "id": "ruled-plaza",
   "metadata": {},
   "source": [
    "# Análise de Portfólio de Ativos\n",
    "Análise exploratória e indicadores de retorno, risco e performance de um portfólio de ativos financeiros."
   ]
  },
  {
   "cell_type": "code",
   "execution_count": null,
   "id": "alive-supply",
   "metadata": {},
   "outputs": [],
   "source": [
    "import pandas as pd\n",
    "import numpy as np\n",
    "import datetime\n",
    "import yfinance as yf\n",
    "import plotly\n",
    "import plotly.offline as plo\n",
    "import plotly.graph_objs as plg\n",
    "import plotly.express as plx\n",
    "from scipy.stats import norm"
   ]
  },
  {
   "cell_type": "markdown",
   "id": "honey-finger",
   "metadata": {},
   "source": [
    "### Funções de Configurações Gráficas\n",
    "Funções para configurações base de gráficos e exibição."
   ]
  },
  {
   "cell_type": "code",
   "execution_count": null,
   "id": "genuine-church",
   "metadata": {},
   "outputs": [],
   "source": [
    "def Plot_Formato(fig, title):\n",
    "    title={'text': title, 'xanchor': 'center', 'yanchor': 'bottom', 'y':0, 'x':0.5,}\n",
    "    \n",
    "    fig.update_layout(title=title, \n",
    "            xaxis_rangeslider_visible=False,  width=1280, height=720,\n",
    "            xaxis_showgrid=True, xaxis_gridwidth=1, xaxis_gridcolor='#E8E8E8',\n",
    "            yaxis_showgrid=True, yaxis_gridwidth=1, yaxis_gridcolor='#E8E8E8',\n",
    "            plot_bgcolor='rgba(0,0,0,0)')\n",
    "    \n",
    "def Plot_Show(data, title):\n",
    "    fig = plg.Figure(data=data)\n",
    "\n",
    "    Plot_Formato(fig, title)\n",
    "\n",
    "    fig.show()   "
   ]
  },
  {
   "cell_type": "markdown",
   "id": "fatty-operations",
   "metadata": {},
   "source": [
    "### Leitura de Dados de Ativos\n",
    "Realiza a leitura online de dados de ativos financeiros."
   ]
  },
  {
   "cell_type": "markdown",
   "id": "conditional-realtor",
   "metadata": {},
   "source": [
    "- Dados para Leitura"
   ]
  },
  {
   "cell_type": "code",
   "execution_count": null,
   "id": "freelance-abortion",
   "metadata": {},
   "outputs": [],
   "source": [
    "Pesos = {\"UNIP6.SA\":0.10, \"WIZC3.SA\":0.05, \"B3SA3.SA\":0.10, \"ITSA4.SA\":0.10, \"TUPY3.SA\":0.10\n",
    "        , \"VALE3.SA\":0.15, \"BBAS3.SA\":0.10, \"EGIE3.SA\":0.10, \"AGRO3.SA\":0.05, \"ELET6.SA\":0.15}\n",
    "\n",
    "Periodo_Inicio = datetime.datetime(2025,1,22)\n",
    "Periodo_Termino = datetime.datetime.today()\n",
    "\n",
    "InvestimentoPrevisto = 84000"
   ]
  },
  {
   "cell_type": "markdown",
   "id": "french-spotlight",
   "metadata": {},
   "source": [
    "- Dados do Portfolio"
   ]
  },
  {
   "cell_type": "code",
   "execution_count": null,
   "id": "registered-compiler",
   "metadata": {},
   "outputs": [],
   "source": [
    "Portfolio = pd.DataFrame(data={\"Acoes\":list(Pesos.keys()), \"Pesos\":list(Pesos.values())}).set_index(\"Acoes\")\n",
    "Portfolio"
   ]
  },
  {
   "cell_type": "code",
   "execution_count": null,
   "id": "graduate-income",
   "metadata": {},
   "outputs": [],
   "source": [
    "DadosAcoes = yf.download(list(Pesos.keys()), start=Periodo_Inicio, end=Periodo_Termino)"
   ]
  },
  {
   "cell_type": "code",
   "execution_count": null,
   "id": "dense-breathing",
   "metadata": {},
   "outputs": [],
   "source": [
    "Dados = DadosAcoes[\"Close\"]"
   ]
  },
  {
   "cell_type": "code",
   "execution_count": null,
   "id": "hungarian-james",
   "metadata": {},
   "outputs": [],
   "source": [
    "Dados"
   ]
  },
  {
   "cell_type": "markdown",
   "id": "rough-horror",
   "metadata": {},
   "source": [
    "### Análise descritiva dos Preços\n",
    "- Contagem de dias.\n",
    "- Média dos preços do ativo.\n",
    "- Desvio padrão dos preços.\n",
    "- Preço Mínimo.\n",
    "- Preço Máximo.\n",
    "- Quartis dos Preços."
   ]
  },
  {
   "cell_type": "code",
   "execution_count": null,
   "id": "muslim-filing",
   "metadata": {},
   "outputs": [],
   "source": [
    "Dados.describe()"
   ]
  },
  {
   "cell_type": "code",
   "execution_count": null,
   "id": "specific-lafayette",
   "metadata": {
    "scrolled": true
   },
   "outputs": [],
   "source": [
    "SeriePrecos = plg.Figure()\n",
    "\n",
    "for Acao in Pesos:\n",
    "    SeriePrecos.add_trace(plg.Scatter(x=Dados.index, y=Dados[Acao], name=Acao, mode=\"lines\"))\n",
    "\n",
    "SeriePrecos.update_layout(yaxis_tickformat=\".2f\")\n",
    "Plot_Show(SeriePrecos, \"Preços\")"
   ]
  },
  {
   "cell_type": "markdown",
   "id": "retired-activation",
   "metadata": {},
   "source": [
    "### Cálculo e análise descritiva dos Retornos\n",
    "- Retorno Médio do Ativo (Média).\n",
    "- Risco do Ativo (Desvio Padrão).\n",
    "- Maior perda do período (Mínimo).\n",
    "- Maior ganho no período (Máximo).\n",
    "- Quartis do Risco."
   ]
  },
  {
   "cell_type": "code",
   "execution_count": null,
   "id": "constant-discovery",
   "metadata": {},
   "outputs": [],
   "source": [
    "RetornoDosAtivos = Dados.pct_change().fillna(0)"
   ]
  },
  {
   "cell_type": "code",
   "execution_count": null,
   "id": "developmental-bidder",
   "metadata": {},
   "outputs": [],
   "source": [
    "RetornoDosAtivos"
   ]
  },
  {
   "cell_type": "code",
   "execution_count": null,
   "id": "furnished-thomson",
   "metadata": {},
   "outputs": [],
   "source": [
    "RetornoDosAtivos.describe()"
   ]
  },
  {
   "cell_type": "code",
   "execution_count": null,
   "id": "herbal-binding",
   "metadata": {},
   "outputs": [],
   "source": [
    "SerieRetornos = plg.Figure()\n",
    "\n",
    "for Acao in Pesos:\n",
    "    SerieRetornos.add_trace(plg.Scatter(x=RetornoDosAtivos.index, y=RetornoDosAtivos[Acao], name=Acao, mode=\"lines\"))\n",
    "    \n",
    "SerieRetornos.update_layout(yaxis_tickformat=\".1%\")\n",
    "Plot_Show(SerieRetornos, \"Retornos por Ativo\")"
   ]
  },
  {
   "cell_type": "markdown",
   "id": "compressed-quilt",
   "metadata": {},
   "source": [
    "- Análise Risco vs Retorno dos Ativos"
   ]
  },
  {
   "cell_type": "code",
   "execution_count": null,
   "id": "considerable-value",
   "metadata": {},
   "outputs": [],
   "source": [
    "DadosRiscoRetorno = RetornoDosAtivos.describe().transpose()"
   ]
  },
  {
   "cell_type": "code",
   "execution_count": null,
   "id": "opened-tenant",
   "metadata": {},
   "outputs": [],
   "source": [
    "DadosRiscoRetorno.columns = [\"Dias\", \"RetornoMedio\", \"Risco\", \"Minimo\", \"p25\", \"p50\", \"p75\", \"Maximo\"]"
   ]
  },
  {
   "cell_type": "code",
   "execution_count": null,
   "id": "tender-dover",
   "metadata": {},
   "outputs": [],
   "source": [
    "DadosRiscoRetorno"
   ]
  },
  {
   "cell_type": "code",
   "execution_count": null,
   "id": "impossible-louisville",
   "metadata": {},
   "outputs": [],
   "source": [
    "RiscoRetorno = plg.Figure(plx.scatter(DadosRiscoRetorno, x=\"Risco\", y=\"RetornoMedio\", text=DadosRiscoRetorno.index))\n",
    "RiscoRetorno.update_layout(xaxis_tickformat=\".2%\", yaxis_tickformat=\".2%\")\n",
    "RiscoRetorno.update_traces(textposition=\"top center\")\n",
    "Plot_Show(RiscoRetorno, \"Posicionamento dos Ativos\")"
   ]
  },
  {
   "cell_type": "markdown",
   "id": "bibliographic-pontiac",
   "metadata": {},
   "source": [
    "### Retorno Acumulado por Ativo\n",
    "Calcula dia-a-dia o retorno acumulado de cada ativo, sem ponderação da distribuição do portfólio, apenas usando o período."
   ]
  },
  {
   "cell_type": "code",
   "execution_count": null,
   "id": "fewer-merchant",
   "metadata": {},
   "outputs": [],
   "source": [
    "RetornoAcumuladoDosAtivos = (1+RetornoDosAtivos).cumprod()-1"
   ]
  },
  {
   "cell_type": "code",
   "execution_count": null,
   "id": "timely-inventory",
   "metadata": {},
   "outputs": [],
   "source": [
    "RetornoAcumuladoDosAtivos"
   ]
  },
  {
   "cell_type": "markdown",
   "id": "pregnant-creativity",
   "metadata": {},
   "source": [
    "Retorno Acumulado de cada ativo"
   ]
  },
  {
   "cell_type": "code",
   "execution_count": null,
   "id": "alive-width",
   "metadata": {},
   "outputs": [],
   "source": [
    "RetornoAcumuladoDosAtivos[-1:]"
   ]
  },
  {
   "cell_type": "code",
   "execution_count": null,
   "id": "meaningful-istanbul",
   "metadata": {},
   "outputs": [],
   "source": [
    "SerieRetornosAcum = plg.Figure()\n",
    "\n",
    "for Acao in Pesos:\n",
    "    SerieRetornosAcum.add_trace(plg.Scatter(x=RetornoAcumuladoDosAtivos.index, y=RetornoAcumuladoDosAtivos[Acao], name=Acao, mode=\"lines\"))\n",
    "    \n",
    "SerieRetornosAcum.update_layout(yaxis_tickformat=\".1%\")\n",
    "Plot_Show(SerieRetornosAcum, \"Retornos Acumulados por Ativos\")"
   ]
  },
  {
   "cell_type": "markdown",
   "id": "fuzzy-basketball",
   "metadata": {},
   "source": [
    "### Indicadores de cada Ativo"
   ]
  },
  {
   "cell_type": "markdown",
   "id": "binding-learning",
   "metadata": {},
   "source": [
    "- Retorno Médio (%)"
   ]
  },
  {
   "cell_type": "code",
   "execution_count": null,
   "id": "tamil-module",
   "metadata": {},
   "outputs": [],
   "source": [
    "RetornoMedioDosAtivos = RetornoDosAtivos.mean()\n",
    "np.round(RetornoMedioDosAtivos * 100, 2)"
   ]
  },
  {
   "cell_type": "markdown",
   "id": "joined-portal",
   "metadata": {},
   "source": [
    "- Retorno Acumulado"
   ]
  },
  {
   "cell_type": "code",
   "execution_count": null,
   "id": "indian-inclusion",
   "metadata": {},
   "outputs": [],
   "source": [
    "RetornoAcumulado = RetornoAcumuladoDosAtivos[-1:].transpose()\n",
    "RetornoAcumulado.columns = [\"Last\"]"
   ]
  },
  {
   "cell_type": "code",
   "execution_count": null,
   "id": "incorrect-peoples",
   "metadata": {},
   "outputs": [],
   "source": [
    "SerieRetornoAcumulado = plg.Figure(plx.bar(RetornoAcumulado, x=RetornoAcumulado.index, y=\"Last\", text=\"Last\"))\n",
    "SerieRetornoAcumulado.update_layout(yaxis_tickformat=\".1%\")\n",
    "SerieRetornoAcumulado.update_traces(texttemplate='%{text:.2%}', textposition='outside')\n",
    "Plot_Show(SerieRetornoAcumulado, \"Retorno Acumulado por Ativo\")"
   ]
  },
  {
   "cell_type": "markdown",
   "id": "permanent-tonight",
   "metadata": {},
   "source": [
    "- Risco (%)"
   ]
  },
  {
   "cell_type": "code",
   "execution_count": null,
   "id": "innocent-daughter",
   "metadata": {},
   "outputs": [],
   "source": [
    "RiscoDosAtivos = RetornoDosAtivos.std()\n",
    "np.round(RiscoDosAtivos * 100, 2)"
   ]
  },
  {
   "cell_type": "markdown",
   "id": "referenced-category",
   "metadata": {},
   "source": [
    "- Performance (Sharpe %)"
   ]
  },
  {
   "cell_type": "code",
   "execution_count": null,
   "id": "swedish-blood",
   "metadata": {},
   "outputs": [],
   "source": [
    "SharpeDosAtivos = RetornoMedioDosAtivos / RiscoDosAtivos\n",
    "np.round(SharpeDosAtivos * 100, 2)"
   ]
  },
  {
   "cell_type": "markdown",
   "id": "horizontal-salvation",
   "metadata": {},
   "source": [
    "### Retorno Acumulado do Portfólio\n",
    "Calcula dia-a-dia os retornos e retorno acumulado do portfólio, conforme distribuição nos ativos."
   ]
  },
  {
   "cell_type": "markdown",
   "id": "nuclear-spectrum",
   "metadata": {},
   "source": [
    "- Retorno dia-a-dia do portfólio"
   ]
  },
  {
   "cell_type": "code",
   "execution_count": null,
   "id": "crucial-firewall",
   "metadata": {},
   "outputs": [],
   "source": [
    "RetornosDoPortfolio = Portfolio.transpose().dot(RetornoDosAtivos.transpose()).transpose()"
   ]
  },
  {
   "cell_type": "code",
   "execution_count": null,
   "id": "previous-bicycle",
   "metadata": {},
   "outputs": [],
   "source": [
    "RetornoDosAtivos[\"Portfolio\"] = RetornosDoPortfolio[\"Pesos\"]"
   ]
  },
  {
   "cell_type": "code",
   "execution_count": null,
   "id": "specified-residence",
   "metadata": {},
   "outputs": [],
   "source": [
    "RetornoDosAtivos"
   ]
  },
  {
   "cell_type": "code",
   "execution_count": null,
   "id": "absent-possession",
   "metadata": {},
   "outputs": [],
   "source": [
    "SerieRetornos = plg.Figure(plg.Scatter(x=RetornoDosAtivos.index, y=RetornoDosAtivos[\"Portfolio\"], name=\"Portfólio\", mode=\"lines\"))\n",
    "SerieRetornos.update_layout(yaxis_tickformat=\".1%\")\n",
    "Plot_Show(SerieRetornos, \"Retorno do Portfólio\")"
   ]
  },
  {
   "cell_type": "code",
   "execution_count": null,
   "id": "significant-characterization",
   "metadata": {},
   "outputs": [],
   "source": [
    "HistogramaRetornos = plg.Figure(plg.Histogram(x=RetornoDosAtivos[\"Portfolio\"]))\n",
    "HistogramaRetornos.update_layout(xaxis_tickformat=\".1%\")\n",
    "Plot_Show(HistogramaRetornos, \"Retornos do Portfólio\")"
   ]
  },
  {
   "cell_type": "markdown",
   "id": "tough-cursor",
   "metadata": {},
   "source": [
    "- Retorno acumulado do portfólio"
   ]
  },
  {
   "cell_type": "code",
   "execution_count": null,
   "id": "signed-currency",
   "metadata": {},
   "outputs": [],
   "source": [
    "RetornoDosAtivos[\"Acumulado\"] = (1+RetornoDosAtivos[\"Portfolio\"]).cumprod()-1"
   ]
  },
  {
   "cell_type": "code",
   "execution_count": null,
   "id": "dietary-virginia",
   "metadata": {},
   "outputs": [],
   "source": [
    "RetornoDosAtivos"
   ]
  },
  {
   "cell_type": "code",
   "execution_count": null,
   "id": "boxed-brazilian",
   "metadata": {},
   "outputs": [],
   "source": [
    "RetornoDosAtivos[-1:]"
   ]
  },
  {
   "cell_type": "code",
   "execution_count": null,
   "id": "forbidden-practitioner",
   "metadata": {},
   "outputs": [],
   "source": [
    "SerieRetornos = plg.Figure(plg.Scatter(x=RetornoDosAtivos.index, y=RetornoDosAtivos[\"Acumulado\"], name=\"Portfólio\", mode=\"lines\"))\n",
    "SerieRetornos.update_layout(yaxis_tickformat=\".1%\")\n",
    "Plot_Show(SerieRetornos, \"Retorno Acumulado do Portfólio\")"
   ]
  },
  {
   "cell_type": "markdown",
   "id": "centered-joseph",
   "metadata": {},
   "source": [
    "### Indicadores do Portfólio"
   ]
  },
  {
   "cell_type": "markdown",
   "id": "offensive-league",
   "metadata": {},
   "source": [
    "- Retorno Médio"
   ]
  },
  {
   "cell_type": "code",
   "execution_count": null,
   "id": "superb-employee",
   "metadata": {},
   "outputs": [],
   "source": [
    "RetornoMedio = RetornoDosAtivos[\"Portfolio\"].mean()\n",
    "print(\"Retorno Médio: {0:.2%}\".format(RetornoMedio))"
   ]
  },
  {
   "cell_type": "markdown",
   "id": "wooden-edition",
   "metadata": {},
   "source": [
    "- Retorno Acumulado"
   ]
  },
  {
   "cell_type": "code",
   "execution_count": null,
   "id": "alert-asset",
   "metadata": {},
   "outputs": [],
   "source": [
    "RetornoAcumulado = RetornoDosAtivos.iloc[-1][\"Acumulado\"]\n",
    "print(\"Retorno Acumulado: {0:.2%}\".format(RetornoAcumulado))"
   ]
  },
  {
   "cell_type": "markdown",
   "id": "welcome-female",
   "metadata": {},
   "source": [
    "- Risco"
   ]
  },
  {
   "cell_type": "code",
   "execution_count": null,
   "id": "defensive-london",
   "metadata": {},
   "outputs": [],
   "source": [
    "Risco = RetornoDosAtivos[\"Portfolio\"].std()\n",
    "print(\"Risco: {0:.2%}\".format(Risco))"
   ]
  },
  {
   "cell_type": "markdown",
   "id": "subjective-coating",
   "metadata": {},
   "source": [
    "- Performance (Sharpe)"
   ]
  },
  {
   "cell_type": "code",
   "execution_count": null,
   "id": "falling-berkeley",
   "metadata": {},
   "outputs": [],
   "source": [
    "Sharpe = RetornoMedio / Risco\n",
    "print(\"Performance Sharpe: {0:.2%}\".format(Sharpe))"
   ]
  },
  {
   "cell_type": "markdown",
   "id": "chemical-blond",
   "metadata": {},
   "source": [
    "- VaR Histórico"
   ]
  },
  {
   "cell_type": "code",
   "execution_count": null,
   "id": "concerned-treasury",
   "metadata": {},
   "outputs": [],
   "source": [
    "VarHistorico = np.quantile(RetornoDosAtivos[\"Portfolio\"], 0.05)\n",
    "VarHistoricoPeriodos = np.sqrt([1,7,14,21]) * VarHistorico\n",
    "\n",
    "PerdaMaxima = InvestimentoPrevisto * VarHistoricoPeriodos\n",
    "\n",
    "print(\"VaR 1 dia: {0:.2%}, Perda máxima de {1:.2f}\".format(VarHistoricoPeriodos[0], PerdaMaxima[0]))\n",
    "print(\"VaR 7 dias: {0:.2%}, Perda máxima de {1:.2f}\".format(VarHistoricoPeriodos[1], PerdaMaxima[1]))\n",
    "print(\"VaR 14 dias: {0:.2%}, Perda máxima de {1:.2f}\".format(VarHistoricoPeriodos[2], PerdaMaxima[2]))\n",
    "print(\"VaR 21 dias: {0:.2%}, Perda máxima de {1:.2f}\".format(VarHistoricoPeriodos[3], PerdaMaxima[3]))"
   ]
  },
  {
   "cell_type": "markdown",
   "id": "statutory-fraud",
   "metadata": {},
   "source": [
    "- VaR Paramétrico"
   ]
  },
  {
   "cell_type": "code",
   "execution_count": null,
   "id": "wicked-allergy",
   "metadata": {},
   "outputs": [],
   "source": [
    "VarParam = RetornoMedio - norm.ppf(0.95) * Risco\n",
    "VarParamPeriodos = np.sqrt([1,7,14,21]) * VarParam\n",
    "\n",
    "PerdaMaxima = InvestimentoPrevisto * VarParamPeriodos\n",
    "\n",
    "print(\"VaR 1 dia: {0:.2%}, Perda máxima de {1:.2f}\".format(VarParamPeriodos[0], PerdaMaxima[0]))\n",
    "print(\"VaR 7 dias: {0:.2%}, Perda máxima de {1:.2f}\".format(VarParamPeriodos[1], PerdaMaxima[1]))\n",
    "print(\"VaR 14 dias: {0:.2%}, Perda máxima de {1:.2f}\".format(VarParamPeriodos[2], PerdaMaxima[2]))\n",
    "print(\"VaR 21 dias: {0:.2%}, Perda máxima de {1:.2f}\".format(VarParamPeriodos[3], PerdaMaxima[3]))"
   ]
  },
  {
   "cell_type": "code",
   "execution_count": null,
   "id": "settled-subcommittee",
   "metadata": {},
   "outputs": [],
   "source": []
  }
 ],
 "metadata": {
  "kernelspec": {
   "display_name": "Python 3 (ipykernel)",
   "language": "python",
   "name": "python3"
  },
  "language_info": {
   "codemirror_mode": {
    "name": "ipython",
    "version": 3
   },
   "file_extension": ".py",
   "mimetype": "text/x-python",
   "name": "python",
   "nbconvert_exporter": "python",
   "pygments_lexer": "ipython3",
   "version": "3.13.2"
  }
 },
 "nbformat": 4,
 "nbformat_minor": 5
}
