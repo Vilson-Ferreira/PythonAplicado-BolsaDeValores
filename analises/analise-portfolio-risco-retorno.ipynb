{
 "cells": [
  {
   "cell_type": "markdown",
   "id": "confirmed-humanity",
   "metadata": {},
   "source": [
    "# Análise de Portfólio de Ativos\n",
    "Análise exploratória e indicadores de retorno, risco e performance de um portfólio de ativos financeiros."
   ]
  },
  {
   "cell_type": "code",
   "execution_count": null,
   "id": "induced-ability",
   "metadata": {},
   "outputs": [],
   "source": [
    "import pandas as pd\n",
    "import numpy as np\n",
    "import datetime\n",
    "import pandas_datareader as pdr\n",
    "import plotly\n",
    "import plotly.offline as plo\n",
    "import plotly.graph_objs as plg\n",
    "import plotly.express as plx\n",
    "from scipy.stats import norm"
   ]
  },
  {
   "cell_type": "markdown",
   "id": "valid-quebec",
   "metadata": {},
   "source": [
    "### Funções de Configurações Gráficas\n",
    "Funções para configurações base de gráficos e exibição."
   ]
  },
  {
   "cell_type": "code",
   "execution_count": null,
   "id": "small-handbook",
   "metadata": {},
   "outputs": [],
   "source": [
    "def Plot_Formato(fig, title):\n",
    "    title={'text': title, 'xanchor': 'center', 'yanchor': 'bottom', 'y':0, 'x':0.5,}\n",
    "    \n",
    "    fig.update_layout(title=title, \n",
    "            xaxis_rangeslider_visible=False,  width=1280, height=720,\n",
    "            xaxis_showgrid=True, xaxis_gridwidth=1, xaxis_gridcolor='#E8E8E8',\n",
    "            yaxis_showgrid=True, yaxis_gridwidth=1, yaxis_gridcolor='#E8E8E8',\n",
    "            plot_bgcolor='rgba(0,0,0,0)')\n",
    "    \n",
    "def Plot_Show(data, title):\n",
    "    fig = plg.Figure(data=data)\n",
    "\n",
    "    Plot_Formato(fig, title)\n",
    "\n",
    "    fig.show()   "
   ]
  },
  {
   "cell_type": "markdown",
   "id": "played-peter",
   "metadata": {},
   "source": [
    "### Leitura de Dados de Ativos\n",
    "Realiza a leitura online de dados de ativos financeiros."
   ]
  },
  {
   "cell_type": "markdown",
   "id": "limited-forward",
   "metadata": {},
   "source": [
    "- Dados para Leitura"
   ]
  },
  {
   "cell_type": "code",
   "execution_count": null,
   "id": "signed-container",
   "metadata": {},
   "outputs": [],
   "source": [
    "Pesos = {\"ITUB4.SA\":0.10, \"CPLE3.SA\":0.20, \"LREN3.SA\":0.20, \"EMBR3.SA\":0.10, \"PSSA3.SA\":0.10, \"GOAU4.SA\":0.30}\n",
    "Periodo_Inicio = datetime.datetime(2016,1,1)\n",
    "Periodo_Termino = datetime.datetime(2021,2,10)"
   ]
  },
  {
   "cell_type": "markdown",
   "id": "latin-difficulty",
   "metadata": {},
   "source": [
    "- Dados do Portfolio"
   ]
  },
  {
   "cell_type": "code",
   "execution_count": null,
   "id": "inner-seminar",
   "metadata": {},
   "outputs": [],
   "source": [
    "Portfolio = pd.DataFrame(data={\"Acoes\":list(Pesos.keys()), \"Pesos\":list(Pesos.values())}).set_index(\"Acoes\")\n",
    "Portfolio"
   ]
  },
  {
   "cell_type": "code",
   "execution_count": null,
   "id": "silent-horror",
   "metadata": {},
   "outputs": [],
   "source": [
    "DadosAcoes = pdr.get_data_yahoo(list(Pesos.keys()), start=Periodo_Inicio, end=Periodo_Termino)"
   ]
  },
  {
   "cell_type": "code",
   "execution_count": null,
   "id": "crazy-multiple",
   "metadata": {},
   "outputs": [],
   "source": [
    "Dados = DadosAcoes[\"Adj Close\"]"
   ]
  },
  {
   "cell_type": "code",
   "execution_count": null,
   "id": "digital-horizontal",
   "metadata": {},
   "outputs": [],
   "source": [
    "Dados"
   ]
  },
  {
   "cell_type": "markdown",
   "id": "distant-parameter",
   "metadata": {},
   "source": [
    "### Análise descritiva dos Preços\n",
    "- Contagem de dias.\n",
    "- Média dos preços do ativo.\n",
    "- Desvio padrão dos preços.\n",
    "- Preço Mínimo.\n",
    "- Preço Máximo.\n",
    "- Quartis dos Preços."
   ]
  },
  {
   "cell_type": "code",
   "execution_count": null,
   "id": "african-shooting",
   "metadata": {},
   "outputs": [],
   "source": [
    "Dados.describe()"
   ]
  },
  {
   "cell_type": "code",
   "execution_count": null,
   "id": "applicable-wallet",
   "metadata": {},
   "outputs": [],
   "source": [
    "SeriePrecos = plg.Figure()\n",
    "SeriePrecos.add_trace(plg.Scatter(x=Dados.index, y=Dados[\"CPLE3.SA\"], name=\"Copel\", mode=\"lines\"))\n",
    "SeriePrecos.add_trace(plg.Scatter(x=Dados.index, y=Dados[\"EMBR3.SA\"], name=\"Embraer\", mode=\"lines\"))\n",
    "SeriePrecos.add_trace(plg.Scatter(x=Dados.index, y=Dados[\"GOAU4.SA\"], name=\"Gerdau\", mode=\"lines\"))\n",
    "SeriePrecos.add_trace(plg.Scatter(x=Dados.index, y=Dados[\"ITUB4.SA\"], name=\"Itau Holding\", mode=\"lines\"))\n",
    "SeriePrecos.add_trace(plg.Scatter(x=Dados.index, y=Dados[\"LREN3.SA\"], name=\"Renner\", mode=\"lines\"))\n",
    "SeriePrecos.add_trace(plg.Scatter(x=Dados.index, y=Dados[\"PSSA3.SA\"], name=\"Porto Seguro\", mode=\"lines\"))\n",
    "SeriePrecos.update_layout(yaxis_tickformat=\".2f\")\n",
    "Plot_Show(SeriePrecos, \"Preços\")"
   ]
  },
  {
   "cell_type": "markdown",
   "id": "interested-salmon",
   "metadata": {},
   "source": [
    "### Cálculo e análise descritiva dos Retornos\n",
    "- Retorno Médio do Ativo (Média).\n",
    "- Risco do Ativo (Desvio Padrão).\n",
    "- Maior perda do período (Mínimo).\n",
    "- Maior ganho no período (Máximo).\n",
    "- Quartis do Risco."
   ]
  },
  {
   "cell_type": "code",
   "execution_count": null,
   "id": "fluid-necklace",
   "metadata": {},
   "outputs": [],
   "source": [
    "RetornoDosAtivos = Dados.pct_change().fillna(0)"
   ]
  },
  {
   "cell_type": "code",
   "execution_count": null,
   "id": "acting-feelings",
   "metadata": {},
   "outputs": [],
   "source": [
    "RetornoDosAtivos"
   ]
  },
  {
   "cell_type": "code",
   "execution_count": null,
   "id": "tender-shannon",
   "metadata": {},
   "outputs": [],
   "source": [
    "RetornoDosAtivos.describe()"
   ]
  },
  {
   "cell_type": "code",
   "execution_count": null,
   "id": "following-confirmation",
   "metadata": {},
   "outputs": [],
   "source": [
    "SerieRetornos = plg.Figure()\n",
    "SerieRetornos.add_trace(plg.Scatter(x=RetornoDosAtivos.index, y=RetornoDosAtivos[\"CPLE3.SA\"], name=\"Copel\", mode=\"lines\"))\n",
    "SerieRetornos.add_trace(plg.Scatter(x=RetornoDosAtivos.index, y=RetornoDosAtivos[\"EMBR3.SA\"], name=\"Embraer\", mode=\"lines\"))\n",
    "SerieRetornos.add_trace(plg.Scatter(x=RetornoDosAtivos.index, y=RetornoDosAtivos[\"GOAU4.SA\"], name=\"Gerdau\", mode=\"lines\"))\n",
    "SerieRetornos.add_trace(plg.Scatter(x=RetornoDosAtivos.index, y=RetornoDosAtivos[\"ITUB4.SA\"], name=\"Itau Holding\", mode=\"lines\"))\n",
    "SerieRetornos.add_trace(plg.Scatter(x=RetornoDosAtivos.index, y=RetornoDosAtivos[\"LREN3.SA\"], name=\"Renner\", mode=\"lines\"))\n",
    "SerieRetornos.add_trace(plg.Scatter(x=RetornoDosAtivos.index, y=RetornoDosAtivos[\"PSSA3.SA\"], name=\"Porto Seguro\", mode=\"lines\"))\n",
    "SerieRetornos.update_layout(yaxis_tickformat=\".1%\")\n",
    "Plot_Show(SerieRetornos, \"Retornos por Ativo\")"
   ]
  },
  {
   "cell_type": "markdown",
   "id": "better-priest",
   "metadata": {},
   "source": [
    "- Análise Risco vs Retorno dos Ativos"
   ]
  },
  {
   "cell_type": "code",
   "execution_count": null,
   "id": "consecutive-calibration",
   "metadata": {},
   "outputs": [],
   "source": [
    "DadosRiscoRetorno = RetornoDosAtivos.describe().transpose()"
   ]
  },
  {
   "cell_type": "code",
   "execution_count": null,
   "id": "grave-conclusion",
   "metadata": {},
   "outputs": [],
   "source": [
    "DadosRiscoRetorno.columns = [\"Dias\", \"RetornoMedio\", \"Risco\", \"Minimo\", \"p25\", \"p50\", \"p75\", \"Maximo\"]"
   ]
  },
  {
   "cell_type": "code",
   "execution_count": null,
   "id": "imposed-experiment",
   "metadata": {},
   "outputs": [],
   "source": [
    "DadosRiscoRetorno"
   ]
  },
  {
   "cell_type": "code",
   "execution_count": null,
   "id": "planned-gibson",
   "metadata": {},
   "outputs": [],
   "source": [
    "RiscoRetorno = plg.Figure(plx.scatter(DadosRiscoRetorno, x=\"Risco\", y=\"RetornoMedio\", text=DadosRiscoRetorno.index))\n",
    "RiscoRetorno.update_layout(xaxis_tickformat=\".2%\", yaxis_tickformat=\".2%\")\n",
    "RiscoRetorno.update_traces(textposition=\"top center\")\n",
    "Plot_Show(RiscoRetorno, \"Posicionamento dos Ativos\")"
   ]
  },
  {
   "cell_type": "markdown",
   "id": "preliminary-repeat",
   "metadata": {},
   "source": [
    "### Retorno Acumulado por Ativo\n",
    "Calcula dia-a-dia o retorno acumulado de cada ativo, sem ponderação da distribuição do portfólio, apenas usando o período."
   ]
  },
  {
   "cell_type": "code",
   "execution_count": null,
   "id": "affiliated-commons",
   "metadata": {},
   "outputs": [],
   "source": [
    "RetornoAcumuladoDosAtivos = (1+RetornoDosAtivos).cumprod()-1"
   ]
  },
  {
   "cell_type": "code",
   "execution_count": null,
   "id": "exact-retention",
   "metadata": {},
   "outputs": [],
   "source": [
    "RetornoAcumuladoDosAtivos"
   ]
  },
  {
   "cell_type": "markdown",
   "id": "regional-specification",
   "metadata": {},
   "source": [
    "Retorno Acumulado de cada ativo"
   ]
  },
  {
   "cell_type": "code",
   "execution_count": null,
   "id": "colored-exhibition",
   "metadata": {},
   "outputs": [],
   "source": [
    "RetornoAcumuladoDosAtivos[-1:]"
   ]
  },
  {
   "cell_type": "code",
   "execution_count": null,
   "id": "retained-crash",
   "metadata": {},
   "outputs": [],
   "source": [
    "SerieRetornosAcum = plg.Figure()\n",
    "SerieRetornosAcum.add_trace(plg.Scatter(x=RetornoAcumuladoDosAtivos.index, y=RetornoAcumuladoDosAtivos[\"CPLE3.SA\"], name=\"Copel\", mode=\"lines\"))\n",
    "SerieRetornosAcum.add_trace(plg.Scatter(x=RetornoAcumuladoDosAtivos.index, y=RetornoAcumuladoDosAtivos[\"EMBR3.SA\"], name=\"Embraer\", mode=\"lines\"))\n",
    "SerieRetornosAcum.add_trace(plg.Scatter(x=RetornoAcumuladoDosAtivos.index, y=RetornoAcumuladoDosAtivos[\"GOAU4.SA\"], name=\"Gerdau\", mode=\"lines\"))\n",
    "SerieRetornosAcum.add_trace(plg.Scatter(x=RetornoAcumuladoDosAtivos.index, y=RetornoAcumuladoDosAtivos[\"ITUB4.SA\"], name=\"Itau Holding\", mode=\"lines\"))\n",
    "SerieRetornosAcum.add_trace(plg.Scatter(x=RetornoAcumuladoDosAtivos.index, y=RetornoAcumuladoDosAtivos[\"LREN3.SA\"], name=\"Renner\", mode=\"lines\"))\n",
    "SerieRetornosAcum.add_trace(plg.Scatter(x=RetornoAcumuladoDosAtivos.index, y=RetornoAcumuladoDosAtivos[\"PSSA3.SA\"], name=\"Porto Seguro\", mode=\"lines\"))\n",
    "SerieRetornosAcum.update_layout(yaxis_tickformat=\".1%\")\n",
    "Plot_Show(SerieRetornosAcum, \"Retornos Acumulados por Ativos\")"
   ]
  },
  {
   "cell_type": "markdown",
   "id": "charitable-poster",
   "metadata": {},
   "source": [
    "### Indicadores de cada Ativo"
   ]
  },
  {
   "cell_type": "markdown",
   "id": "proved-armor",
   "metadata": {},
   "source": [
    "- Retorno Médio (%)"
   ]
  },
  {
   "cell_type": "code",
   "execution_count": null,
   "id": "designed-documentation",
   "metadata": {},
   "outputs": [],
   "source": [
    "RetornoMedioDosAtivos = RetornoDosAtivos.mean()\n",
    "np.round(RetornoMedioDosAtivos * 100, 2)"
   ]
  },
  {
   "cell_type": "markdown",
   "id": "destroyed-wrist",
   "metadata": {},
   "source": [
    "- Retorno Acumulado"
   ]
  },
  {
   "cell_type": "code",
   "execution_count": null,
   "id": "political-joseph",
   "metadata": {},
   "outputs": [],
   "source": [
    "RetornoAcumulado = RetornoAcumuladoDosAtivos[-1:].transpose()\n",
    "RetornoAcumulado.columns = [\"Last\"]"
   ]
  },
  {
   "cell_type": "code",
   "execution_count": null,
   "id": "subsequent-citizenship",
   "metadata": {},
   "outputs": [],
   "source": [
    "SerieRetornoAcumulado = plg.Figure(plx.bar(RetornoAcumulado, x=RetornoAcumulado.index, y=\"Last\", text=\"Last\"))\n",
    "SerieRetornoAcumulado.update_layout(yaxis_tickformat=\".1%\")\n",
    "SerieRetornoAcumulado.update_traces(texttemplate='%{text:.2%}', textposition='outside')\n",
    "Plot_Show(SerieRetornoAcumulado, \"Retorno Acumulado por Ativo\")"
   ]
  },
  {
   "cell_type": "markdown",
   "id": "general-relief",
   "metadata": {},
   "source": [
    "- Risco (%)"
   ]
  },
  {
   "cell_type": "code",
   "execution_count": null,
   "id": "theoretical-harrison",
   "metadata": {},
   "outputs": [],
   "source": [
    "RiscoDosAtivos = RetornoDosAtivos.std()\n",
    "np.round(RiscoDosAtivos * 100, 2)"
   ]
  },
  {
   "cell_type": "markdown",
   "id": "approximate-adult",
   "metadata": {},
   "source": [
    "- Performance (Sharpe %)"
   ]
  },
  {
   "cell_type": "code",
   "execution_count": null,
   "id": "early-refrigerator",
   "metadata": {},
   "outputs": [],
   "source": [
    "SharpeDosAtivos = RetornoMedioDosAtivos / RiscoDosAtivos\n",
    "np.round(SharpeDosAtivos * 100, 2)"
   ]
  },
  {
   "cell_type": "markdown",
   "id": "special-address",
   "metadata": {},
   "source": [
    "### Retorno Acumulado do Portfólio\n",
    "Calcula dia-a-dia os retornos e retorno acumulado do portfólio, conforme distribuição nos ativos."
   ]
  },
  {
   "cell_type": "markdown",
   "id": "higher-halloween",
   "metadata": {},
   "source": [
    "- Retorno dia-a-dia do portfólio"
   ]
  },
  {
   "cell_type": "code",
   "execution_count": null,
   "id": "aggregate-controversy",
   "metadata": {},
   "outputs": [],
   "source": [
    "RetornosDoPortfolio = Portfolio.transpose().dot(RetornoDosAtivos.transpose()).transpose()"
   ]
  },
  {
   "cell_type": "code",
   "execution_count": null,
   "id": "informative-innocent",
   "metadata": {},
   "outputs": [],
   "source": [
    "RetornoDosAtivos[\"Portfolio\"] = RetornosDoPortfolio[\"Pesos\"]"
   ]
  },
  {
   "cell_type": "code",
   "execution_count": null,
   "id": "advanced-chancellor",
   "metadata": {},
   "outputs": [],
   "source": [
    "RetornoDosAtivos"
   ]
  },
  {
   "cell_type": "code",
   "execution_count": null,
   "id": "manual-civilization",
   "metadata": {},
   "outputs": [],
   "source": [
    "SerieRetornos = plg.Figure(plg.Scatter(x=RetornoDosAtivos.index, y=RetornoDosAtivos[\"Portfolio\"], name=\"Portfólio\", mode=\"lines\"))\n",
    "SerieRetornos.update_layout(yaxis_tickformat=\".1%\")\n",
    "Plot_Show(SerieRetornos, \"Retorno do Portfólio\")"
   ]
  },
  {
   "cell_type": "code",
   "execution_count": null,
   "id": "reflected-bidder",
   "metadata": {},
   "outputs": [],
   "source": [
    "HistogramaRetornos = plg.Figure(plg.Histogram(x=RetornoDosAtivos[\"Portfolio\"]))\n",
    "HistogramaRetornos.update_layout(xaxis_tickformat=\".1%\")\n",
    "Plot_Show(HistogramaRetornos, \"Retornos do Portfólio\")"
   ]
  },
  {
   "cell_type": "markdown",
   "id": "boolean-expression",
   "metadata": {},
   "source": [
    "- Retorno acumulado do portfólio"
   ]
  },
  {
   "cell_type": "code",
   "execution_count": null,
   "id": "sharing-grocery",
   "metadata": {},
   "outputs": [],
   "source": [
    "RetornoDosAtivos[\"Acumulado\"] = (1+RetornoDosAtivos[\"Portfolio\"]).cumprod()-1"
   ]
  },
  {
   "cell_type": "code",
   "execution_count": null,
   "id": "rural-primary",
   "metadata": {},
   "outputs": [],
   "source": [
    "RetornoDosAtivos"
   ]
  },
  {
   "cell_type": "code",
   "execution_count": null,
   "id": "ranging-pension",
   "metadata": {},
   "outputs": [],
   "source": [
    "RetornoDosAtivos[-1:]"
   ]
  },
  {
   "cell_type": "code",
   "execution_count": null,
   "id": "banned-attraction",
   "metadata": {},
   "outputs": [],
   "source": [
    "SerieRetornos = plg.Figure(plg.Scatter(x=RetornoDosAtivos.index, y=RetornoDosAtivos[\"Acumulado\"], name=\"Portfólio\", mode=\"lines\"))\n",
    "SerieRetornos.update_layout(yaxis_tickformat=\".1%\")\n",
    "Plot_Show(SerieRetornos, \"Retorno Acumulado do Portfólio\")"
   ]
  },
  {
   "cell_type": "markdown",
   "id": "sacred-seating",
   "metadata": {},
   "source": [
    "### Indicadores do Portfólio"
   ]
  },
  {
   "cell_type": "markdown",
   "id": "opponent-conspiracy",
   "metadata": {},
   "source": [
    "- Retorno Médio"
   ]
  },
  {
   "cell_type": "code",
   "execution_count": null,
   "id": "boring-section",
   "metadata": {},
   "outputs": [],
   "source": [
    "RetornoMedio = RetornoDosAtivos[\"Portfolio\"].mean()\n",
    "print(\"Retorno Médio: {0:.2%}\".format(RetornoMedio))"
   ]
  },
  {
   "cell_type": "markdown",
   "id": "aggregate-korean",
   "metadata": {},
   "source": [
    "- Retorno Acumulado"
   ]
  },
  {
   "cell_type": "code",
   "execution_count": null,
   "id": "floral-lesson",
   "metadata": {},
   "outputs": [],
   "source": [
    "RetornoAcumulado = RetornoDosAtivos[\"Acumulado\"][-1]\n",
    "print(\"Retorno Acumulado: {0:.2%}\".format(RetornoAcumulado))"
   ]
  },
  {
   "cell_type": "markdown",
   "id": "soviet-header",
   "metadata": {},
   "source": [
    "- Risco"
   ]
  },
  {
   "cell_type": "code",
   "execution_count": null,
   "id": "intended-patent",
   "metadata": {},
   "outputs": [],
   "source": [
    "Risco = RetornoDosAtivos[\"Portfolio\"].std()\n",
    "print(\"Risco: {0:.2%}\".format(Risco))"
   ]
  },
  {
   "cell_type": "markdown",
   "id": "greenhouse-mistress",
   "metadata": {},
   "source": [
    "- Performance (Sharpe)"
   ]
  },
  {
   "cell_type": "code",
   "execution_count": null,
   "id": "rocky-peoples",
   "metadata": {},
   "outputs": [],
   "source": [
    "Sharpe = RetornoMedio / Risco\n",
    "print(\"Performance Sharpe: {0:.2%}\".format(Sharpe))"
   ]
  },
  {
   "cell_type": "markdown",
   "id": "pleasant-ready",
   "metadata": {},
   "source": [
    "- VaR Histórico"
   ]
  },
  {
   "cell_type": "code",
   "execution_count": null,
   "id": "loved-soundtrack",
   "metadata": {},
   "outputs": [],
   "source": [
    "InvestimentoPrevisto = 10000"
   ]
  },
  {
   "cell_type": "code",
   "execution_count": null,
   "id": "tamil-shade",
   "metadata": {},
   "outputs": [],
   "source": [
    "VarHistorico = np.quantile(RetornoDosAtivos[\"Portfolio\"], 0.05)\n",
    "VarHistoricoPeriodos = np.sqrt([1,7,14,21]) * VarHistorico\n",
    "\n",
    "PerdaMaxima = InvestimentoPrevisto * VarHistoricoPeriodos\n",
    "\n",
    "print(\"VaR 1 dia: {0:.2%}, Perda máxima de {1:.2f}\".format(VarHistoricoPeriodos[0], PerdaMaxima[0]))\n",
    "print(\"VaR 7 dias: {0:.2%}, Perda máxima de {1:.2f}\".format(VarHistoricoPeriodos[1], PerdaMaxima[1]))\n",
    "print(\"VaR 14 dias: {0:.2%}, Perda máxima de {1:.2f}\".format(VarHistoricoPeriodos[2], PerdaMaxima[2]))\n",
    "print(\"VaR 21 dias: {0:.2%}, Perda máxima de {1:.2f}\".format(VarHistoricoPeriodos[3], PerdaMaxima[3]))"
   ]
  },
  {
   "cell_type": "markdown",
   "id": "thousand-simulation",
   "metadata": {},
   "source": [
    "- VaR Paramétrico"
   ]
  },
  {
   "cell_type": "code",
   "execution_count": null,
   "id": "tired-individual",
   "metadata": {},
   "outputs": [],
   "source": [
    "VarParam = RetornoMedio - norm.ppf(0.95) * Risco\n",
    "VarParamPeriodos = np.sqrt([1,7,14,21]) * VarParam\n",
    "\n",
    "PerdaMaxima = InvestimentoPrevisto * VarParamPeriodos\n",
    "\n",
    "print(\"VaR 1 dia: {0:.2%}, Perda máxima de {1:.2f}\".format(VarParamPeriodos[0], PerdaMaxima[0]))\n",
    "print(\"VaR 7 dias: {0:.2%}, Perda máxima de {1:.2f}\".format(VarParamPeriodos[1], PerdaMaxima[1]))\n",
    "print(\"VaR 14 dias: {0:.2%}, Perda máxima de {1:.2f}\".format(VarParamPeriodos[2], PerdaMaxima[2]))\n",
    "print(\"VaR 21 dias: {0:.2%}, Perda máxima de {1:.2f}\".format(VarParamPeriodos[3], PerdaMaxima[3]))"
   ]
  },
  {
   "cell_type": "code",
   "execution_count": null,
   "id": "hidden-tuition",
   "metadata": {},
   "outputs": [],
   "source": []
  }
 ],
 "metadata": {
  "kernelspec": {
   "display_name": "Python 3",
   "language": "python",
   "name": "python3"
  },
  "language_info": {
   "codemirror_mode": {
    "name": "ipython",
    "version": 3
   },
   "file_extension": ".py",
   "mimetype": "text/x-python",
   "name": "python",
   "nbconvert_exporter": "python",
   "pygments_lexer": "ipython3",
   "version": "3.7.9"
  }
 },
 "nbformat": 4,
 "nbformat_minor": 5
}
