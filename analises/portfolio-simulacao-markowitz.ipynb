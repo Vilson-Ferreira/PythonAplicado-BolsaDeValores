{
 "cells": [
  {
   "cell_type": "markdown",
   "id": "pressed-prisoner",
   "metadata": {},
   "source": [
    "# Análise de Portfólio\n",
    "Análise de portfólio usando a Fronteira Eficiente de Markowitz e otimização por simulações."
   ]
  },
  {
   "cell_type": "code",
   "execution_count": null,
   "id": "allied-ending",
   "metadata": {},
   "outputs": [],
   "source": [
    "import pandas as pd\n",
    "import numpy as np\n",
    "import datetime\n",
    "import pandas_datareader as pdr\n",
    "import plotly\n",
    "import plotly.offline as plo\n",
    "import plotly.graph_objs as plg\n",
    "import plotly.express as plx\n",
    "from scipy.stats import norm"
   ]
  },
  {
   "cell_type": "markdown",
   "id": "ceramic-verification",
   "metadata": {},
   "source": [
    "### Funções de Configurações Gráficas\n",
    "Funções para configurações base de gráficos e exibição."
   ]
  },
  {
   "cell_type": "code",
   "execution_count": null,
   "id": "crazy-george",
   "metadata": {},
   "outputs": [],
   "source": [
    "def Plot_Formato(fig, title):\n",
    "    title={'text': title, 'xanchor': 'center', 'yanchor': 'bottom', 'y':0, 'x':0.5,}\n",
    "    \n",
    "    fig.update_layout(title=title, \n",
    "            xaxis_rangeslider_visible=False,  width=1280, height=720,\n",
    "            xaxis_showgrid=True, xaxis_gridwidth=1, xaxis_gridcolor='#E8E8E8',\n",
    "            yaxis_showgrid=True, yaxis_gridwidth=1, yaxis_gridcolor='#E8E8E8',\n",
    "            plot_bgcolor='rgba(0,0,0,0)')\n",
    "    \n",
    "def Plot_Show(data, title):\n",
    "    fig = plg.Figure(data=data)\n",
    "\n",
    "    Plot_Formato(fig, title)\n",
    "\n",
    "    fig.show()   "
   ]
  },
  {
   "cell_type": "markdown",
   "id": "absent-endorsement",
   "metadata": {},
   "source": [
    "### Leitura de Dados de Ativos\n",
    "Realiza a leitura online de dados de ativos financeiros."
   ]
  },
  {
   "cell_type": "code",
   "execution_count": null,
   "id": "tired-refrigerator",
   "metadata": {},
   "outputs": [],
   "source": [
    "Acoes = [\"ITUB4.SA\", \"CPLE3.SA\", \"LREN3.SA\", \"EMBR3.SA\", \"PSSA3.SA\", \"GOAU4.SA\"]\n",
    "Pesos = {\"ITUB4.SA\":0.10, \"CPLE3.SA\":0.20, \"LREN3.SA\":0.20, \"EMBR3.SA\":0.10, \"PSSA3.SA\":0.10, \"GOAU4.SA\":0.30}\n",
    "\n",
    "Periodo_Inicio = datetime.datetime(2016,1,1)\n",
    "Periodo_Termino = datetime.datetime(2021,2,10)"
   ]
  },
  {
   "cell_type": "code",
   "execution_count": null,
   "id": "intelligent-coating",
   "metadata": {},
   "outputs": [],
   "source": [
    "DadosAcoes = pdr.get_data_yahoo(Acoes, start=Periodo_Inicio, end=Periodo_Termino)"
   ]
  },
  {
   "cell_type": "code",
   "execution_count": null,
   "id": "organic-adobe",
   "metadata": {},
   "outputs": [],
   "source": [
    "Dados = DadosAcoes[\"Adj Close\"]"
   ]
  },
  {
   "cell_type": "code",
   "execution_count": null,
   "id": "pretty-venue",
   "metadata": {},
   "outputs": [],
   "source": [
    "Dados"
   ]
  },
  {
   "cell_type": "markdown",
   "id": "otherwise-turkey",
   "metadata": {},
   "source": [
    "### Fronteira Eficiente de Markowitz\n",
    "Calcula o retorno esperado para um portfólio e cria fronteira eficiente simulando 10.000 portfólios."
   ]
  },
  {
   "cell_type": "markdown",
   "id": "heavy-courage",
   "metadata": {},
   "source": [
    "- Retorno dos Ativos"
   ]
  },
  {
   "cell_type": "code",
   "execution_count": null,
   "id": "healthy-producer",
   "metadata": {},
   "outputs": [],
   "source": [
    "RetornoDosAtivos = Dados.pct_change().fillna(0)"
   ]
  },
  {
   "cell_type": "code",
   "execution_count": null,
   "id": "foreign-switzerland",
   "metadata": {},
   "outputs": [],
   "source": [
    "RetornoDosAtivos"
   ]
  },
  {
   "cell_type": "markdown",
   "id": "early-simple",
   "metadata": {},
   "source": [
    "- Retorno Médio Diário Esperado"
   ]
  },
  {
   "cell_type": "code",
   "execution_count": null,
   "id": "circular-chassis",
   "metadata": {},
   "outputs": [],
   "source": [
    "RetornoMedioDiario = RetornoDosAtivos.mean()"
   ]
  },
  {
   "cell_type": "code",
   "execution_count": null,
   "id": "sunset-madagascar",
   "metadata": {},
   "outputs": [],
   "source": [
    "RetornoMedioDiario"
   ]
  },
  {
   "cell_type": "markdown",
   "id": "attended-hepatitis",
   "metadata": {},
   "source": [
    "- Retorno Médio Mensal Esperado"
   ]
  },
  {
   "cell_type": "code",
   "execution_count": null,
   "id": "sophisticated-newspaper",
   "metadata": {},
   "outputs": [],
   "source": [
    "RetornoMedioMensal = Dados.resample(\"M\").last().pct_change().mean()"
   ]
  },
  {
   "cell_type": "code",
   "execution_count": null,
   "id": "severe-woman",
   "metadata": {},
   "outputs": [],
   "source": [
    "RetornoMedioMensal"
   ]
  },
  {
   "cell_type": "markdown",
   "id": "administrative-collar",
   "metadata": {},
   "source": [
    "- Retorno Médio Anualizado Esperado"
   ]
  },
  {
   "cell_type": "code",
   "execution_count": null,
   "id": "parental-volleyball",
   "metadata": {},
   "outputs": [],
   "source": [
    "RetornoMedioAnualizado = Dados.resample(\"Y\").last().pct_change().mean()"
   ]
  },
  {
   "cell_type": "code",
   "execution_count": null,
   "id": "plastic-space",
   "metadata": {},
   "outputs": [],
   "source": [
    "RetornoMedioAnualizado"
   ]
  },
  {
   "cell_type": "markdown",
   "id": "satellite-investing",
   "metadata": {},
   "source": [
    "- Matriz de Covariância"
   ]
  },
  {
   "cell_type": "code",
   "execution_count": null,
   "id": "fossil-recruitment",
   "metadata": {},
   "outputs": [],
   "source": [
    "CovarianciaDosRetornos = RetornoDosAtivos.cov()"
   ]
  },
  {
   "cell_type": "code",
   "execution_count": null,
   "id": "incorrect-payment",
   "metadata": {},
   "outputs": [],
   "source": [
    "CovarianciaDosRetornos"
   ]
  },
  {
   "cell_type": "markdown",
   "id": "collect-judges",
   "metadata": {},
   "source": [
    "- Matriz de Correlação"
   ]
  },
  {
   "cell_type": "code",
   "execution_count": null,
   "id": "younger-model",
   "metadata": {},
   "outputs": [],
   "source": [
    "CorrelacaoDosRetornos = RetornoDosAtivos.corr()"
   ]
  },
  {
   "cell_type": "code",
   "execution_count": null,
   "id": "comfortable-booking",
   "metadata": {},
   "outputs": [],
   "source": [
    "CorrelacaoDosRetornos"
   ]
  },
  {
   "cell_type": "markdown",
   "id": "educated-parent",
   "metadata": {},
   "source": [
    "- Retornos Esperados do Portfólio"
   ]
  },
  {
   "cell_type": "code",
   "execution_count": null,
   "id": "final-highlight",
   "metadata": {},
   "outputs": [],
   "source": [
    "RetornoMedioDiarioDoPortfolio = (list(Pesos.values()) * RetornoMedioDiario).sum()\n",
    "RetornoMedioMensalDoPortfolio = (list(Pesos.values()) * RetornoMedioMensal).sum()\n",
    "RetornoMedioAnualizadoDoPortfolio = (list(Pesos.values()) * RetornoMedioAnualizado).sum()"
   ]
  },
  {
   "cell_type": "code",
   "execution_count": null,
   "id": "activated-socket",
   "metadata": {},
   "outputs": [],
   "source": [
    "print(\"Retorno Diário do Portfólio: {0:.2%}\".format(RetornoMedioDiarioDoPortfolio))\n",
    "print(\"Retorno Mensal do Portfólio: {0:.2%}\".format(RetornoMedioMensalDoPortfolio))\n",
    "print(\"Retorno Anualizado do Portfólio: {0:.2%}\".format(RetornoMedioAnualizadoDoPortfolio))"
   ]
  },
  {
   "cell_type": "markdown",
   "id": "primary-uncertainty",
   "metadata": {},
   "source": [
    "- Riscos do Portfólio"
   ]
  },
  {
   "cell_type": "code",
   "execution_count": null,
   "id": "dynamic-hierarchy",
   "metadata": {},
   "outputs": [],
   "source": [
    "MatrizRiscoDosAtivos = CovarianciaDosRetornos.mul(Pesos, axis=0).mul(Pesos, axis=1).sum().sum()"
   ]
  },
  {
   "cell_type": "code",
   "execution_count": null,
   "id": "regular-generation",
   "metadata": {},
   "outputs": [],
   "source": [
    "RiscoDiario = np.sqrt(MatrizRiscoDosAtivos)\n",
    "RiscoMensal = np.sqrt(MatrizRiscoDosAtivos) * np.sqrt(21)\n",
    "RiscoAnualizado = np.sqrt(MatrizRiscoDosAtivos) * np.sqrt(252)"
   ]
  },
  {
   "cell_type": "code",
   "execution_count": null,
   "id": "measured-circle",
   "metadata": {},
   "outputs": [],
   "source": [
    "print(\"Risco Diário do Portfólio: {0:.2%}\".format(RiscoDiario))\n",
    "print(\"Risco Mensal do Portfólio: {0:.2%}\".format(RiscoMensal))\n",
    "print(\"Risco Anualizado do Portfólio: {0:.2%}\".format(RiscoAnualizado))"
   ]
  },
  {
   "cell_type": "markdown",
   "id": "interesting-clinic",
   "metadata": {},
   "source": [
    "### Simulação de Portfólios\n",
    "Simula um número de portfólios baseado nos seguintes parâmetros:\n",
    "- Ativos: Dataframe de Preços de Ativos.\n",
    "- NumPortfolios: Número de portfólios à simular."
   ]
  },
  {
   "cell_type": "code",
   "execution_count": null,
   "id": "organic-degree",
   "metadata": {},
   "outputs": [],
   "source": [
    "def SimularPortfolios(Ativos, NumPortfolios):\n",
    "    RetornosSimulados = []\n",
    "    RiscosSimulados = []\n",
    "    PesosSimulados = []\n",
    "    NumAtivos = len(Ativos.columns)\n",
    "\n",
    "    # Retorno dos Ativos\n",
    "    Ativos = Ativos.pct_change().fillna(0)\n",
    "    MatrizCovariancia = RetornoDosAtivos.cov()\n",
    "    \n",
    "    for portfolio in range(NumPortfolios):\n",
    "\n",
    "        # Simula pesos para um portfólio\n",
    "        Pesos = np.random.random(NumAtivos)\n",
    "        Pesos = Pesos/np.sum(Pesos)\n",
    "        PesosSimulados.append(Pesos)\n",
    "        \n",
    "        # Retorno do portfolio simulado\n",
    "        Retornos = Ativos.dot(Pesos).values\n",
    "        Retorno = Retornos.mean()\n",
    "        RetornosSimulados.append(Retorno)\n",
    "        \n",
    "        # Risco do portfólio simulado\n",
    "        Variancias = MatrizCovariancia.mul(Pesos, axis=0).mul(Pesos, axis=1).sum().sum()\n",
    "        Riscos = np.sqrt(Variancias)\n",
    "        RiscosSimulados.append(Riscos)\n",
    "\n",
    "    # Dataframe dos Portfólios simulados\n",
    "    Simulacoes = {'Retorno':RetornosSimulados, 'Risco':RiscosSimulados}\n",
    "    for counter, symbol in enumerate(Ativos.columns.tolist()):\n",
    "        Simulacoes[symbol] = [w[counter] for w in PesosSimulados]\n",
    "    \n",
    "    Portfolios = pd.DataFrame(Simulacoes)\n",
    "    return(Portfolios)"
   ]
  },
  {
   "cell_type": "code",
   "execution_count": null,
   "id": "premier-heart",
   "metadata": {},
   "outputs": [],
   "source": [
    "Portfolios = SimularPortfolios(Dados, 10000)"
   ]
  },
  {
   "cell_type": "code",
   "execution_count": null,
   "id": "relative-constant",
   "metadata": {},
   "outputs": [],
   "source": [
    "Portfolios"
   ]
  },
  {
   "cell_type": "markdown",
   "id": "executed-mercy",
   "metadata": {},
   "source": [
    "- Performance de cada Portfólio"
   ]
  },
  {
   "cell_type": "code",
   "execution_count": null,
   "id": "changing-crown",
   "metadata": {},
   "outputs": [],
   "source": [
    "Portfolios[\"Sharpe\"] = Portfolios[\"Retorno\"] / Portfolios[\"Risco\"]"
   ]
  },
  {
   "cell_type": "code",
   "execution_count": null,
   "id": "posted-dynamics",
   "metadata": {},
   "outputs": [],
   "source": [
    "Portfolios"
   ]
  },
  {
   "cell_type": "markdown",
   "id": "undefined-villa",
   "metadata": {},
   "source": [
    "- Fronteira Eficiente Visual"
   ]
  },
  {
   "cell_type": "code",
   "execution_count": null,
   "id": "august-fifteen",
   "metadata": {},
   "outputs": [],
   "source": [
    "FronteiraEficiente = plg.Figure(plg.Scatter(x=Portfolios[\"Risco\"],\n",
    "                                            y=Portfolios[\"Retorno\"],\n",
    "                                            mode=\"markers\", marker_symbol=\"circle\", marker_opacity=0.5,\n",
    "                                            name=\"Portfolios Simulados\"))\n",
    "FronteiraEficiente.update_layout(xaxis_tickformat=\".2%\", yaxis_tickformat=\".2%\")\n",
    "Plot_Show(FronteiraEficiente, \"Fronteira Eficiente\")"
   ]
  },
  {
   "cell_type": "markdown",
   "id": "emerging-spyware",
   "metadata": {},
   "source": [
    "- Portfólio de Menor Risco"
   ]
  },
  {
   "cell_type": "code",
   "execution_count": null,
   "id": "retained-hostel",
   "metadata": {},
   "outputs": [],
   "source": [
    "PortfolioMenorRisco = Portfolios.iloc[Portfolios[\"Risco\"].idxmin()]"
   ]
  },
  {
   "cell_type": "code",
   "execution_count": null,
   "id": "consistent-battery",
   "metadata": {},
   "outputs": [],
   "source": [
    "PortfolioMenorRisco"
   ]
  },
  {
   "cell_type": "markdown",
   "id": "foster-jimmy",
   "metadata": {},
   "source": [
    "- Portfólio de Maior Retorno"
   ]
  },
  {
   "cell_type": "code",
   "execution_count": null,
   "id": "retired-secretariat",
   "metadata": {},
   "outputs": [],
   "source": [
    "PortfolioMaiorRetorno = Portfolios.iloc[Portfolios[\"Retorno\"].idxmax()]"
   ]
  },
  {
   "cell_type": "code",
   "execution_count": null,
   "id": "seeing-canal",
   "metadata": {},
   "outputs": [],
   "source": [
    "PortfolioMaiorRetorno"
   ]
  },
  {
   "cell_type": "markdown",
   "id": "infectious-hotel",
   "metadata": {},
   "source": [
    "- Portfólio de Melhor Performance"
   ]
  },
  {
   "cell_type": "code",
   "execution_count": null,
   "id": "stuffed-savannah",
   "metadata": {},
   "outputs": [],
   "source": [
    "PortfolioMelhorSharpe = Portfolios.iloc[Portfolios[\"Sharpe\"].idxmax()]"
   ]
  },
  {
   "cell_type": "code",
   "execution_count": null,
   "id": "residential-belief",
   "metadata": {},
   "outputs": [],
   "source": [
    "PortfolioMelhorSharpe"
   ]
  },
  {
   "cell_type": "markdown",
   "id": "earlier-kazakhstan",
   "metadata": {},
   "source": [
    "- Fronteira Eficiente com Melhores Portifólios "
   ]
  },
  {
   "cell_type": "code",
   "execution_count": null,
   "id": "permanent-twins",
   "metadata": {},
   "outputs": [],
   "source": [
    "FronteiraEficiente = plg.Figure()\n",
    "\n",
    "FronteiraEficiente.add_trace(plg.Scatter(x=Portfolios[\"Risco\"],\n",
    "                                         y=Portfolios[\"Retorno\"],\n",
    "                                         mode=\"markers\", marker_symbol=\"circle\", marker_opacity=0.5,\n",
    "                                         name=\"Portfolios Simulados\"))\n",
    "FronteiraEficiente.add_trace(plg.Scatter(x=[PortfolioMenorRisco[\"Risco\"]],\n",
    "                                         y=[PortfolioMenorRisco[\"Retorno\"]],\n",
    "                                         mode=\"markers\", marker_symbol=\"star\", marker_size=20,\n",
    "                                         name=\"Menor Risco\"))\n",
    "FronteiraEficiente.add_trace(plg.Scatter(x=[PortfolioMaiorRetorno[\"Risco\"]],\n",
    "                                         y=[PortfolioMaiorRetorno[\"Retorno\"]],\n",
    "                                         mode=\"markers\", marker_symbol=\"star\", marker_size=20,\n",
    "                                         name=\"Maior Retorno\"))\n",
    "FronteiraEficiente.add_trace(plg.Scatter(x=[PortfolioMelhorSharpe[\"Risco\"]],\n",
    "                                         y=[PortfolioMelhorSharpe[\"Retorno\"]],\n",
    "                                         mode=\"markers\", marker_symbol=\"star\", marker_size=20,\n",
    "                                         name=\"Maior Sharpe\"))\n",
    "FronteiraEficiente.update_layout(xaxis_tickformat=\".2%\", yaxis_tickformat=\".2%\")\n",
    "Plot_Show(FronteiraEficiente, \"Fronteira Eficiente\")"
   ]
  },
  {
   "cell_type": "code",
   "execution_count": null,
   "id": "emotional-tradition",
   "metadata": {},
   "outputs": [],
   "source": []
  }
 ],
 "metadata": {
  "kernelspec": {
   "display_name": "Python 3",
   "language": "python",
   "name": "python3"
  },
  "language_info": {
   "codemirror_mode": {
    "name": "ipython",
    "version": 3
   },
   "file_extension": ".py",
   "mimetype": "text/x-python",
   "name": "python",
   "nbconvert_exporter": "python",
   "pygments_lexer": "ipython3",
   "version": "3.7.9"
  }
 },
 "nbformat": 4,
 "nbformat_minor": 5
}
