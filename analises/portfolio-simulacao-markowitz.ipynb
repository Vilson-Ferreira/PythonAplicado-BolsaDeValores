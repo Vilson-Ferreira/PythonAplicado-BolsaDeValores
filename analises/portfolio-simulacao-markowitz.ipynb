{
 "cells": [
  {
   "cell_type": "markdown",
   "id": "expanded-seller",
   "metadata": {},
   "source": [
    "# Análise de Portfólio\n",
    "Análise de portfólio usando a Fronteira Eficiente de Markowitz e otimização por simulações."
   ]
  },
  {
   "cell_type": "code",
   "execution_count": null,
   "id": "aware-brook",
   "metadata": {},
   "outputs": [],
   "source": [
    "import pandas as pd\n",
    "import numpy as np\n",
    "import datetime\n",
    "import pandas_datareader as pdr\n",
    "import yfinance as yf\n",
    "import plotly\n",
    "import plotly.offline as plo\n",
    "import plotly.graph_objs as plg\n",
    "import plotly.express as plx\n",
    "from scipy.stats import norm"
   ]
  },
  {
   "cell_type": "markdown",
   "id": "focused-bryan",
   "metadata": {},
   "source": [
    "### Funções de Configurações Gráficas\n",
    "Funções para configurações base de gráficos e exibição."
   ]
  },
  {
   "cell_type": "code",
   "execution_count": null,
   "id": "consolidated-summit",
   "metadata": {},
   "outputs": [],
   "source": [
    "def Plot_Formato(fig, title):\n",
    "    title={'text': title, 'xanchor': 'center', 'yanchor': 'bottom', 'y':0, 'x':0.5,}\n",
    "    \n",
    "    fig.update_layout(title=title, \n",
    "            xaxis_rangeslider_visible=False,  width=1280, height=720,\n",
    "            xaxis_showgrid=True, xaxis_gridwidth=1, xaxis_gridcolor='#E8E8E8',\n",
    "            yaxis_showgrid=True, yaxis_gridwidth=1, yaxis_gridcolor='#E8E8E8',\n",
    "            plot_bgcolor='rgba(0,0,0,0)')\n",
    "    \n",
    "def Plot_Show(data, title):\n",
    "    fig = plg.Figure(data=data)\n",
    "\n",
    "    Plot_Formato(fig, title)\n",
    "\n",
    "    fig.show()   "
   ]
  },
  {
   "cell_type": "markdown",
   "id": "respected-tournament",
   "metadata": {},
   "source": [
    "### Leitura de Dados de Ativos\n",
    "Realiza a leitura online de dados de ativos financeiros."
   ]
  },
  {
   "cell_type": "code",
   "execution_count": null,
   "id": "enclosed-fight",
   "metadata": {},
   "outputs": [],
   "source": [
    "Pesos = {\"ITUB4.SA\":0.10, \"CPLE3.SA\":0.20, \"LREN3.SA\":0.20, \"EMBR3.SA\":0.10, \"PSSA3.SA\":0.10, \"GOAU4.SA\":0.30}\n",
    "\n",
    "Periodo_Inicio = datetime.datetime(2016,1,1)\n",
    "Periodo_Termino = datetime.datetime(2021,2,10)"
   ]
  },
  {
   "cell_type": "code",
   "execution_count": null,
   "id": "fabulous-destination",
   "metadata": {},
   "outputs": [],
   "source": [
    "# DadosAcoes = pdr.get_data_yahoo(list(Pesos.keys()), start=Periodo_Inicio, end=Periodo_Termino)\n",
    "DadosAcoes = yf.download(list(Pesos.keys()), start=Periodo_Inicio, end=Periodo_Termino)"
   ]
  },
  {
   "cell_type": "code",
   "execution_count": null,
   "id": "alpha-archive",
   "metadata": {},
   "outputs": [],
   "source": [
    "Dados = DadosAcoes[\"Adj Close\"]"
   ]
  },
  {
   "cell_type": "code",
   "execution_count": null,
   "id": "capable-richardson",
   "metadata": {},
   "outputs": [],
   "source": [
    "Dados"
   ]
  },
  {
   "cell_type": "markdown",
   "id": "blessed-dallas",
   "metadata": {},
   "source": [
    "### Fronteira Eficiente de Markowitz\n",
    "Calcula o retorno esperado para um portfólio e cria fronteira eficiente simulando 10.000 portfólios."
   ]
  },
  {
   "cell_type": "markdown",
   "id": "korean-screening",
   "metadata": {},
   "source": [
    "- Retorno dos Ativos"
   ]
  },
  {
   "cell_type": "code",
   "execution_count": null,
   "id": "compact-effect",
   "metadata": {},
   "outputs": [],
   "source": [
    "RetornoDosAtivos = Dados.pct_change().fillna(0)"
   ]
  },
  {
   "cell_type": "code",
   "execution_count": null,
   "id": "historic-combine",
   "metadata": {},
   "outputs": [],
   "source": [
    "RetornoDosAtivos"
   ]
  },
  {
   "cell_type": "markdown",
   "id": "equipped-father",
   "metadata": {},
   "source": [
    "- Retorno Médio Diário Esperado"
   ]
  },
  {
   "cell_type": "code",
   "execution_count": null,
   "id": "established-opportunity",
   "metadata": {},
   "outputs": [],
   "source": [
    "RetornoMedioDiario = RetornoDosAtivos.mean()"
   ]
  },
  {
   "cell_type": "code",
   "execution_count": null,
   "id": "brown-taste",
   "metadata": {},
   "outputs": [],
   "source": [
    "RetornoMedioDiario"
   ]
  },
  {
   "cell_type": "markdown",
   "id": "structural-burst",
   "metadata": {},
   "source": [
    "- Retorno Médio Mensal Esperado"
   ]
  },
  {
   "cell_type": "code",
   "execution_count": null,
   "id": "loaded-rainbow",
   "metadata": {},
   "outputs": [],
   "source": [
    "RetornoMedioMensal = Dados.resample(\"M\").last().pct_change().mean()"
   ]
  },
  {
   "cell_type": "code",
   "execution_count": null,
   "id": "accessory-spectrum",
   "metadata": {},
   "outputs": [],
   "source": [
    "RetornoMedioMensal"
   ]
  },
  {
   "cell_type": "markdown",
   "id": "cultural-isaac",
   "metadata": {},
   "source": [
    "- Retorno Médio Anualizado Esperado"
   ]
  },
  {
   "cell_type": "code",
   "execution_count": null,
   "id": "freelance-transfer",
   "metadata": {},
   "outputs": [],
   "source": [
    "RetornoMedioAnualizado = Dados.resample(\"Y\").last().pct_change().mean()"
   ]
  },
  {
   "cell_type": "code",
   "execution_count": null,
   "id": "sized-marble",
   "metadata": {},
   "outputs": [],
   "source": [
    "RetornoMedioAnualizado"
   ]
  },
  {
   "cell_type": "markdown",
   "id": "affected-corps",
   "metadata": {},
   "source": [
    "- Matriz de Covariância"
   ]
  },
  {
   "cell_type": "code",
   "execution_count": null,
   "id": "resistant-bermuda",
   "metadata": {},
   "outputs": [],
   "source": [
    "CovarianciaDosRetornos = RetornoDosAtivos.cov()"
   ]
  },
  {
   "cell_type": "code",
   "execution_count": null,
   "id": "minimal-discount",
   "metadata": {},
   "outputs": [],
   "source": [
    "CovarianciaDosRetornos"
   ]
  },
  {
   "cell_type": "markdown",
   "id": "bigger-vatican",
   "metadata": {},
   "source": [
    "- Matriz de Correlação"
   ]
  },
  {
   "cell_type": "code",
   "execution_count": null,
   "id": "seven-treasure",
   "metadata": {},
   "outputs": [],
   "source": [
    "CorrelacaoDosRetornos = RetornoDosAtivos.corr()"
   ]
  },
  {
   "cell_type": "code",
   "execution_count": null,
   "id": "significant-tomato",
   "metadata": {},
   "outputs": [],
   "source": [
    "CorrelacaoDosRetornos"
   ]
  },
  {
   "cell_type": "markdown",
   "id": "innovative-ethnic",
   "metadata": {},
   "source": [
    "- Retornos Esperados do Portfólio"
   ]
  },
  {
   "cell_type": "code",
   "execution_count": null,
   "id": "drawn-county",
   "metadata": {},
   "outputs": [],
   "source": [
    "RetornoMedioDiarioDoPortfolio = (list(Pesos.values()) * RetornoMedioDiario).sum()\n",
    "RetornoMedioMensalDoPortfolio = (list(Pesos.values()) * RetornoMedioMensal).sum()\n",
    "RetornoMedioAnualizadoDoPortfolio = (list(Pesos.values()) * RetornoMedioAnualizado).sum()"
   ]
  },
  {
   "cell_type": "code",
   "execution_count": null,
   "id": "million-requirement",
   "metadata": {},
   "outputs": [],
   "source": [
    "print(\"Retorno Diário do Portfólio: {0:.2%}\".format(RetornoMedioDiarioDoPortfolio))\n",
    "print(\"Retorno Mensal do Portfólio: {0:.2%}\".format(RetornoMedioMensalDoPortfolio))\n",
    "print(\"Retorno Anualizado do Portfólio: {0:.2%}\".format(RetornoMedioAnualizadoDoPortfolio))"
   ]
  },
  {
   "cell_type": "markdown",
   "id": "considered-party",
   "metadata": {},
   "source": [
    "- Riscos do Portfólio"
   ]
  },
  {
   "cell_type": "code",
   "execution_count": null,
   "id": "surprising-animal",
   "metadata": {},
   "outputs": [],
   "source": [
    "MatrizRiscoDosAtivos = CovarianciaDosRetornos.mul(Pesos, axis=0).mul(Pesos, axis=1).sum().sum()"
   ]
  },
  {
   "cell_type": "code",
   "execution_count": null,
   "id": "possible-horse",
   "metadata": {},
   "outputs": [],
   "source": [
    "RiscoDiario = np.sqrt(MatrizRiscoDosAtivos)\n",
    "RiscoMensal = np.sqrt(MatrizRiscoDosAtivos) * np.sqrt(21)\n",
    "RiscoAnualizado = np.sqrt(MatrizRiscoDosAtivos) * np.sqrt(252)"
   ]
  },
  {
   "cell_type": "code",
   "execution_count": null,
   "id": "dimensional-elizabeth",
   "metadata": {},
   "outputs": [],
   "source": [
    "print(\"Risco Diário do Portfólio: {0:.2%}\".format(RiscoDiario))\n",
    "print(\"Risco Mensal do Portfólio: {0:.2%}\".format(RiscoMensal))\n",
    "print(\"Risco Anualizado do Portfólio: {0:.2%}\".format(RiscoAnualizado))"
   ]
  },
  {
   "cell_type": "markdown",
   "id": "manual-craps",
   "metadata": {},
   "source": [
    "### Simulação de Portfólios\n",
    "Simula um número de portfólios baseado nos seguintes parâmetros:\n",
    "- Ativos: Dataframe de Preços de Ativos.\n",
    "- NumPortfolios: Número de portfólios à simular."
   ]
  },
  {
   "cell_type": "code",
   "execution_count": null,
   "id": "seeing-strength",
   "metadata": {},
   "outputs": [],
   "source": [
    "def SimularPortfolios(Ativos, NumPortfolios):\n",
    "    RetornosSimulados = []\n",
    "    RiscosSimulados = []\n",
    "    PesosSimulados = []\n",
    "    NumAtivos = len(Ativos.columns)\n",
    "\n",
    "    # Retorno dos Ativos\n",
    "    Ativos = Ativos.pct_change().fillna(0)\n",
    "    MatrizCovariancia = RetornoDosAtivos.cov()\n",
    "    \n",
    "    for portfolio in range(NumPortfolios):\n",
    "\n",
    "        # Simula pesos para um portfólio\n",
    "        Pesos = np.random.random(NumAtivos)\n",
    "        Pesos = Pesos/np.sum(Pesos)\n",
    "        PesosSimulados.append(Pesos)\n",
    "        \n",
    "        # Retorno do portfolio simulado\n",
    "        Retornos = Ativos.dot(Pesos).values\n",
    "        Retorno = Retornos.mean()\n",
    "        RetornosSimulados.append(Retorno)\n",
    "        \n",
    "        # Risco do portfólio simulado\n",
    "        Variancias = MatrizCovariancia.mul(Pesos, axis=0).mul(Pesos, axis=1).sum().sum()\n",
    "        Riscos = np.sqrt(Variancias)\n",
    "        RiscosSimulados.append(Riscos)\n",
    "\n",
    "    # Dataframe dos Portfólios simulados\n",
    "    Simulacoes = {'Retorno':RetornosSimulados, 'Risco':RiscosSimulados}\n",
    "    for counter, symbol in enumerate(Ativos.columns.tolist()):\n",
    "        Simulacoes[symbol] = [w[counter] for w in PesosSimulados]\n",
    "    \n",
    "    Portfolios = pd.DataFrame(Simulacoes)\n",
    "    return(Portfolios)"
   ]
  },
  {
   "cell_type": "code",
   "execution_count": null,
   "id": "responsible-spelling",
   "metadata": {},
   "outputs": [],
   "source": [
    "Portfolios = SimularPortfolios(Dados, 10000)"
   ]
  },
  {
   "cell_type": "code",
   "execution_count": null,
   "id": "historic-screen",
   "metadata": {},
   "outputs": [],
   "source": [
    "Portfolios"
   ]
  },
  {
   "cell_type": "markdown",
   "id": "artistic-committee",
   "metadata": {},
   "source": [
    "- Performance de cada Portfólio"
   ]
  },
  {
   "cell_type": "code",
   "execution_count": null,
   "id": "electrical-footwear",
   "metadata": {},
   "outputs": [],
   "source": [
    "Portfolios[\"Sharpe\"] = Portfolios[\"Retorno\"] / Portfolios[\"Risco\"]"
   ]
  },
  {
   "cell_type": "code",
   "execution_count": null,
   "id": "opposite-crack",
   "metadata": {},
   "outputs": [],
   "source": [
    "Portfolios"
   ]
  },
  {
   "cell_type": "markdown",
   "id": "acknowledged-prison",
   "metadata": {},
   "source": [
    "- Fronteira Eficiente Risco vs Retorno"
   ]
  },
  {
   "cell_type": "code",
   "execution_count": null,
   "id": "stylish-kitty",
   "metadata": {},
   "outputs": [],
   "source": [
    "FronteiraEficiente = plg.Figure(plg.Scatter(x=Portfolios[\"Risco\"],\n",
    "                                            y=Portfolios[\"Retorno\"],\n",
    "                                            mode=\"markers\", marker_symbol=\"circle\", marker_opacity=0.5,\n",
    "                                            name=\"Portfolios Simulados\"))\n",
    "FronteiraEficiente.update_layout(xaxis_tickformat=\".2%\", yaxis_tickformat=\".2%\")\n",
    "Plot_Show(FronteiraEficiente, \"Fronteira Eficiente\")"
   ]
  },
  {
   "cell_type": "markdown",
   "id": "lightweight-darwin",
   "metadata": {},
   "source": [
    "- Portfólio de Menor Risco"
   ]
  },
  {
   "cell_type": "code",
   "execution_count": null,
   "id": "happy-glenn",
   "metadata": {},
   "outputs": [],
   "source": [
    "PortfolioMenorRisco = Portfolios.iloc[Portfolios[\"Risco\"].idxmin()]"
   ]
  },
  {
   "cell_type": "code",
   "execution_count": null,
   "id": "occupied-copper",
   "metadata": {},
   "outputs": [],
   "source": [
    "PortfolioMenorRisco"
   ]
  },
  {
   "cell_type": "markdown",
   "id": "published-increase",
   "metadata": {},
   "source": [
    "- Portfólio de Maior Retorno"
   ]
  },
  {
   "cell_type": "code",
   "execution_count": null,
   "id": "external-linux",
   "metadata": {},
   "outputs": [],
   "source": [
    "PortfolioMaiorRetorno = Portfolios.iloc[Portfolios[\"Retorno\"].idxmax()]"
   ]
  },
  {
   "cell_type": "code",
   "execution_count": null,
   "id": "executive-continent",
   "metadata": {},
   "outputs": [],
   "source": [
    "PortfolioMaiorRetorno"
   ]
  },
  {
   "cell_type": "markdown",
   "id": "offshore-mozambique",
   "metadata": {},
   "source": [
    "- Portfólio de Melhor Performance"
   ]
  },
  {
   "cell_type": "code",
   "execution_count": null,
   "id": "complete-blind",
   "metadata": {},
   "outputs": [],
   "source": [
    "PortfolioMelhorSharpe = Portfolios.iloc[Portfolios[\"Sharpe\"].idxmax()]"
   ]
  },
  {
   "cell_type": "code",
   "execution_count": null,
   "id": "thousand-france",
   "metadata": {},
   "outputs": [],
   "source": [
    "PortfolioMelhorSharpe"
   ]
  },
  {
   "cell_type": "markdown",
   "id": "interested-stations",
   "metadata": {},
   "source": [
    "- Fronteira Eficiente com Melhores Portifólios "
   ]
  },
  {
   "cell_type": "code",
   "execution_count": null,
   "id": "american-particle",
   "metadata": {},
   "outputs": [],
   "source": [
    "FronteiraEficiente = plg.Figure()\n",
    "\n",
    "FronteiraEficiente.add_trace(plg.Scatter(x=Portfolios[\"Risco\"],\n",
    "                                         y=Portfolios[\"Retorno\"],\n",
    "                                         mode=\"markers\", marker_symbol=\"circle\", marker_opacity=0.5,\n",
    "                                         name=\"Portfolios Simulados\"))\n",
    "FronteiraEficiente.add_trace(plg.Scatter(x=[PortfolioMenorRisco[\"Risco\"]],\n",
    "                                         y=[PortfolioMenorRisco[\"Retorno\"]],\n",
    "                                         mode=\"markers\", marker_symbol=\"star\", marker_size=20,\n",
    "                                         name=\"Menor Risco\"))\n",
    "FronteiraEficiente.add_trace(plg.Scatter(x=[PortfolioMaiorRetorno[\"Risco\"]],\n",
    "                                         y=[PortfolioMaiorRetorno[\"Retorno\"]],\n",
    "                                         mode=\"markers\", marker_symbol=\"star\", marker_size=20,\n",
    "                                         name=\"Maior Retorno\"))\n",
    "FronteiraEficiente.add_trace(plg.Scatter(x=[PortfolioMelhorSharpe[\"Risco\"]],\n",
    "                                         y=[PortfolioMelhorSharpe[\"Retorno\"]],\n",
    "                                         mode=\"markers\", marker_symbol=\"star\", marker_size=20,\n",
    "                                         name=\"Maior Sharpe\"))\n",
    "FronteiraEficiente.update_layout(xaxis_tickformat=\".2%\", yaxis_tickformat=\".2%\")\n",
    "Plot_Show(FronteiraEficiente, \"Fronteira Eficiente\")"
   ]
  },
  {
   "cell_type": "code",
   "execution_count": null,
   "id": "lesser-split",
   "metadata": {},
   "outputs": [],
   "source": []
  }
 ],
 "metadata": {
  "kernelspec": {
   "display_name": "Python 3 (ipykernel)",
   "language": "python",
   "name": "python3"
  },
  "language_info": {
   "codemirror_mode": {
    "name": "ipython",
    "version": 3
   },
   "file_extension": ".py",
   "mimetype": "text/x-python",
   "name": "python",
   "nbconvert_exporter": "python",
   "pygments_lexer": "ipython3",
   "version": "3.10.8"
  }
 },
 "nbformat": 4,
 "nbformat_minor": 5
}
