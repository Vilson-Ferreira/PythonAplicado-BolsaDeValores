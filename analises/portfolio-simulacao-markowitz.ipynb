{
 "cells": [
  {
   "cell_type": "markdown",
   "id": "cheap-homeless",
   "metadata": {},
   "source": [
    "# Análise de Portfólio\n",
    "Análise de portfólio usando a Fronteira Eficiente de Markowitz e otimização por simulações."
   ]
  },
  {
   "cell_type": "code",
   "execution_count": null,
   "id": "ordinary-model",
   "metadata": {},
   "outputs": [],
   "source": [
    "import pandas as pd\n",
    "import numpy as np\n",
    "import datetime\n",
    "import pandas_datareader as pdr\n",
    "import plotly\n",
    "import plotly.offline as plo\n",
    "import plotly.graph_objs as plg\n",
    "import plotly.express as plx\n",
    "from scipy.stats import norm"
   ]
  },
  {
   "cell_type": "markdown",
   "id": "framed-migration",
   "metadata": {},
   "source": [
    "### Funções de Configurações Gráficas\n",
    "Funções para configurações base de gráficos e exibição."
   ]
  },
  {
   "cell_type": "code",
   "execution_count": null,
   "id": "impossible-channel",
   "metadata": {},
   "outputs": [],
   "source": [
    "def Plot_Formato(fig, title):\n",
    "    title={'text': title, 'xanchor': 'center', 'yanchor': 'bottom', 'y':0, 'x':0.5,}\n",
    "    \n",
    "    fig.update_layout(title=title, \n",
    "            xaxis_rangeslider_visible=False,  width=1280, height=720,\n",
    "            xaxis_showgrid=True, xaxis_gridwidth=1, xaxis_gridcolor='#E8E8E8',\n",
    "            yaxis_showgrid=True, yaxis_gridwidth=1, yaxis_gridcolor='#E8E8E8',\n",
    "            plot_bgcolor='rgba(0,0,0,0)')\n",
    "    \n",
    "def Plot_Show(data, title):\n",
    "    fig = plg.Figure(data=data)\n",
    "\n",
    "    Plot_Formato(fig, title)\n",
    "\n",
    "    fig.show()   "
   ]
  },
  {
   "cell_type": "markdown",
   "id": "genetic-credits",
   "metadata": {},
   "source": [
    "### Leitura de Dados de Ativos\n",
    "Realiza a leitura online de dados de ativos financeiros."
   ]
  },
  {
   "cell_type": "code",
   "execution_count": null,
   "id": "unlike-albany",
   "metadata": {},
   "outputs": [],
   "source": [
    "Pesos = {\"ITUB4.SA\":0.10, \"CPLE3.SA\":0.20, \"LREN3.SA\":0.20, \"EMBR3.SA\":0.10, \"PSSA3.SA\":0.10, \"GOAU4.SA\":0.30}\n",
    "\n",
    "Periodo_Inicio = datetime.datetime(2016,1,1)\n",
    "Periodo_Termino = datetime.datetime(2021,2,10)"
   ]
  },
  {
   "cell_type": "code",
   "execution_count": null,
   "id": "antique-composition",
   "metadata": {},
   "outputs": [],
   "source": [
    "DadosAcoes = pdr.get_data_yahoo(list(Pesos.keys()), start=Periodo_Inicio, end=Periodo_Termino)"
   ]
  },
  {
   "cell_type": "code",
   "execution_count": null,
   "id": "modular-debut",
   "metadata": {},
   "outputs": [],
   "source": [
    "Dados = DadosAcoes[\"Adj Close\"]"
   ]
  },
  {
   "cell_type": "code",
   "execution_count": null,
   "id": "breathing-charles",
   "metadata": {},
   "outputs": [],
   "source": [
    "Dados"
   ]
  },
  {
   "cell_type": "markdown",
   "id": "employed-likelihood",
   "metadata": {},
   "source": [
    "### Fronteira Eficiente de Markowitz\n",
    "Calcula o retorno esperado para um portfólio e cria fronteira eficiente simulando 10.000 portfólios."
   ]
  },
  {
   "cell_type": "markdown",
   "id": "offensive-cowboy",
   "metadata": {},
   "source": [
    "- Retorno dos Ativos"
   ]
  },
  {
   "cell_type": "code",
   "execution_count": null,
   "id": "royal-aging",
   "metadata": {},
   "outputs": [],
   "source": [
    "RetornoDosAtivos = Dados.pct_change().fillna(0)"
   ]
  },
  {
   "cell_type": "code",
   "execution_count": null,
   "id": "standing-lexington",
   "metadata": {},
   "outputs": [],
   "source": [
    "RetornoDosAtivos"
   ]
  },
  {
   "cell_type": "markdown",
   "id": "square-harassment",
   "metadata": {},
   "source": [
    "- Retorno Médio Diário Esperado"
   ]
  },
  {
   "cell_type": "code",
   "execution_count": null,
   "id": "precise-workshop",
   "metadata": {},
   "outputs": [],
   "source": [
    "RetornoMedioDiario = RetornoDosAtivos.mean()"
   ]
  },
  {
   "cell_type": "code",
   "execution_count": null,
   "id": "differential-illness",
   "metadata": {},
   "outputs": [],
   "source": [
    "RetornoMedioDiario"
   ]
  },
  {
   "cell_type": "markdown",
   "id": "outdoor-updating",
   "metadata": {},
   "source": [
    "- Retorno Médio Mensal Esperado"
   ]
  },
  {
   "cell_type": "code",
   "execution_count": null,
   "id": "underlying-output",
   "metadata": {},
   "outputs": [],
   "source": [
    "RetornoMedioMensal = Dados.resample(\"M\").last().pct_change().mean()"
   ]
  },
  {
   "cell_type": "code",
   "execution_count": null,
   "id": "protective-myrtle",
   "metadata": {},
   "outputs": [],
   "source": [
    "RetornoMedioMensal"
   ]
  },
  {
   "cell_type": "markdown",
   "id": "classical-equality",
   "metadata": {},
   "source": [
    "- Retorno Médio Anualizado Esperado"
   ]
  },
  {
   "cell_type": "code",
   "execution_count": null,
   "id": "egyptian-stretch",
   "metadata": {},
   "outputs": [],
   "source": [
    "RetornoMedioAnualizado = Dados.resample(\"Y\").last().pct_change().mean()"
   ]
  },
  {
   "cell_type": "code",
   "execution_count": null,
   "id": "received-sunset",
   "metadata": {},
   "outputs": [],
   "source": [
    "RetornoMedioAnualizado"
   ]
  },
  {
   "cell_type": "markdown",
   "id": "heavy-incentive",
   "metadata": {},
   "source": [
    "- Matriz de Covariância"
   ]
  },
  {
   "cell_type": "code",
   "execution_count": null,
   "id": "consecutive-tourist",
   "metadata": {},
   "outputs": [],
   "source": [
    "CovarianciaDosRetornos = RetornoDosAtivos.cov()"
   ]
  },
  {
   "cell_type": "code",
   "execution_count": null,
   "id": "natural-animation",
   "metadata": {},
   "outputs": [],
   "source": [
    "CovarianciaDosRetornos"
   ]
  },
  {
   "cell_type": "markdown",
   "id": "sonic-production",
   "metadata": {},
   "source": [
    "- Matriz de Correlação"
   ]
  },
  {
   "cell_type": "code",
   "execution_count": null,
   "id": "moving-future",
   "metadata": {},
   "outputs": [],
   "source": [
    "CorrelacaoDosRetornos = RetornoDosAtivos.corr()"
   ]
  },
  {
   "cell_type": "code",
   "execution_count": null,
   "id": "secret-million",
   "metadata": {},
   "outputs": [],
   "source": [
    "CorrelacaoDosRetornos"
   ]
  },
  {
   "cell_type": "markdown",
   "id": "significant-stevens",
   "metadata": {},
   "source": [
    "- Retornos Esperados do Portfólio"
   ]
  },
  {
   "cell_type": "code",
   "execution_count": null,
   "id": "durable-vermont",
   "metadata": {},
   "outputs": [],
   "source": [
    "RetornoMedioDiarioDoPortfolio = (list(Pesos.values()) * RetornoMedioDiario).sum()\n",
    "RetornoMedioMensalDoPortfolio = (list(Pesos.values()) * RetornoMedioMensal).sum()\n",
    "RetornoMedioAnualizadoDoPortfolio = (list(Pesos.values()) * RetornoMedioAnualizado).sum()"
   ]
  },
  {
   "cell_type": "code",
   "execution_count": null,
   "id": "superb-collection",
   "metadata": {},
   "outputs": [],
   "source": [
    "print(\"Retorno Diário do Portfólio: {0:.2%}\".format(RetornoMedioDiarioDoPortfolio))\n",
    "print(\"Retorno Mensal do Portfólio: {0:.2%}\".format(RetornoMedioMensalDoPortfolio))\n",
    "print(\"Retorno Anualizado do Portfólio: {0:.2%}\".format(RetornoMedioAnualizadoDoPortfolio))"
   ]
  },
  {
   "cell_type": "markdown",
   "id": "qualified-notion",
   "metadata": {},
   "source": [
    "- Riscos do Portfólio"
   ]
  },
  {
   "cell_type": "code",
   "execution_count": null,
   "id": "hearing-carpet",
   "metadata": {},
   "outputs": [],
   "source": [
    "MatrizRiscoDosAtivos = CovarianciaDosRetornos.mul(Pesos, axis=0).mul(Pesos, axis=1).sum().sum()"
   ]
  },
  {
   "cell_type": "code",
   "execution_count": null,
   "id": "important-mattress",
   "metadata": {},
   "outputs": [],
   "source": [
    "RiscoDiario = np.sqrt(MatrizRiscoDosAtivos)\n",
    "RiscoMensal = np.sqrt(MatrizRiscoDosAtivos) * np.sqrt(21)\n",
    "RiscoAnualizado = np.sqrt(MatrizRiscoDosAtivos) * np.sqrt(252)"
   ]
  },
  {
   "cell_type": "code",
   "execution_count": null,
   "id": "chicken-uzbekistan",
   "metadata": {},
   "outputs": [],
   "source": [
    "print(\"Risco Diário do Portfólio: {0:.2%}\".format(RiscoDiario))\n",
    "print(\"Risco Mensal do Portfólio: {0:.2%}\".format(RiscoMensal))\n",
    "print(\"Risco Anualizado do Portfólio: {0:.2%}\".format(RiscoAnualizado))"
   ]
  },
  {
   "cell_type": "markdown",
   "id": "employed-peace",
   "metadata": {},
   "source": [
    "### Simulação de Portfólios\n",
    "Simula um número de portfólios baseado nos seguintes parâmetros:\n",
    "- Ativos: Dataframe de Preços de Ativos.\n",
    "- NumPortfolios: Número de portfólios à simular."
   ]
  },
  {
   "cell_type": "code",
   "execution_count": null,
   "id": "superb-barrel",
   "metadata": {},
   "outputs": [],
   "source": [
    "def SimularPortfolios(Ativos, NumPortfolios):\n",
    "    RetornosSimulados = []\n",
    "    RiscosSimulados = []\n",
    "    PesosSimulados = []\n",
    "    NumAtivos = len(Ativos.columns)\n",
    "\n",
    "    # Retorno dos Ativos\n",
    "    Ativos = Ativos.pct_change().fillna(0)\n",
    "    MatrizCovariancia = RetornoDosAtivos.cov()\n",
    "    \n",
    "    for portfolio in range(NumPortfolios):\n",
    "\n",
    "        # Simula pesos para um portfólio\n",
    "        Pesos = np.random.random(NumAtivos)\n",
    "        Pesos = Pesos/np.sum(Pesos)\n",
    "        PesosSimulados.append(Pesos)\n",
    "        \n",
    "        # Retorno do portfolio simulado\n",
    "        Retornos = Ativos.dot(Pesos).values\n",
    "        Retorno = Retornos.mean()\n",
    "        RetornosSimulados.append(Retorno)\n",
    "        \n",
    "        # Risco do portfólio simulado\n",
    "        Variancias = MatrizCovariancia.mul(Pesos, axis=0).mul(Pesos, axis=1).sum().sum()\n",
    "        Riscos = np.sqrt(Variancias)\n",
    "        RiscosSimulados.append(Riscos)\n",
    "\n",
    "    # Dataframe dos Portfólios simulados\n",
    "    Simulacoes = {'Retorno':RetornosSimulados, 'Risco':RiscosSimulados}\n",
    "    for counter, symbol in enumerate(Ativos.columns.tolist()):\n",
    "        Simulacoes[symbol] = [w[counter] for w in PesosSimulados]\n",
    "    \n",
    "    Portfolios = pd.DataFrame(Simulacoes)\n",
    "    return(Portfolios)"
   ]
  },
  {
   "cell_type": "code",
   "execution_count": null,
   "id": "straight-registrar",
   "metadata": {},
   "outputs": [],
   "source": [
    "Portfolios = SimularPortfolios(Dados, 10000)"
   ]
  },
  {
   "cell_type": "code",
   "execution_count": null,
   "id": "adequate-assistant",
   "metadata": {},
   "outputs": [],
   "source": [
    "Portfolios"
   ]
  },
  {
   "cell_type": "markdown",
   "id": "thick-fighter",
   "metadata": {},
   "source": [
    "- Performance de cada Portfólio"
   ]
  },
  {
   "cell_type": "code",
   "execution_count": null,
   "id": "straight-converter",
   "metadata": {},
   "outputs": [],
   "source": [
    "Portfolios[\"Sharpe\"] = Portfolios[\"Retorno\"] / Portfolios[\"Risco\"]"
   ]
  },
  {
   "cell_type": "code",
   "execution_count": null,
   "id": "animal-operation",
   "metadata": {},
   "outputs": [],
   "source": [
    "Portfolios"
   ]
  },
  {
   "cell_type": "markdown",
   "id": "confident-villa",
   "metadata": {},
   "source": [
    "- Fronteira Eficiente Risco vs Retorno"
   ]
  },
  {
   "cell_type": "code",
   "execution_count": null,
   "id": "compound-consumption",
   "metadata": {},
   "outputs": [],
   "source": [
    "FronteiraEficiente = plg.Figure(plg.Scatter(x=Portfolios[\"Risco\"],\n",
    "                                            y=Portfolios[\"Retorno\"],\n",
    "                                            mode=\"markers\", marker_symbol=\"circle\", marker_opacity=0.5,\n",
    "                                            name=\"Portfolios Simulados\"))\n",
    "FronteiraEficiente.update_layout(xaxis_tickformat=\".2%\", yaxis_tickformat=\".2%\")\n",
    "Plot_Show(FronteiraEficiente, \"Fronteira Eficiente\")"
   ]
  },
  {
   "cell_type": "markdown",
   "id": "convertible-container",
   "metadata": {},
   "source": [
    "- Portfólio de Menor Risco"
   ]
  },
  {
   "cell_type": "code",
   "execution_count": null,
   "id": "amateur-guest",
   "metadata": {},
   "outputs": [],
   "source": [
    "PortfolioMenorRisco = Portfolios.iloc[Portfolios[\"Risco\"].idxmin()]"
   ]
  },
  {
   "cell_type": "code",
   "execution_count": null,
   "id": "accompanied-crack",
   "metadata": {},
   "outputs": [],
   "source": [
    "PortfolioMenorRisco"
   ]
  },
  {
   "cell_type": "markdown",
   "id": "documented-timothy",
   "metadata": {},
   "source": [
    "- Portfólio de Maior Retorno"
   ]
  },
  {
   "cell_type": "code",
   "execution_count": null,
   "id": "mysterious-princeton",
   "metadata": {},
   "outputs": [],
   "source": [
    "PortfolioMaiorRetorno = Portfolios.iloc[Portfolios[\"Retorno\"].idxmax()]"
   ]
  },
  {
   "cell_type": "code",
   "execution_count": null,
   "id": "statutory-finding",
   "metadata": {},
   "outputs": [],
   "source": [
    "PortfolioMaiorRetorno"
   ]
  },
  {
   "cell_type": "markdown",
   "id": "regulation-handbook",
   "metadata": {},
   "source": [
    "- Portfólio de Melhor Performance"
   ]
  },
  {
   "cell_type": "code",
   "execution_count": null,
   "id": "failing-husband",
   "metadata": {},
   "outputs": [],
   "source": [
    "PortfolioMelhorSharpe = Portfolios.iloc[Portfolios[\"Sharpe\"].idxmax()]"
   ]
  },
  {
   "cell_type": "code",
   "execution_count": null,
   "id": "harmful-carrier",
   "metadata": {},
   "outputs": [],
   "source": [
    "PortfolioMelhorSharpe"
   ]
  },
  {
   "cell_type": "markdown",
   "id": "hawaiian-wealth",
   "metadata": {},
   "source": [
    "- Fronteira Eficiente com Melhores Portifólios "
   ]
  },
  {
   "cell_type": "code",
   "execution_count": null,
   "id": "chubby-peoples",
   "metadata": {},
   "outputs": [],
   "source": [
    "FronteiraEficiente = plg.Figure()\n",
    "\n",
    "FronteiraEficiente.add_trace(plg.Scatter(x=Portfolios[\"Risco\"],\n",
    "                                         y=Portfolios[\"Retorno\"],\n",
    "                                         mode=\"markers\", marker_symbol=\"circle\", marker_opacity=0.5,\n",
    "                                         name=\"Portfolios Simulados\"))\n",
    "FronteiraEficiente.add_trace(plg.Scatter(x=[PortfolioMenorRisco[\"Risco\"]],\n",
    "                                         y=[PortfolioMenorRisco[\"Retorno\"]],\n",
    "                                         mode=\"markers\", marker_symbol=\"star\", marker_size=20,\n",
    "                                         name=\"Menor Risco\"))\n",
    "FronteiraEficiente.add_trace(plg.Scatter(x=[PortfolioMaiorRetorno[\"Risco\"]],\n",
    "                                         y=[PortfolioMaiorRetorno[\"Retorno\"]],\n",
    "                                         mode=\"markers\", marker_symbol=\"star\", marker_size=20,\n",
    "                                         name=\"Maior Retorno\"))\n",
    "FronteiraEficiente.add_trace(plg.Scatter(x=[PortfolioMelhorSharpe[\"Risco\"]],\n",
    "                                         y=[PortfolioMelhorSharpe[\"Retorno\"]],\n",
    "                                         mode=\"markers\", marker_symbol=\"star\", marker_size=20,\n",
    "                                         name=\"Maior Sharpe\"))\n",
    "FronteiraEficiente.update_layout(xaxis_tickformat=\".2%\", yaxis_tickformat=\".2%\")\n",
    "Plot_Show(FronteiraEficiente, \"Fronteira Eficiente\")"
   ]
  },
  {
   "cell_type": "code",
   "execution_count": null,
   "id": "bored-companion",
   "metadata": {},
   "outputs": [],
   "source": []
  }
 ],
 "metadata": {
  "kernelspec": {
   "display_name": "Python 3",
   "language": "python",
   "name": "python3"
  },
  "language_info": {
   "codemirror_mode": {
    "name": "ipython",
    "version": 3
   },
   "file_extension": ".py",
   "mimetype": "text/x-python",
   "name": "python",
   "nbconvert_exporter": "python",
   "pygments_lexer": "ipython3",
   "version": "3.7.9"
  }
 },
 "nbformat": 4,
 "nbformat_minor": 5
}
