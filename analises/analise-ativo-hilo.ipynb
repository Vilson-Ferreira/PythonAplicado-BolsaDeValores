{
 "cells": [
  {
   "cell_type": "markdown",
   "id": "twenty-department",
   "metadata": {},
   "source": [
    "# High Low (HiLo Activator)\n",
    "O indicador HiLo é uma técnica para rastrear tendências, usando médias móveis, utilizado para identificar pontos de entrada e saída de operações.<br />\n",
    "Os sinais de compra e venda deste indicador é baseado na alternância das séries de sinais."
   ]
  },
  {
   "cell_type": "code",
   "execution_count": null,
   "id": "nominated-raising",
   "metadata": {},
   "outputs": [],
   "source": [
    "import pandas as pd\n",
    "import numpy as np\n",
    "import datetime\n",
    "import pandas_datareader as pdr\n",
    "import yfinance as yf\n",
    "import plotly\n",
    "import plotly.offline as plo\n",
    "import plotly.graph_objs as plg\n",
    "import plotly.express as plx\n",
    "import plotly.subplots as pls\n",
    "from scipy.stats import norm"
   ]
  },
  {
   "cell_type": "markdown",
   "id": "linear-barrel",
   "metadata": {},
   "source": [
    "### Funções de Configurações Gráficas\n",
    "Funções para configurações base de gráficos e exibição."
   ]
  },
  {
   "cell_type": "code",
   "execution_count": null,
   "id": "continuing-processor",
   "metadata": {},
   "outputs": [],
   "source": [
    "def Plot_Formato(fig, title):\n",
    "    title={'text': title, 'xanchor': 'center', 'yanchor': 'bottom', 'y':0, 'x':0.5,}\n",
    "    \n",
    "    fig.update_layout(title=title, \n",
    "            xaxis_rangeslider_visible=False,  width=1280, height=720,\n",
    "            xaxis_showgrid=True, xaxis_gridwidth=1, xaxis_gridcolor='#E8E8E8',\n",
    "            yaxis_showgrid=True, yaxis_gridwidth=1, yaxis_gridcolor='#E8E8E8',\n",
    "            plot_bgcolor='rgba(0,0,0,0)')\n",
    "    \n",
    "def Plot_Show(data, title):\n",
    "    fig = plg.Figure(data=data)\n",
    "\n",
    "    Plot_Formato(fig, title)\n",
    "\n",
    "    fig.show()   "
   ]
  },
  {
   "cell_type": "markdown",
   "id": "purple-blond",
   "metadata": {},
   "source": [
    "### Leitura de Dados de Ativos\n",
    "Realiza a leitura online de dados de ativos financeiros."
   ]
  },
  {
   "cell_type": "code",
   "execution_count": null,
   "id": "static-evidence",
   "metadata": {},
   "outputs": [],
   "source": [
    "Acoes = \"CPLE3.SA\"\n",
    "Periodo_Inicio = datetime.datetime(2019,1,1)\n",
    "Periodo_Termino = datetime.datetime(2021,2,10)"
   ]
  },
  {
   "cell_type": "code",
   "execution_count": null,
   "id": "driving-unknown",
   "metadata": {},
   "outputs": [],
   "source": [
    "# Dados = pdr.get_data_yahoo(Acoes, start=Periodo_Inicio, end=Periodo_Termino)\n",
    "Dados = yf.download(Acoes, start=Periodo_Inicio, end=Periodo_Termino)"
   ]
  },
  {
   "cell_type": "code",
   "execution_count": null,
   "id": "corrected-nomination",
   "metadata": {},
   "outputs": [],
   "source": [
    "Dados"
   ]
  },
  {
   "cell_type": "markdown",
   "id": "contemporary-tiffany",
   "metadata": {},
   "source": [
    "### Análise dos Preços\n",
    "Candlestick da série de preços do ativo."
   ]
  },
  {
   "cell_type": "code",
   "execution_count": null,
   "id": "civil-amount",
   "metadata": {},
   "outputs": [],
   "source": [
    "SeriePrecos = plg.Figure(plg.Scatter(x=Dados.index, y=Dados.Close))\n",
    "SeriePrecos.update_layout(yaxis_tickformat=\".2f\")\n",
    "Plot_Show(SeriePrecos, \"Preços\")"
   ]
  },
  {
   "cell_type": "code",
   "execution_count": null,
   "id": "invisible-monkey",
   "metadata": {},
   "outputs": [],
   "source": [
    "CandlePrecos = plg.Figure(plg.Candlestick(x=Dados.index,\n",
    "                                          open=Dados.Open,\n",
    "                                          high=Dados.High,\n",
    "                                          low=Dados.Low,\n",
    "                                          close=Dados.Close))\n",
    "CandlePrecos.update_layout(yaxis_tickformat=\".2f\")\n",
    "Plot_Show(CandlePrecos, \"Preços\")"
   ]
  },
  {
   "cell_type": "markdown",
   "id": "incident-divorce",
   "metadata": {},
   "source": [
    "### Cálculo do HiLo e séries de sinais\n",
    "O HiLo é calculado a partir de duas médias móveis simples de curto prazo, normalmente de 8 dias, sendo uma a pártir do preço máximo e outra do preço mínimo.\n",
    "- Alternando da linha de mínimo para máximo = Sinal para Compra.\n",
    "- Alternando da linha de máximo para mínimo = Sinal para Venda."
   ]
  },
  {
   "cell_type": "code",
   "execution_count": null,
   "id": "coral-result",
   "metadata": {},
   "outputs": [],
   "source": [
    "JanelaDeTempo = 8"
   ]
  },
  {
   "cell_type": "code",
   "execution_count": null,
   "id": "built-brief",
   "metadata": {},
   "outputs": [],
   "source": [
    "HiLo_Alta = Dados.High.rolling(window=JanelaDeTempo).mean()"
   ]
  },
  {
   "cell_type": "code",
   "execution_count": null,
   "id": "cardiovascular-harris",
   "metadata": {},
   "outputs": [],
   "source": [
    "HiLo_Baixa = Dados.Low.rolling(window=JanelaDeTempo).mean()"
   ]
  },
  {
   "cell_type": "code",
   "execution_count": null,
   "id": "prepared-bicycle",
   "metadata": {},
   "outputs": [],
   "source": [
    "SerieHiLoAlta = pd.DataFrame(index=Dados.index)\n",
    "SerieHiLoAlta[\"High\"] = np.where(Dados.Close > HiLo_Alta, HiLo_Baixa, np.NaN)"
   ]
  },
  {
   "cell_type": "code",
   "execution_count": null,
   "id": "unsigned-grace",
   "metadata": {},
   "outputs": [],
   "source": [
    "SerieHiLoBaixa = pd.DataFrame(index=Dados.index)\n",
    "SerieHiLoBaixa[\"Low\"] = np.where(Dados.Close < HiLo_Baixa, HiLo_Alta, np.NaN)"
   ]
  },
  {
   "cell_type": "code",
   "execution_count": null,
   "id": "proprietary-memorabilia",
   "metadata": {},
   "outputs": [],
   "source": [
    "SerieComMediaMovel = plg.Figure()\n",
    "SerieComMediaMovel.add_trace(plg.Candlestick(x=Dados.index,\n",
    "                                            open=Dados.Open,\n",
    "                                            high=Dados.High,\n",
    "                                            low=Dados.Low,\n",
    "                                            close=Dados.Close,\n",
    "                                            name=\"Preços\",\n",
    "                                            opacity=0.5))\n",
    "SerieComMediaMovel.add_trace(plg.Scatter(mode=\"lines\",\n",
    "                                         x=SerieHiLoAlta.index,\n",
    "                                         y=SerieHiLoAlta.High,\n",
    "                                         name=\"HiLo Alta\"))\n",
    "SerieComMediaMovel.add_trace(plg.Scatter(mode=\"lines\",\n",
    "                                         x=SerieHiLoBaixa.index,\n",
    "                                         y=SerieHiLoBaixa.Low,\n",
    "                                         name=\"HiLo Baixa\"))\n",
    "Plot_Show(SerieComMediaMovel, \"Preços & HiLo Activator\")"
   ]
  },
  {
   "cell_type": "code",
   "execution_count": null,
   "id": "mechanical-berkeley",
   "metadata": {},
   "outputs": [],
   "source": []
  }
 ],
 "metadata": {
  "kernelspec": {
   "display_name": "Python 3 (ipykernel)",
   "language": "python",
   "name": "python3"
  },
  "language_info": {
   "codemirror_mode": {
    "name": "ipython",
    "version": 3
   },
   "file_extension": ".py",
   "mimetype": "text/x-python",
   "name": "python",
   "nbconvert_exporter": "python",
   "pygments_lexer": "ipython3",
   "version": "3.10.8"
  }
 },
 "nbformat": 4,
 "nbformat_minor": 5
}
