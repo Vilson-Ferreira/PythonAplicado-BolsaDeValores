{
 "cells": [
  {
   "cell_type": "markdown",
   "id": "terminal-cemetery",
   "metadata": {},
   "source": [
    "# Bandas de Bollinger (Bollinger Band)\n",
    "Acompanhar e identificar a variação dos preços baseado em médias mópveis e desvios padrões, sendo um indicador para medição de volatilidade.<br />\n",
    "- São criadas duas \"bandas\" sendo as faixas de concentração dos preços dentro de 2 desvios padrões.\n",
    "- Contribui para entender preços que estão atingindo áreas de subvalorização ou supervalorização."
   ]
  },
  {
   "cell_type": "code",
   "execution_count": null,
   "id": "decent-cameroon",
   "metadata": {},
   "outputs": [],
   "source": [
    "import pandas as pd\n",
    "import numpy as np\n",
    "import datetime\n",
    "import yfinance as yf\n",
    "import plotly\n",
    "import plotly.offline as plo\n",
    "import plotly.graph_objs as plg\n",
    "import plotly.express as plx\n",
    "import plotly.subplots as pls\n",
    "from scipy.stats import norm"
   ]
  },
  {
   "cell_type": "markdown",
   "id": "catholic-sheriff",
   "metadata": {},
   "source": [
    "### Funções de Configurações Gráficas\n",
    "Funções para configurações base de gráficos e exibição."
   ]
  },
  {
   "cell_type": "code",
   "execution_count": null,
   "id": "outside-techno",
   "metadata": {},
   "outputs": [],
   "source": [
    "def Plot_Formato(fig, title):\n",
    "    title={'text': title, 'xanchor': 'center', 'yanchor': 'bottom', 'y':0, 'x':0.5,}\n",
    "    \n",
    "    fig.update_layout(title=title, \n",
    "            xaxis_rangeslider_visible=False,  width=1280, height=720,\n",
    "            xaxis_showgrid=True, xaxis_gridwidth=1, xaxis_gridcolor='#E8E8E8',\n",
    "            yaxis_showgrid=True, yaxis_gridwidth=1, yaxis_gridcolor='#E8E8E8',\n",
    "            plot_bgcolor='rgba(0,0,0,0)')\n",
    "    \n",
    "def Plot_Show(data, title):\n",
    "    fig = plg.Figure(data=data)\n",
    "\n",
    "    Plot_Formato(fig, title)\n",
    "\n",
    "    fig.show()   "
   ]
  },
  {
   "cell_type": "markdown",
   "id": "likely-skiing",
   "metadata": {},
   "source": [
    "### Leitura de Dados de Ativos\n",
    "Realiza a leitura online de dados de ativos financeiros."
   ]
  },
  {
   "cell_type": "code",
   "execution_count": null,
   "id": "comic-estate",
   "metadata": {},
   "outputs": [],
   "source": [
    "Acao = \"CPLE3.SA\"\n",
    "Periodo_Inicio = datetime.datetime(2019,1,1)\n",
    "Periodo_Termino = datetime.datetime(2021,2,10)"
   ]
  },
  {
   "cell_type": "code",
   "execution_count": null,
   "id": "manufactured-corner",
   "metadata": {},
   "outputs": [],
   "source": [
    "Dados = yf.download(Acao, start=Periodo_Inicio, end=Periodo_Termino)"
   ]
  },
  {
   "cell_type": "code",
   "execution_count": null,
   "id": "alternate-maria",
   "metadata": {},
   "outputs": [],
   "source": [
    "Dados"
   ]
  },
  {
   "cell_type": "markdown",
   "id": "distant-reset",
   "metadata": {},
   "source": [
    "### Análise dos Preços\n",
    "Candlestick da série de preços do ativo."
   ]
  },
  {
   "cell_type": "code",
   "execution_count": null,
   "id": "behind-mineral",
   "metadata": {},
   "outputs": [],
   "source": [
    "SeriePrecos = plg.Figure(plg.Scatter(x=Dados.index, y=Dados[\"Close\", Acao]))\n",
    "SeriePrecos.update_layout(yaxis_tickformat=\".2f\")\n",
    "Plot_Show(SeriePrecos, \"Preços\")"
   ]
  },
  {
   "cell_type": "code",
   "execution_count": null,
   "id": "blind-hawaiian",
   "metadata": {},
   "outputs": [],
   "source": [
    "CandlePrecos = plg.Figure(plg.Candlestick(x=Dados.index,\n",
    "                                          open=Dados[\"Open\", Acao],\n",
    "                                          high=Dados[\"High\", Acao],\n",
    "                                          low=Dados[\"Low\", Acao],\n",
    "                                          close=Dados[\"Close\", Acao]))\n",
    "CandlePrecos.update_layout(yaxis_tickformat=\".2f\")\n",
    "Plot_Show(CandlePrecos, \"Preços\")"
   ]
  },
  {
   "cell_type": "markdown",
   "id": "desirable-maria",
   "metadata": {},
   "source": [
    "### Cálculo das Bandas\n",
    "Banda Superior = Média Móvel Simples 20d + (2 x Desvio de 20 dias). <br />\n",
    "Banda Inferior = Média Móvel Simples 20d - (2 x Desvio de 20 dias). <br />\n",
    "A partir das bandas são possíveis identificar as áreas de Suporte e Resistência, sendo elas:\n",
    "- Suporte: região onde os preços tem dificuldade para continuar caindo.\n",
    "- Resistência: região onde os preços tem dificuldade de aumentar mais, indicando vendedores no controle do cenário.\n",
    "- Quando as bandas são estreitas entendemos que a demanda e oferta podem estar em equilíbrio."
   ]
  },
  {
   "cell_type": "code",
   "execution_count": null,
   "id": "relative-store",
   "metadata": {},
   "outputs": [],
   "source": [
    "JanelaDeTempo = 20"
   ]
  },
  {
   "cell_type": "code",
   "execution_count": null,
   "id": "acknowledged-owner",
   "metadata": {},
   "outputs": [],
   "source": [
    "MA20 = Dados[\"Close\", Acao].rolling(window=JanelaDeTempo).mean().dropna()"
   ]
  },
  {
   "cell_type": "code",
   "execution_count": null,
   "id": "helpful-commodity",
   "metadata": {},
   "outputs": [],
   "source": [
    "Desvio20 = Dados[\"Close\", Acao].rolling(window=JanelaDeTempo).std().dropna()"
   ]
  },
  {
   "cell_type": "code",
   "execution_count": null,
   "id": "located-fruit",
   "metadata": {},
   "outputs": [],
   "source": [
    "BandaSuperior = MA20 + 2 * Desvio20"
   ]
  },
  {
   "cell_type": "code",
   "execution_count": null,
   "id": "loaded-royal",
   "metadata": {},
   "outputs": [],
   "source": [
    "BandaInferior = MA20 - 2 * Desvio20"
   ]
  },
  {
   "cell_type": "code",
   "execution_count": null,
   "id": "neither-technician",
   "metadata": {},
   "outputs": [],
   "source": [
    "SerieComMediaMovel = plg.Figure()\n",
    "SerieComMediaMovel.add_trace(plg.Candlestick(x=Dados.index,\n",
    "                                            open=Dados[\"Open\", Acao],\n",
    "                                            high=Dados[\"High\", Acao],\n",
    "                                            low=Dados[\"Low\", Acao],\n",
    "                                            close=Dados[\"Close\", Acao],\n",
    "                                            name=\"Preços\"))\n",
    "SerieComMediaMovel.add_trace(plg.Scatter(x=BandaSuperior.index,\n",
    "                                         y=BandaSuperior,\n",
    "                                         name=\"Superior\",\n",
    "                                            opacity=0.5))\n",
    "SerieComMediaMovel.add_trace(plg.Scatter(x=MA20.index,\n",
    "                                         y=MA20,\n",
    "                                         name=\"MA 20d\",\n",
    "                                            opacity=0.5))\n",
    "SerieComMediaMovel.add_trace(plg.Scatter(x=BandaInferior.index,\n",
    "                                         y=BandaInferior,\n",
    "                                         name=\"Inferior\",\n",
    "                                            opacity=0.5))\n",
    "Plot_Show(SerieComMediaMovel, \"Preços & Bandas de Bollinger\")"
   ]
  },
  {
   "cell_type": "code",
   "execution_count": null,
   "id": "elect-vanilla",
   "metadata": {},
   "outputs": [],
   "source": []
  }
 ],
 "metadata": {
  "kernelspec": {
   "display_name": "Python 3 (ipykernel)",
   "language": "python",
   "name": "python3"
  },
  "language_info": {
   "codemirror_mode": {
    "name": "ipython",
    "version": 3
   },
   "file_extension": ".py",
   "mimetype": "text/x-python",
   "name": "python",
   "nbconvert_exporter": "python",
   "pygments_lexer": "ipython3",
   "version": "3.13.2"
  }
 },
 "nbformat": 4,
 "nbformat_minor": 5
}
