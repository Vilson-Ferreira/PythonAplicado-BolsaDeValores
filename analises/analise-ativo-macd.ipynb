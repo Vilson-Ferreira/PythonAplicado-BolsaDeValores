{
 "cells": [
  {
   "cell_type": "markdown",
   "id": "based-working",
   "metadata": {},
   "source": [
    "# Análise de Convergência-Divergência da Média Móvel (MACD)\n",
    "O indicador MACD é uma técnica para avaliar início de tendências, mais avançado que as médias móveis de curto e longo prazo, pois considera três médias moveis sendo todas elas exponenciais.<br />\n",
    "A partir das três médias geramos duas séries de tendências para avaliar seus cruzamentos e os sinais de negociação."
   ]
  },
  {
   "cell_type": "code",
   "execution_count": null,
   "id": "sound-thunder",
   "metadata": {},
   "outputs": [],
   "source": [
    "import pandas as pd\n",
    "import numpy as np\n",
    "import datetime\n",
    "import pandas_datareader as pdr\n",
    "import plotly\n",
    "import plotly.offline as plo\n",
    "import plotly.graph_objs as plg\n",
    "import plotly.express as plx\n",
    "import plotly.subplots as pls\n",
    "from scipy.stats import norm"
   ]
  },
  {
   "cell_type": "markdown",
   "id": "animal-stage",
   "metadata": {},
   "source": [
    "### Funções de Configurações Gráficas\n",
    "Funções para configurações base de gráficos e exibição."
   ]
  },
  {
   "cell_type": "code",
   "execution_count": null,
   "id": "radical-pressure",
   "metadata": {},
   "outputs": [],
   "source": [
    "def Plot_Formato(fig, title):\n",
    "    title={'text': title, 'xanchor': 'center', 'yanchor': 'bottom', 'y':0, 'x':0.5,}\n",
    "    \n",
    "    fig.update_layout(title=title, \n",
    "            xaxis_rangeslider_visible=False,  width=1280, height=720,\n",
    "            xaxis_showgrid=True, xaxis_gridwidth=1, xaxis_gridcolor='#E8E8E8',\n",
    "            yaxis_showgrid=True, yaxis_gridwidth=1, yaxis_gridcolor='#E8E8E8',\n",
    "            plot_bgcolor='rgba(0,0,0,0)')\n",
    "    \n",
    "def Plot_Show(data, title):\n",
    "    fig = plg.Figure(data=data)\n",
    "\n",
    "    Plot_Formato(fig, title)\n",
    "\n",
    "    fig.show()   "
   ]
  },
  {
   "cell_type": "markdown",
   "id": "ultimate-chuck",
   "metadata": {},
   "source": [
    "### Leitura de Dados de Ativos\n",
    "Realiza a leitura online de dados de ativos financeiros."
   ]
  },
  {
   "cell_type": "code",
   "execution_count": null,
   "id": "looking-party",
   "metadata": {},
   "outputs": [],
   "source": [
    "Acoes = \"CPLE3.SA\"\n",
    "Periodo_Inicio = datetime.datetime(2019,1,1)\n",
    "Periodo_Termino = datetime.datetime(2021,2,10)"
   ]
  },
  {
   "cell_type": "code",
   "execution_count": null,
   "id": "italian-separation",
   "metadata": {},
   "outputs": [],
   "source": [
    "Dados = pdr.get_data_yahoo(Acoes, start=Periodo_Inicio, end=Periodo_Termino)"
   ]
  },
  {
   "cell_type": "code",
   "execution_count": null,
   "id": "weighted-billy",
   "metadata": {},
   "outputs": [],
   "source": [
    "Dados"
   ]
  },
  {
   "cell_type": "markdown",
   "id": "behavioral-trunk",
   "metadata": {},
   "source": [
    "### Análise dos Preços\n",
    "Candlestick da série de preços do ativo."
   ]
  },
  {
   "cell_type": "code",
   "execution_count": null,
   "id": "brown-latitude",
   "metadata": {},
   "outputs": [],
   "source": [
    "SeriePrecos = plg.Figure(plg.Scatter(x=Dados.index, y=Dados.Close))\n",
    "SeriePrecos.update_layout(yaxis_tickformat=\".2f\")\n",
    "Plot_Show(SeriePrecos, \"Preços\")"
   ]
  },
  {
   "cell_type": "code",
   "execution_count": null,
   "id": "earned-hindu",
   "metadata": {},
   "outputs": [],
   "source": [
    "CandlePrecos = plg.Figure(plg.Candlestick(x=Dados.index,\n",
    "                                          open=Dados.Open,\n",
    "                                          high=Dados.High,\n",
    "                                          low=Dados.Low,\n",
    "                                          close=Dados.Close))\n",
    "CandlePrecos.update_layout(yaxis_tickformat=\".2f\")\n",
    "Plot_Show(CandlePrecos, \"Preços\")"
   ]
  },
  {
   "cell_type": "markdown",
   "id": "opening-andrews",
   "metadata": {},
   "source": [
    "### Média Móvel Exponencial (EMA)\n",
    "Cálculo da série de médias móveis exponencial.<br />\n",
    "Com a série de EMA é possível avaliar a tendência de alta ou de queda do ativo, dando um peso mais alto para os preços mais recentes."
   ]
  },
  {
   "cell_type": "code",
   "execution_count": null,
   "id": "contemporary-respect",
   "metadata": {},
   "outputs": [],
   "source": [
    "def CalculaEMA(JanelaDeTempo, Precos):\n",
    "    FatorK = (2 / (JanelaDeTempo+1))\n",
    "    MA = Precos.rolling(window=JanelaDeTempo).mean().dropna()\n",
    "    EMA = pd.DataFrame(index=MA.index)\n",
    "    EMA[\"Preco\"] = Precos\n",
    "    EMA[\"MA\"] = MA\n",
    "    EMA[\"EMA\"] = np.NaN\n",
    "    EMA.EMA[0] = EMA.MA[1]\n",
    "\n",
    "    for i in range(1, len(EMA)):\n",
    "        EMA.EMA[i] = (EMA.Preco[i] * FatorK) + ((1-FatorK) * EMA.EMA[i-1])\n",
    "        \n",
    "    return EMA"
   ]
  },
  {
   "cell_type": "markdown",
   "id": "floral-alaska",
   "metadata": {},
   "source": [
    "### MACD e Sinais\n",
    "Análise do cruzamento das médias móveis com o indicador MACD. Por padrão no mercado financeiro, usa-se os períodos de 9 (MACD), 12 (EMA) e 26 (EMA).\n",
    "- Média curta (MACD) cruzando a longa para cima = Sinal para Compra.\n",
    "- Média curta (MACD) cruzando a longa para baixo = Sinal para Venda."
   ]
  },
  {
   "cell_type": "code",
   "execution_count": null,
   "id": "vocational-secret",
   "metadata": {},
   "outputs": [],
   "source": [
    "EMA_12 = CalculaEMA(12, Dados.Close)"
   ]
  },
  {
   "cell_type": "code",
   "execution_count": null,
   "id": "prostate-henry",
   "metadata": {},
   "outputs": [],
   "source": [
    "EMA_26 = CalculaEMA(26, Dados.Close)"
   ]
  },
  {
   "cell_type": "code",
   "execution_count": null,
   "id": "assumed-nickel",
   "metadata": {},
   "outputs": [],
   "source": [
    "MACD = EMA_12.EMA - EMA_26.EMA"
   ]
  },
  {
   "cell_type": "code",
   "execution_count": null,
   "id": "opponent-ocean",
   "metadata": {},
   "outputs": [],
   "source": [
    "MA_Sinal = CalculaEMA(9, MACD.dropna()).EMA"
   ]
  },
  {
   "cell_type": "code",
   "execution_count": null,
   "id": "hired-bundle",
   "metadata": {},
   "outputs": [],
   "source": [
    "Serie = Dados[MA_Sinal.index[0]:]"
   ]
  },
  {
   "cell_type": "code",
   "execution_count": null,
   "id": "abroad-secondary",
   "metadata": {},
   "outputs": [],
   "source": [
    "SerieComMediaMovel = pls.make_subplots(rows=2, cols=1)\n",
    "SerieComMediaMovel.add_trace(plg.Candlestick(x=Serie.index,\n",
    "                                            open=Serie.Open,\n",
    "                                            high=Serie.High,\n",
    "                                            low=Serie.Low,\n",
    "                                            close=Serie.Close,\n",
    "                                            name=\"Preços\"), 1, 1)\n",
    "SerieComMediaMovel.add_trace(plg.Scatter(x=MACD.index,\n",
    "                                        y=MACD,\n",
    "                                        name=\"MACD\",\n",
    "                                        opacity=0.5), 2, 1)\n",
    "SerieComMediaMovel.add_trace(plg.Scatter(x=MA_Sinal.index,\n",
    "                                        y=MA_Sinal,\n",
    "                                        name=\"Sinal\",\n",
    "                                        opacity=0.5), 2, 1)\n",
    "Plot_Show(SerieComMediaMovel, \"Preços & MACD\")"
   ]
  },
  {
   "cell_type": "markdown",
   "id": "athletic-facial",
   "metadata": {},
   "source": [
    "### Histograma MACD\n",
    "Mantendo o conceito de avaliar cruzamentos do MACD vs Sinal, uma visualizar alternativa é com uso do histograma.<br />\n",
    "Com o histograma avalia-se os sinais:\n",
    "- Acima de zero, sinal de compra.\n",
    "- Abaixo de zero, sinal de venda."
   ]
  },
  {
   "cell_type": "code",
   "execution_count": null,
   "id": "located-glasgow",
   "metadata": {},
   "outputs": [],
   "source": [
    "Hist_MACD = MACD - MA_Sinal"
   ]
  },
  {
   "cell_type": "code",
   "execution_count": null,
   "id": "specific-dryer",
   "metadata": {},
   "outputs": [],
   "source": [
    "SerieComMediaMovel = pls.make_subplots(rows=2, cols=1)\n",
    "SerieComMediaMovel.add_trace(plg.Candlestick(x=Serie.index,\n",
    "                                             open=Serie.Open,\n",
    "                                             high=Serie.High,\n",
    "                                             low=Serie.Low,\n",
    "                                             close=Serie.Close,\n",
    "                                             name=\"Preços\"), 1, 1)\n",
    "SerieComMediaMovel.add_trace(plg.Scatter(x=Hist_MACD.index,\n",
    "                                         y=Hist_MACD,\n",
    "                                         fill=\"tozeroy\",\n",
    "                                         name=\"MACD\"), 2, 1)\n",
    "Plot_Show(SerieComMediaMovel, \"Preços & MACD\")"
   ]
  },
  {
   "cell_type": "code",
   "execution_count": null,
   "id": "guilty-maximum",
   "metadata": {},
   "outputs": [],
   "source": []
  }
 ],
 "metadata": {
  "kernelspec": {
   "display_name": "Python 3",
   "language": "python",
   "name": "python3"
  },
  "language_info": {
   "codemirror_mode": {
    "name": "ipython",
    "version": 3
   },
   "file_extension": ".py",
   "mimetype": "text/x-python",
   "name": "python",
   "nbconvert_exporter": "python",
   "pygments_lexer": "ipython3",
   "version": "3.7.9"
  }
 },
 "nbformat": 4,
 "nbformat_minor": 5
}
