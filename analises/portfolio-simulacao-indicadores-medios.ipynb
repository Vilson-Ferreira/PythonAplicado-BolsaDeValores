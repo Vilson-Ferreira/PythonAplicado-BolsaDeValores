{
 "cells": [
  {
   "cell_type": "markdown",
   "id": "capable-loading",
   "metadata": {},
   "source": [
    "# Otimização de Portfólio\n",
    "Otimização de portfólio usando a Fronteira Eficiente."
   ]
  },
  {
   "cell_type": "code",
   "execution_count": null,
   "id": "closed-sound",
   "metadata": {},
   "outputs": [],
   "source": [
    "import pandas as pd\n",
    "import numpy as np\n",
    "import datetime\n",
    "import pandas_datareader as pdr\n",
    "import plotly\n",
    "import plotly.offline as plo\n",
    "import plotly.graph_objs as plg\n",
    "import plotly.express as plx\n",
    "from scipy.stats import norm"
   ]
  },
  {
   "cell_type": "markdown",
   "id": "close-catalyst",
   "metadata": {},
   "source": [
    "### Funções de Configurações Gráficas\n",
    "Funções para configurações base de gráficos e exibição."
   ]
  },
  {
   "cell_type": "code",
   "execution_count": null,
   "id": "aerial-entrepreneur",
   "metadata": {},
   "outputs": [],
   "source": [
    "def Plot_Formato(fig, title):\n",
    "    title={'text': title, 'xanchor': 'center', 'yanchor': 'bottom', 'y':0, 'x':0.5,}\n",
    "    \n",
    "    fig.update_layout(title=title, \n",
    "            xaxis_rangeslider_visible=False,  width=1280, height=720,\n",
    "            xaxis_showgrid=True, xaxis_gridwidth=1, xaxis_gridcolor='#E8E8E8',\n",
    "            yaxis_showgrid=True, yaxis_gridwidth=1, yaxis_gridcolor='#E8E8E8',\n",
    "            plot_bgcolor='rgba(0,0,0,0)')\n",
    "    \n",
    "def Plot_Show(data, title):\n",
    "    fig = plg.Figure(data=data)\n",
    "\n",
    "    Plot_Formato(fig, title)\n",
    "\n",
    "    fig.show()   "
   ]
  },
  {
   "cell_type": "markdown",
   "id": "rough-possible",
   "metadata": {},
   "source": [
    "### Leitura de Dados de Ativos\n",
    "Realiza a leitura online de dados de ativos financeiros."
   ]
  },
  {
   "cell_type": "code",
   "execution_count": null,
   "id": "chinese-stake",
   "metadata": {},
   "outputs": [],
   "source": [
    "Acoes = [\"ITUB4.SA\", \"CPLE3.SA\", \"LREN3.SA\", \"EMBR3.SA\", \"PSSA3.SA\", \"GOAU4.SA\"]\n",
    "Pesos = {\"ITUB4.SA\":0.10, \"CPLE3.SA\":0.20, \"LREN3.SA\":0.20, \"EMBR3.SA\":0.10, \"PSSA3.SA\":0.10, \"GOAU4.SA\":0.30}\n",
    "\n",
    "Periodo_Inicio = datetime.datetime(2016,1,1)\n",
    "Periodo_Termino = datetime.datetime(2021,2,10)"
   ]
  },
  {
   "cell_type": "code",
   "execution_count": null,
   "id": "allied-studio",
   "metadata": {},
   "outputs": [],
   "source": [
    "DadosAcoes = pdr.get_data_yahoo(Acoes, start=Periodo_Inicio, end=Periodo_Termino)"
   ]
  },
  {
   "cell_type": "code",
   "execution_count": null,
   "id": "revolutionary-builder",
   "metadata": {},
   "outputs": [],
   "source": [
    "Dados = DadosAcoes[\"Adj Close\"]"
   ]
  },
  {
   "cell_type": "code",
   "execution_count": null,
   "id": "qualified-aberdeen",
   "metadata": {},
   "outputs": [],
   "source": [
    "Dados"
   ]
  },
  {
   "cell_type": "markdown",
   "id": "light-strand",
   "metadata": {},
   "source": [
    "### Fronteira Eficiente\n",
    "Calcula o retorno esperado para um portfólio e cria fronteira eficiente simulando 10.000 portfólios."
   ]
  },
  {
   "cell_type": "markdown",
   "id": "precious-teens",
   "metadata": {},
   "source": [
    "- Retorno dos Ativos"
   ]
  },
  {
   "cell_type": "code",
   "execution_count": null,
   "id": "suburban-spouse",
   "metadata": {},
   "outputs": [],
   "source": [
    "RetornoDosAtivos = Dados.pct_change().fillna(0)"
   ]
  },
  {
   "cell_type": "code",
   "execution_count": null,
   "id": "artistic-holmes",
   "metadata": {},
   "outputs": [],
   "source": [
    "RetornoDosAtivos"
   ]
  },
  {
   "cell_type": "markdown",
   "id": "patent-duncan",
   "metadata": {},
   "source": [
    "- Retorno Médio Diário Esperado"
   ]
  },
  {
   "cell_type": "code",
   "execution_count": null,
   "id": "anticipated-hurricane",
   "metadata": {},
   "outputs": [],
   "source": [
    "RetornoMedioDiario = RetornoDosAtivos.mean()"
   ]
  },
  {
   "cell_type": "code",
   "execution_count": null,
   "id": "biblical-spare",
   "metadata": {},
   "outputs": [],
   "source": [
    "RetornoMedioDiario"
   ]
  },
  {
   "cell_type": "markdown",
   "id": "physical-scottish",
   "metadata": {},
   "source": [
    "- Retorno Médio Mensal Esperado"
   ]
  },
  {
   "cell_type": "code",
   "execution_count": null,
   "id": "stuck-performer",
   "metadata": {},
   "outputs": [],
   "source": [
    "RetornoMedioMensal = Dados.resample(\"M\").last().pct_change().mean()"
   ]
  },
  {
   "cell_type": "code",
   "execution_count": null,
   "id": "sharp-habitat",
   "metadata": {},
   "outputs": [],
   "source": [
    "RetornoMedioMensal"
   ]
  },
  {
   "cell_type": "markdown",
   "id": "experimental-recipient",
   "metadata": {},
   "source": [
    "- Retorno Médio Anualizado Esperado"
   ]
  },
  {
   "cell_type": "code",
   "execution_count": null,
   "id": "bulgarian-masters",
   "metadata": {},
   "outputs": [],
   "source": [
    "RetornoMedioAnualizado = Dados.resample(\"Y\").last().pct_change().mean()"
   ]
  },
  {
   "cell_type": "code",
   "execution_count": null,
   "id": "tender-messenger",
   "metadata": {},
   "outputs": [],
   "source": [
    "RetornoMedioAnualizado"
   ]
  },
  {
   "cell_type": "markdown",
   "id": "superior-pharmacy",
   "metadata": {},
   "source": [
    "- Matriz de Covariância"
   ]
  },
  {
   "cell_type": "code",
   "execution_count": null,
   "id": "straight-catalog",
   "metadata": {},
   "outputs": [],
   "source": [
    "CovarianciaDosRetornos = RetornoDosAtivos.cov()"
   ]
  },
  {
   "cell_type": "code",
   "execution_count": null,
   "id": "minute-maldives",
   "metadata": {},
   "outputs": [],
   "source": [
    "CovarianciaDosRetornos"
   ]
  },
  {
   "cell_type": "markdown",
   "id": "female-legislature",
   "metadata": {},
   "source": [
    "- Matriz de Correlação"
   ]
  },
  {
   "cell_type": "code",
   "execution_count": null,
   "id": "ethical-archive",
   "metadata": {},
   "outputs": [],
   "source": [
    "CorrelacaoDosRetornos = RetornoDosAtivos.corr()"
   ]
  },
  {
   "cell_type": "code",
   "execution_count": null,
   "id": "considerable-container",
   "metadata": {},
   "outputs": [],
   "source": [
    "CorrelacaoDosRetornos"
   ]
  },
  {
   "cell_type": "markdown",
   "id": "oriented-bulgarian",
   "metadata": {},
   "source": [
    "- Retornos Esperados do Portfólio"
   ]
  },
  {
   "cell_type": "code",
   "execution_count": null,
   "id": "unable-surgeon",
   "metadata": {},
   "outputs": [],
   "source": [
    "RetornoMedioDiarioDoPortfolio = (list(Pesos.values()) * RetornoMedioDiario).sum()\n",
    "RetornoMedioMensalDoPortfolio = (list(Pesos.values()) * RetornoMedioMensal).sum()\n",
    "RetornoMedioAnualizadoDoPortfolio = (list(Pesos.values()) * RetornoMedioAnualizado).sum()"
   ]
  },
  {
   "cell_type": "code",
   "execution_count": null,
   "id": "strange-class",
   "metadata": {},
   "outputs": [],
   "source": [
    "print(\"Retorno Diário do Portfólio: {0:.2%}\".format(RetornoMedioDiarioDoPortfolio))\n",
    "print(\"Retorno Mensal do Portfólio: {0:.2%}\".format(RetornoMedioMensalDoPortfolio))\n",
    "print(\"Retorno Anualizado do Portfólio: {0:.2%}\".format(RetornoMedioAnualizadoDoPortfolio))"
   ]
  },
  {
   "cell_type": "markdown",
   "id": "innocent-justice",
   "metadata": {},
   "source": [
    "- Riscos do Portfólio"
   ]
  },
  {
   "cell_type": "code",
   "execution_count": null,
   "id": "expressed-folder",
   "metadata": {},
   "outputs": [],
   "source": [
    "MatrizRiscoDosAtivos = CovarianciaDosRetornos.mul(Pesos, axis=0).mul(Pesos, axis=1).sum().sum()"
   ]
  },
  {
   "cell_type": "code",
   "execution_count": null,
   "id": "legal-giving",
   "metadata": {},
   "outputs": [],
   "source": [
    "RiscoDiario = np.sqrt(MatrizRiscoDosAtivos)\n",
    "RiscoMensal = np.sqrt(MatrizRiscoDosAtivos) * np.sqrt(21)\n",
    "RiscoAnualizado = np.sqrt(MatrizRiscoDosAtivos) * np.sqrt(252)"
   ]
  },
  {
   "cell_type": "code",
   "execution_count": null,
   "id": "inner-disclosure",
   "metadata": {},
   "outputs": [],
   "source": [
    "print(\"Risco Diário do Portfólio: {0:.2%}\".format(RiscoDiario))\n",
    "print(\"Risco Mensal do Portfólio: {0:.2%}\".format(RiscoMensal))\n",
    "print(\"Risco Anualizado do Portfólio: {0:.2%}\".format(RiscoAnualizado))"
   ]
  },
  {
   "cell_type": "markdown",
   "id": "established-lightning",
   "metadata": {},
   "source": [
    "### Simulação de Portfólios\n",
    "Simula um número de portfólios baseado nos seguintes parâmetros:\n",
    "- Ativos: Lista dos ativos da portfólio.\n",
    "- NumPortfolios: Número de portfólios à simular.\n",
    "- RetornoEsperado: Lista dos retornos médios esperados dos ativos, no período que preferir.\n",
    "- TipoRetorno: Indicar o período do retorno médio esperado (D: Diário, M:Mensal, A:Anual)\n",
    "- MatrizRiscos: Matriz dos riscos dos ativos (covariância)."
   ]
  },
  {
   "cell_type": "code",
   "execution_count": null,
   "id": "industrial-donna",
   "metadata": {},
   "outputs": [],
   "source": [
    "def SimularPortfolios(Ativos, NumPortfolios, RetornoEsperado, TipoRetorno, MatrizRiscos):\n",
    "    RetornosSimulados = []\n",
    "    RiscosSimulados = []\n",
    "    PesosSimulados = []\n",
    "    NumAtivos = len(Ativos)\n",
    "\n",
    "    for portfolio in range(NumPortfolios):\n",
    "\n",
    "        # Simula pesos para um portfólio\n",
    "        pesos = np.random.random(NumAtivos)\n",
    "        pesos = pesos/np.sum(pesos)\n",
    "        PesosSimulados.append(pesos)\n",
    "        \n",
    "        # Retorno do portfolio simulado\n",
    "        retornos = np.dot(pesos, RetornoEsperado)\n",
    "        RetornosSimulados.append(retornos)\n",
    "        \n",
    "        # Risco do portfólio simulado\n",
    "        variancias = MatrizRiscos.mul(pesos, axis=0).mul(pesos, axis=1).sum().sum()\n",
    "        riscos = np.sqrt(variancias)\n",
    "\n",
    "        if TipoRetorno == \"D\":\n",
    "            riscos = riscos\n",
    "        elif TipoRetorno == \"M\":\n",
    "            riscos = riscos*np.sqrt(21)\n",
    "        elif TipoRetorno == \"Y\":\n",
    "            riscos = riscos*np.sqrt(252)\n",
    "            \n",
    "        RiscosSimulados.append(riscos)\n",
    "\n",
    "    # Dataframe dos Portfólios simulados\n",
    "    Simulacoes = {'Retorno':RetornosSimulados, 'Risco':RiscosSimulados}\n",
    "    for counter, symbol in enumerate(Ativos.tolist()):\n",
    "        Simulacoes[symbol] = [w[counter] for w in PesosSimulados]\n",
    "    \n",
    "    Portfolios = pd.DataFrame(Simulacoes)\n",
    "    return(Portfolios)"
   ]
  },
  {
   "cell_type": "code",
   "execution_count": null,
   "id": "capital-studio",
   "metadata": {},
   "outputs": [],
   "source": [
    "# Portfolios = SimularPortfolios(Dados.columns, 10000, RetornoMedioDiario, \"D\", CovarianciaDosRetornos)\n",
    "# Portfolios = SimularPortfolios(Dados.columns, 10000, RetornoMedioMensal, \"M\", CovarianciaDosRetornos)\n",
    "Portfolios = SimularPortfolios(Dados.columns, 10000, RetornoMedioAnualizado, \"Y\", CovarianciaDosRetornos)"
   ]
  },
  {
   "cell_type": "code",
   "execution_count": null,
   "id": "electronic-copying",
   "metadata": {},
   "outputs": [],
   "source": [
    "Portfolios"
   ]
  },
  {
   "cell_type": "markdown",
   "id": "pointed-pearl",
   "metadata": {},
   "source": [
    "- Performance de cada Portfólio"
   ]
  },
  {
   "cell_type": "code",
   "execution_count": null,
   "id": "resistant-component",
   "metadata": {},
   "outputs": [],
   "source": [
    "Portfolios[\"Sharpe\"] = Portfolios[\"Retorno\"] / Portfolios[\"Risco\"]"
   ]
  },
  {
   "cell_type": "code",
   "execution_count": null,
   "id": "seventh-catholic",
   "metadata": {},
   "outputs": [],
   "source": [
    "Portfolios"
   ]
  },
  {
   "cell_type": "markdown",
   "id": "moving-underground",
   "metadata": {},
   "source": [
    "- Fronteira Eficiente Visual"
   ]
  },
  {
   "cell_type": "code",
   "execution_count": null,
   "id": "least-diversity",
   "metadata": {},
   "outputs": [],
   "source": [
    "FronteiraEficiente = plg.Figure(plg.Scatter(x=Portfolios[\"Risco\"],\n",
    "                                            y=Portfolios[\"Retorno\"],\n",
    "                                            mode=\"markers\", marker_symbol=\"circle\", marker_opacity=0.5,\n",
    "                                            name=\"Portfolios Simulados\"))\n",
    "FronteiraEficiente.update_layout(xaxis_tickformat=\".2%\", yaxis_tickformat=\".2%\")\n",
    "Plot_Show(FronteiraEficiente, \"Fronteira Eficiente\")"
   ]
  },
  {
   "cell_type": "markdown",
   "id": "hungarian-japanese",
   "metadata": {},
   "source": [
    "- Portfólio de Menor Risco"
   ]
  },
  {
   "cell_type": "code",
   "execution_count": null,
   "id": "public-jersey",
   "metadata": {},
   "outputs": [],
   "source": [
    "PortfolioMenorRisco = Portfolios.iloc[Portfolios[\"Risco\"].idxmin()]"
   ]
  },
  {
   "cell_type": "code",
   "execution_count": null,
   "id": "applicable-ending",
   "metadata": {},
   "outputs": [],
   "source": [
    "PortfolioMenorRisco"
   ]
  },
  {
   "cell_type": "markdown",
   "id": "twelve-perth",
   "metadata": {},
   "source": [
    "- Portfólio de Maior Retorno"
   ]
  },
  {
   "cell_type": "code",
   "execution_count": null,
   "id": "fresh-literacy",
   "metadata": {},
   "outputs": [],
   "source": [
    "PortfolioMaiorRetorno = Portfolios.iloc[Portfolios[\"Retorno\"].idxmax()]"
   ]
  },
  {
   "cell_type": "code",
   "execution_count": null,
   "id": "spiritual-spell",
   "metadata": {},
   "outputs": [],
   "source": [
    "PortfolioMaiorRetorno"
   ]
  },
  {
   "cell_type": "markdown",
   "id": "proud-anthropology",
   "metadata": {},
   "source": [
    "- Portfólio de Melhor Performance"
   ]
  },
  {
   "cell_type": "code",
   "execution_count": null,
   "id": "friendly-patent",
   "metadata": {},
   "outputs": [],
   "source": [
    "PortfolioMelhorSharpe = Portfolios.iloc[Portfolios[\"Sharpe\"].idxmax()]"
   ]
  },
  {
   "cell_type": "code",
   "execution_count": null,
   "id": "round-february",
   "metadata": {},
   "outputs": [],
   "source": [
    "PortfolioMelhorSharpe"
   ]
  },
  {
   "cell_type": "markdown",
   "id": "british-jewel",
   "metadata": {},
   "source": [
    "- Fronteira Eficiente com Melhores Portifólios "
   ]
  },
  {
   "cell_type": "code",
   "execution_count": null,
   "id": "monetary-complement",
   "metadata": {},
   "outputs": [],
   "source": [
    "FronteiraEficiente = plg.Figure()\n",
    "\n",
    "FronteiraEficiente.add_trace(plg.Scatter(x=Portfolios[\"Risco\"],\n",
    "                                         y=Portfolios[\"Retorno\"],\n",
    "                                         mode=\"markers\", marker_symbol=\"circle\", marker_opacity=0.5,\n",
    "                                         name=\"Portfolios Simulados\"))\n",
    "FronteiraEficiente.add_trace(plg.Scatter(x=[PortfolioMenorRisco[\"Risco\"]],\n",
    "                                         y=[PortfolioMenorRisco[\"Retorno\"]],\n",
    "                                         mode=\"markers\", marker_symbol=\"star\", marker_size=20,\n",
    "                                         name=\"Menor Risco\"))\n",
    "FronteiraEficiente.add_trace(plg.Scatter(x=[PortfolioMaiorRetorno[\"Risco\"]],\n",
    "                                         y=[PortfolioMaiorRetorno[\"Retorno\"]],\n",
    "                                         mode=\"markers\", marker_symbol=\"star\", marker_size=20,\n",
    "                                         name=\"Maior Retorno\"))\n",
    "FronteiraEficiente.add_trace(plg.Scatter(x=[PortfolioMelhorSharpe[\"Risco\"]],\n",
    "                                         y=[PortfolioMelhorSharpe[\"Retorno\"]],\n",
    "                                         mode=\"markers\", marker_symbol=\"star\", marker_size=20,\n",
    "                                         name=\"Maior Sharpe\"))\n",
    "FronteiraEficiente.update_layout(xaxis_tickformat=\".2%\", yaxis_tickformat=\".2%\")\n",
    "Plot_Show(FronteiraEficiente, \"Fronteira Eficiente\")"
   ]
  },
  {
   "cell_type": "code",
   "execution_count": null,
   "id": "dietary-bookmark",
   "metadata": {},
   "outputs": [],
   "source": []
  }
 ],
 "metadata": {
  "kernelspec": {
   "display_name": "Python 3",
   "language": "python",
   "name": "python3"
  },
  "language_info": {
   "codemirror_mode": {
    "name": "ipython",
    "version": 3
   },
   "file_extension": ".py",
   "mimetype": "text/x-python",
   "name": "python",
   "nbconvert_exporter": "python",
   "pygments_lexer": "ipython3",
   "version": "3.7.9"
  }
 },
 "nbformat": 4,
 "nbformat_minor": 5
}
