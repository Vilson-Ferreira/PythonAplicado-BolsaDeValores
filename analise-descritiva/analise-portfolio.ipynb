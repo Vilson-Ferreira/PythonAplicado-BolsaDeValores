{
 "cells": [
  {
   "cell_type": "markdown",
   "id": "incident-junior",
   "metadata": {},
   "source": [
    "# Análise de Portfólio de Ativos\n",
    "Coleta dados e análise exploratórios de um portfólio de ativos financeiro."
   ]
  },
  {
   "cell_type": "code",
   "execution_count": null,
   "id": "third-highlight",
   "metadata": {},
   "outputs": [],
   "source": [
    "import pandas as pd\n",
    "import numpy as np\n",
    "import datetime\n",
    "import pandas_datareader as pdr\n",
    "import plotly\n",
    "import plotly.offline as plo\n",
    "import plotly.graph_objs as plg\n",
    "import plotly.express as plx\n",
    "from scipy.stats import norm"
   ]
  },
  {
   "cell_type": "markdown",
   "id": "adolescent-kingdom",
   "metadata": {},
   "source": [
    "### Funções de Configurações Gráficas\n",
    "Funções para configurações base de gráficos e exibição."
   ]
  },
  {
   "cell_type": "code",
   "execution_count": null,
   "id": "allied-sharing",
   "metadata": {},
   "outputs": [],
   "source": [
    "def Plot_Config(fig, title):\n",
    "    title={'text': title, 'xanchor': 'center', 'yanchor': 'bottom', 'y':0, 'x':0.5,}\n",
    "    \n",
    "    fig.update_layout(title=title, \n",
    "            xaxis_rangeslider_visible=False,  width=1280, height=720,\n",
    "            xaxis_showgrid=True, xaxis_gridwidth=1, xaxis_gridcolor='#E8E8E8',\n",
    "            yaxis_showgrid=True, yaxis_gridwidth=1, yaxis_gridcolor='#E8E8E8',\n",
    "            plot_bgcolor='rgba(0,0,0,0)')\n",
    "    \n",
    "def Plot_Show(data, title):\n",
    "    fig = plg.Figure(data=data)\n",
    "\n",
    "    Plot_Config(fig, title)\n",
    "\n",
    "    fig.show()   "
   ]
  },
  {
   "cell_type": "markdown",
   "id": "written-religion",
   "metadata": {},
   "source": [
    "### Leitura de Dados de Ativos\n",
    "Realiza a leitura online de dados de ativos financeiros."
   ]
  },
  {
   "cell_type": "code",
   "execution_count": null,
   "id": "respective-punch",
   "metadata": {},
   "outputs": [],
   "source": [
    "Acoes = [\"ITUB4.SA\", \"CPLE3.SA\", \"LREN3.SA\", \"EMBR3.SA\", \"PSSA3.SA\", \"GOAU4.SA\"]\n",
    "Periodo_Inicio = datetime.datetime(2016,1,1)\n",
    "Periodo_Termino = datetime.datetime(2021,2,10)"
   ]
  },
  {
   "cell_type": "code",
   "execution_count": null,
   "id": "annoying-amino",
   "metadata": {},
   "outputs": [],
   "source": [
    "def LerAcoes(Acoes, Inicio, Termino):\n",
    "    def LerAcao(Acao):\n",
    "        return pdr.get_data_yahoo(Acao, start=Inicio, end=Termino)\n",
    "    \n",
    "    Dados = map(LerAcao, Acoes)\n",
    "    \n",
    "    return pd.concat(Dados, keys=Acoes, names=[\"Ticker\", \"Date\"])"
   ]
  },
  {
   "cell_type": "code",
   "execution_count": null,
   "id": "willing-presence",
   "metadata": {},
   "outputs": [],
   "source": [
    "DadosAcoes = LerAcoes(Acoes, Periodo_Inicio, Periodo_Termino)"
   ]
  },
  {
   "cell_type": "code",
   "execution_count": null,
   "id": "close-import",
   "metadata": {},
   "outputs": [],
   "source": [
    "Dados = DadosAcoes.Close.reset_index().pivot(index=\"Date\", columns=\"Ticker\", values=\"Close\")"
   ]
  },
  {
   "cell_type": "code",
   "execution_count": null,
   "id": "stone-subject",
   "metadata": {},
   "outputs": [],
   "source": [
    "Dados"
   ]
  },
  {
   "cell_type": "markdown",
   "id": "front-titanium",
   "metadata": {},
   "source": [
    "### Análise descritiva dos Preços\n",
    "- Contagem de dias.\n",
    "- Média dos preços do ativo.\n",
    "- Desvio padrão dos preços.\n",
    "- Preço Mínimo.\n",
    "- Preço Máximo.\n",
    "- Quartis dos Preços."
   ]
  },
  {
   "cell_type": "code",
   "execution_count": null,
   "id": "alike-powder",
   "metadata": {},
   "outputs": [],
   "source": [
    "Dados.describe()"
   ]
  },
  {
   "cell_type": "code",
   "execution_count": null,
   "id": "close-madison",
   "metadata": {},
   "outputs": [],
   "source": [
    "SeriePrecos = plg.Figure()\n",
    "SeriePrecos.add_trace(plg.Scatter(x=Dados.index, y=Dados[\"CPLE3.SA\"], name=\"Copel\", mode=\"lines\"))\n",
    "SeriePrecos.add_trace(plg.Scatter(x=Dados.index, y=Dados[\"EMBR3.SA\"], name=\"Embraer\", mode=\"lines\"))\n",
    "SeriePrecos.add_trace(plg.Scatter(x=Dados.index, y=Dados[\"GOAU4.SA\"], name=\"Gerdau\", mode=\"lines\"))\n",
    "SeriePrecos.add_trace(plg.Scatter(x=Dados.index, y=Dados[\"ITUB4.SA\"], name=\"Itau Holding\", mode=\"lines\"))\n",
    "SeriePrecos.add_trace(plg.Scatter(x=Dados.index, y=Dados[\"LREN3.SA\"], name=\"Renner\", mode=\"lines\"))\n",
    "SeriePrecos.add_trace(plg.Scatter(x=Dados.index, y=Dados[\"PSSA3.SA\"], name=\"Porto Seguro\", mode=\"lines\"))\n",
    "Plot_Show(SeriePrecos, \"Preços\")"
   ]
  },
  {
   "cell_type": "markdown",
   "id": "orange-english",
   "metadata": {},
   "source": [
    "### Cálculo e análise descritiva dos Retornos\n",
    "- Retorno Médio do Ativo (Média).\n",
    "- Risco do Ativo (Desvio Padrão).\n",
    "- Maior perda do período (Mínimo).\n",
    "- Maior ganho no período (Máximo).\n",
    "- Quartis do Risco."
   ]
  },
  {
   "cell_type": "code",
   "execution_count": null,
   "id": "electoral-cargo",
   "metadata": {},
   "outputs": [],
   "source": [
    "DadosRetorno = Dados.pct_change().fillna(0)"
   ]
  },
  {
   "cell_type": "code",
   "execution_count": null,
   "id": "flush-viewer",
   "metadata": {},
   "outputs": [],
   "source": [
    "DadosRetorno"
   ]
  },
  {
   "cell_type": "code",
   "execution_count": null,
   "id": "empty-award",
   "metadata": {},
   "outputs": [],
   "source": [
    "DadosRetorno.describe()"
   ]
  },
  {
   "cell_type": "code",
   "execution_count": null,
   "id": "stopped-antarctica",
   "metadata": {},
   "outputs": [],
   "source": [
    "SerieRetornos = plg.Figure()\n",
    "SerieRetornos.add_trace(plg.Scatter(x=DadosRetorno.index, y=DadosRetorno[\"CPLE3.SA\"], name=\"Copel\", mode=\"lines\"))\n",
    "SerieRetornos.add_trace(plg.Scatter(x=DadosRetorno.index, y=DadosRetorno[\"EMBR3.SA\"], name=\"Embraer\", mode=\"lines\"))\n",
    "SerieRetornos.add_trace(plg.Scatter(x=DadosRetorno.index, y=DadosRetorno[\"GOAU4.SA\"], name=\"Gerdau\", mode=\"lines\"))\n",
    "SerieRetornos.add_trace(plg.Scatter(x=DadosRetorno.index, y=DadosRetorno[\"ITUB4.SA\"], name=\"Itau Holding\", mode=\"lines\"))\n",
    "SerieRetornos.add_trace(plg.Scatter(x=DadosRetorno.index, y=DadosRetorno[\"LREN3.SA\"], name=\"Renner\", mode=\"lines\"))\n",
    "SerieRetornos.add_trace(plg.Scatter(x=DadosRetorno.index, y=DadosRetorno[\"PSSA3.SA\"], name=\"Porto Seguro\", mode=\"lines\"))\n",
    "Plot_Show(SerieRetornos, \"Retornos\")"
   ]
  },
  {
   "cell_type": "markdown",
   "id": "allied-occasion",
   "metadata": {},
   "source": [
    "### Cálculo do Retorno Acumulado\n",
    "Calcula dia-a-dia o retorno acumulado da série."
   ]
  },
  {
   "cell_type": "code",
   "execution_count": null,
   "id": "dental-anderson",
   "metadata": {},
   "outputs": [],
   "source": [
    "DadosRetornoAcumulado = (1+DadosRetorno).cumprod()-1"
   ]
  },
  {
   "cell_type": "code",
   "execution_count": null,
   "id": "separate-flexibility",
   "metadata": {},
   "outputs": [],
   "source": [
    "DadosRetornoAcumulado"
   ]
  },
  {
   "cell_type": "markdown",
   "id": "dramatic-program",
   "metadata": {},
   "source": [
    "Retorno Acumulado de cada ativo"
   ]
  },
  {
   "cell_type": "code",
   "execution_count": null,
   "id": "decent-count",
   "metadata": {},
   "outputs": [],
   "source": [
    "DadosRetornoAcumulado[-1:]"
   ]
  },
  {
   "cell_type": "code",
   "execution_count": null,
   "id": "adequate-adventure",
   "metadata": {},
   "outputs": [],
   "source": [
    "SerieRetornosAcum = plg.Figure()\n",
    "SerieRetornosAcum.add_trace(plg.Scatter(x=DadosRetornoAcumulado.index, y=DadosRetornoAcumulado[\"CPLE3.SA\"], name=\"Copel\", mode=\"lines\"))\n",
    "SerieRetornosAcum.add_trace(plg.Scatter(x=DadosRetornoAcumulado.index, y=DadosRetornoAcumulado[\"EMBR3.SA\"], name=\"Embraer\", mode=\"lines\"))\n",
    "SerieRetornosAcum.add_trace(plg.Scatter(x=DadosRetornoAcumulado.index, y=DadosRetornoAcumulado[\"GOAU4.SA\"], name=\"Gerdau\", mode=\"lines\"))\n",
    "SerieRetornosAcum.add_trace(plg.Scatter(x=DadosRetornoAcumulado.index, y=DadosRetornoAcumulado[\"ITUB4.SA\"], name=\"Itau Holding\", mode=\"lines\"))\n",
    "SerieRetornosAcum.add_trace(plg.Scatter(x=DadosRetornoAcumulado.index, y=DadosRetornoAcumulado[\"LREN3.SA\"], name=\"Renner\", mode=\"lines\"))\n",
    "SerieRetornosAcum.add_trace(plg.Scatter(x=DadosRetornoAcumulado.index, y=DadosRetornoAcumulado[\"PSSA3.SA\"], name=\"Porto Seguro\", mode=\"lines\"))\n",
    "Plot_Show(SerieRetornosAcum, \"Retornos Acumulados\")"
   ]
  },
  {
   "cell_type": "markdown",
   "id": "median-corporation",
   "metadata": {},
   "source": [
    "### Indicadores do Ativo"
   ]
  },
  {
   "cell_type": "markdown",
   "id": "mighty-swift",
   "metadata": {},
   "source": [
    "- Retorno Médio (%)"
   ]
  },
  {
   "cell_type": "code",
   "execution_count": null,
   "id": "overall-yorkshire",
   "metadata": {},
   "outputs": [],
   "source": [
    "RetornoMedio = DadosRetorno.mean()\n",
    "np.round(RetornoMedio * 100, 2)"
   ]
  },
  {
   "cell_type": "markdown",
   "id": "monetary-zambia",
   "metadata": {},
   "source": [
    "- Risco (%)"
   ]
  },
  {
   "cell_type": "code",
   "execution_count": null,
   "id": "geological-poison",
   "metadata": {},
   "outputs": [],
   "source": [
    "Risco = DadosRetorno.std()\n",
    "np.round(Risco * 100, 2)"
   ]
  },
  {
   "cell_type": "markdown",
   "id": "attempted-football",
   "metadata": {},
   "source": [
    "- Performance (Sharpe %)"
   ]
  },
  {
   "cell_type": "code",
   "execution_count": null,
   "id": "flexible-westminster",
   "metadata": {},
   "outputs": [],
   "source": [
    "Sharpe = RetornoMedio / Risco / 100\n",
    "np.round(Sharpe * 100, 2)"
   ]
  }
 ],
 "metadata": {
  "kernelspec": {
   "display_name": "Python 3",
   "language": "python",
   "name": "python3"
  },
  "language_info": {
   "codemirror_mode": {
    "name": "ipython",
    "version": 3
   },
   "file_extension": ".py",
   "mimetype": "text/x-python",
   "name": "python",
   "nbconvert_exporter": "python",
   "pygments_lexer": "ipython3",
   "version": "3.7.9"
  }
 },
 "nbformat": 4,
 "nbformat_minor": 5
}
