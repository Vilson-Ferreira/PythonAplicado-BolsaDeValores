{
 "cells": [
  {
   "cell_type": "markdown",
   "id": "abroad-tiffany",
   "metadata": {},
   "source": [
    "# Análise de Portfólio de Ativos\n",
    "Análise exploratória e indicadores de retorno, risco e performance de um portfólio de ativos financeiros."
   ]
  },
  {
   "cell_type": "code",
   "execution_count": null,
   "id": "sophisticated-cosmetic",
   "metadata": {},
   "outputs": [],
   "source": [
    "import pandas as pd\n",
    "import numpy as np\n",
    "import datetime\n",
    "import pandas_datareader as pdr\n",
    "import plotly\n",
    "import plotly.offline as plo\n",
    "import plotly.graph_objs as plg\n",
    "import plotly.express as plx\n",
    "from scipy.stats import norm"
   ]
  },
  {
   "cell_type": "markdown",
   "id": "spoken-residence",
   "metadata": {},
   "source": [
    "### Funções de Configurações Gráficas\n",
    "Funções para configurações base de gráficos e exibição."
   ]
  },
  {
   "cell_type": "code",
   "execution_count": null,
   "id": "orange-owner",
   "metadata": {},
   "outputs": [],
   "source": [
    "def Plot_Config(fig, title):\n",
    "    title={'text': title, 'xanchor': 'center', 'yanchor': 'bottom', 'y':0, 'x':0.5,}\n",
    "    \n",
    "    fig.update_layout(title=title, \n",
    "            xaxis_rangeslider_visible=False,  width=1280, height=720,\n",
    "            xaxis_showgrid=True, xaxis_gridwidth=1, xaxis_gridcolor='#E8E8E8',\n",
    "            yaxis_showgrid=True, yaxis_gridwidth=1, yaxis_gridcolor='#E8E8E8',\n",
    "            plot_bgcolor='rgba(0,0,0,0)')\n",
    "    \n",
    "def Plot_Show(data, title):\n",
    "    fig = plg.Figure(data=data)\n",
    "\n",
    "    Plot_Config(fig, title)\n",
    "\n",
    "    fig.show()   "
   ]
  },
  {
   "cell_type": "markdown",
   "id": "engaging-tunisia",
   "metadata": {},
   "source": [
    "### Leitura de Dados de Ativos\n",
    "Realiza a leitura online de dados de ativos financeiros."
   ]
  },
  {
   "cell_type": "markdown",
   "id": "civilian-trinity",
   "metadata": {},
   "source": [
    "- Dados para Leitura"
   ]
  },
  {
   "cell_type": "code",
   "execution_count": null,
   "id": "focused-austria",
   "metadata": {},
   "outputs": [],
   "source": [
    "Acoes = [\"ITUB4.SA\", \"CPLE3.SA\", \"LREN3.SA\", \"EMBR3.SA\", \"PSSA3.SA\", \"GOAU4.SA\"]\n",
    "Periodo_Inicio = datetime.datetime(2016,1,1)\n",
    "Periodo_Termino = datetime.datetime(2021,2,10)"
   ]
  },
  {
   "cell_type": "markdown",
   "id": "mighty-click",
   "metadata": {},
   "source": [
    "- Dados do Portfolio"
   ]
  },
  {
   "cell_type": "code",
   "execution_count": null,
   "id": "hearing-company",
   "metadata": {},
   "outputs": [],
   "source": [
    "PortfolioDistribuicao = [0.10, 0.20, 0.20, 0.10, 0.10, 0.30]\n",
    "Portfolio = pd.DataFrame(data={\"Ticker\":Acoes, \"Pesos\":PortfolioDistribuicao}).set_index(\"Ticker\")\n",
    "Portfolio"
   ]
  },
  {
   "cell_type": "code",
   "execution_count": null,
   "id": "narrative-contest",
   "metadata": {},
   "outputs": [],
   "source": [
    "def LerAcoes(Acoes, Inicio, Termino):\n",
    "    def LerAcao(Acao):\n",
    "        return pdr.get_data_yahoo(Acao, start=Inicio, end=Termino)\n",
    "    \n",
    "    Dados = map(LerAcao, Acoes)\n",
    "    \n",
    "    return pd.concat(Dados, keys=Acoes, names=[\"Ticker\", \"Date\"])"
   ]
  },
  {
   "cell_type": "code",
   "execution_count": null,
   "id": "mobile-oracle",
   "metadata": {},
   "outputs": [],
   "source": [
    "DadosAcoes = LerAcoes(Acoes, Periodo_Inicio, Periodo_Termino)"
   ]
  },
  {
   "cell_type": "code",
   "execution_count": null,
   "id": "periodic-problem",
   "metadata": {},
   "outputs": [],
   "source": [
    "Dados = DadosAcoes.Close.reset_index().pivot(index=\"Date\", columns=\"Ticker\", values=\"Close\")"
   ]
  },
  {
   "cell_type": "code",
   "execution_count": null,
   "id": "proprietary-contributor",
   "metadata": {},
   "outputs": [],
   "source": [
    "Dados"
   ]
  },
  {
   "cell_type": "markdown",
   "id": "confidential-shadow",
   "metadata": {},
   "source": [
    "### Análise descritiva dos Preços\n",
    "- Contagem de dias.\n",
    "- Média dos preços do ativo.\n",
    "- Desvio padrão dos preços.\n",
    "- Preço Mínimo.\n",
    "- Preço Máximo.\n",
    "- Quartis dos Preços."
   ]
  },
  {
   "cell_type": "code",
   "execution_count": null,
   "id": "medical-alarm",
   "metadata": {},
   "outputs": [],
   "source": [
    "Dados.describe()"
   ]
  },
  {
   "cell_type": "code",
   "execution_count": null,
   "id": "oriental-infrastructure",
   "metadata": {},
   "outputs": [],
   "source": [
    "SeriePrecos = plg.Figure()\n",
    "SeriePrecos.add_trace(plg.Scatter(x=Dados.index, y=Dados[\"CPLE3.SA\"], name=\"Copel\", mode=\"lines\"))\n",
    "SeriePrecos.add_trace(plg.Scatter(x=Dados.index, y=Dados[\"EMBR3.SA\"], name=\"Embraer\", mode=\"lines\"))\n",
    "SeriePrecos.add_trace(plg.Scatter(x=Dados.index, y=Dados[\"GOAU4.SA\"], name=\"Gerdau\", mode=\"lines\"))\n",
    "SeriePrecos.add_trace(plg.Scatter(x=Dados.index, y=Dados[\"ITUB4.SA\"], name=\"Itau Holding\", mode=\"lines\"))\n",
    "SeriePrecos.add_trace(plg.Scatter(x=Dados.index, y=Dados[\"LREN3.SA\"], name=\"Renner\", mode=\"lines\"))\n",
    "SeriePrecos.add_trace(plg.Scatter(x=Dados.index, y=Dados[\"PSSA3.SA\"], name=\"Porto Seguro\", mode=\"lines\"))\n",
    "Plot_Show(SeriePrecos, \"Preços\")"
   ]
  },
  {
   "cell_type": "markdown",
   "id": "technical-triple",
   "metadata": {},
   "source": [
    "### Cálculo e análise descritiva dos Retornos\n",
    "- Retorno Médio do Ativo (Média).\n",
    "- Risco do Ativo (Desvio Padrão).\n",
    "- Maior perda do período (Mínimo).\n",
    "- Maior ganho no período (Máximo).\n",
    "- Quartis do Risco."
   ]
  },
  {
   "cell_type": "code",
   "execution_count": null,
   "id": "physical-watershed",
   "metadata": {},
   "outputs": [],
   "source": [
    "DadosRetorno = Dados.pct_change().fillna(0)"
   ]
  },
  {
   "cell_type": "code",
   "execution_count": null,
   "id": "comprehensive-radiation",
   "metadata": {},
   "outputs": [],
   "source": [
    "DadosRetorno"
   ]
  },
  {
   "cell_type": "code",
   "execution_count": null,
   "id": "desperate-principal",
   "metadata": {},
   "outputs": [],
   "source": [
    "DadosRetorno.describe()"
   ]
  },
  {
   "cell_type": "code",
   "execution_count": null,
   "id": "official-electron",
   "metadata": {},
   "outputs": [],
   "source": [
    "SerieRetornos = plg.Figure()\n",
    "SerieRetornos.add_trace(plg.Scatter(x=DadosRetorno.index, y=DadosRetorno[\"CPLE3.SA\"], name=\"Copel\", mode=\"lines\"))\n",
    "SerieRetornos.add_trace(plg.Scatter(x=DadosRetorno.index, y=DadosRetorno[\"EMBR3.SA\"], name=\"Embraer\", mode=\"lines\"))\n",
    "SerieRetornos.add_trace(plg.Scatter(x=DadosRetorno.index, y=DadosRetorno[\"GOAU4.SA\"], name=\"Gerdau\", mode=\"lines\"))\n",
    "SerieRetornos.add_trace(plg.Scatter(x=DadosRetorno.index, y=DadosRetorno[\"ITUB4.SA\"], name=\"Itau Holding\", mode=\"lines\"))\n",
    "SerieRetornos.add_trace(plg.Scatter(x=DadosRetorno.index, y=DadosRetorno[\"LREN3.SA\"], name=\"Renner\", mode=\"lines\"))\n",
    "SerieRetornos.add_trace(plg.Scatter(x=DadosRetorno.index, y=DadosRetorno[\"PSSA3.SA\"], name=\"Porto Seguro\", mode=\"lines\"))\n",
    "Plot_Show(SerieRetornos, \"Retornos por Ativo\")"
   ]
  },
  {
   "cell_type": "markdown",
   "id": "manufactured-leeds",
   "metadata": {},
   "source": [
    "### Retorno Acumulado por Ativo\n",
    "Calcula dia-a-dia o retorno acumulado de cada ativo, sem ponderação da distribuição do portfólio, apenas usando o período."
   ]
  },
  {
   "cell_type": "code",
   "execution_count": null,
   "id": "frank-withdrawal",
   "metadata": {},
   "outputs": [],
   "source": [
    "DadosRetornoAcumulado = (1+DadosRetorno).cumprod()-1"
   ]
  },
  {
   "cell_type": "code",
   "execution_count": null,
   "id": "composed-woman",
   "metadata": {},
   "outputs": [],
   "source": [
    "DadosRetornoAcumulado"
   ]
  },
  {
   "cell_type": "markdown",
   "id": "applied-harvest",
   "metadata": {},
   "source": [
    "Retorno Acumulado de cada ativo"
   ]
  },
  {
   "cell_type": "code",
   "execution_count": null,
   "id": "published-mining",
   "metadata": {},
   "outputs": [],
   "source": [
    "DadosRetornoAcumulado[-1:]"
   ]
  },
  {
   "cell_type": "code",
   "execution_count": null,
   "id": "atomic-overview",
   "metadata": {},
   "outputs": [],
   "source": [
    "SerieRetornosAcum = plg.Figure()\n",
    "SerieRetornosAcum.add_trace(plg.Scatter(x=DadosRetornoAcumulado.index, y=DadosRetornoAcumulado[\"CPLE3.SA\"], name=\"Copel\", mode=\"lines\"))\n",
    "SerieRetornosAcum.add_trace(plg.Scatter(x=DadosRetornoAcumulado.index, y=DadosRetornoAcumulado[\"EMBR3.SA\"], name=\"Embraer\", mode=\"lines\"))\n",
    "SerieRetornosAcum.add_trace(plg.Scatter(x=DadosRetornoAcumulado.index, y=DadosRetornoAcumulado[\"GOAU4.SA\"], name=\"Gerdau\", mode=\"lines\"))\n",
    "SerieRetornosAcum.add_trace(plg.Scatter(x=DadosRetornoAcumulado.index, y=DadosRetornoAcumulado[\"ITUB4.SA\"], name=\"Itau Holding\", mode=\"lines\"))\n",
    "SerieRetornosAcum.add_trace(plg.Scatter(x=DadosRetornoAcumulado.index, y=DadosRetornoAcumulado[\"LREN3.SA\"], name=\"Renner\", mode=\"lines\"))\n",
    "SerieRetornosAcum.add_trace(plg.Scatter(x=DadosRetornoAcumulado.index, y=DadosRetornoAcumulado[\"PSSA3.SA\"], name=\"Porto Seguro\", mode=\"lines\"))\n",
    "Plot_Show(SerieRetornosAcum, \"Retornos Acumulados por Ativos\")"
   ]
  },
  {
   "cell_type": "markdown",
   "id": "published-change",
   "metadata": {},
   "source": [
    "### Indicadores de cada Ativo"
   ]
  },
  {
   "cell_type": "markdown",
   "id": "italic-religion",
   "metadata": {},
   "source": [
    "- Retorno Médio (%)"
   ]
  },
  {
   "cell_type": "code",
   "execution_count": null,
   "id": "defined-substance",
   "metadata": {},
   "outputs": [],
   "source": [
    "RetornoMedio = DadosRetorno.mean()\n",
    "np.round(RetornoMedio * 100, 2)"
   ]
  },
  {
   "cell_type": "markdown",
   "id": "ecological-month",
   "metadata": {},
   "source": [
    "- Risco (%)"
   ]
  },
  {
   "cell_type": "code",
   "execution_count": null,
   "id": "dense-oklahoma",
   "metadata": {},
   "outputs": [],
   "source": [
    "Risco = DadosRetorno.std()\n",
    "np.round(Risco * 100, 2)"
   ]
  },
  {
   "cell_type": "markdown",
   "id": "musical-sentence",
   "metadata": {},
   "source": [
    "- Performance (Sharpe %)"
   ]
  },
  {
   "cell_type": "code",
   "execution_count": null,
   "id": "applicable-death",
   "metadata": {},
   "outputs": [],
   "source": [
    "Sharpe = RetornoMedio / Risco / 100\n",
    "np.round(Sharpe * 100, 2)"
   ]
  },
  {
   "cell_type": "markdown",
   "id": "promising-count",
   "metadata": {},
   "source": [
    "### Retorno Acumulado do Portfólio\n",
    "Calcula dia-a-dia os retornos e retorno acumulado do portfólio, conforme distribuição nos ativos."
   ]
  },
  {
   "cell_type": "markdown",
   "id": "danish-berkeley",
   "metadata": {},
   "source": [
    "- Retorno dia-a-dia do portfólio"
   ]
  },
  {
   "cell_type": "code",
   "execution_count": null,
   "id": "revised-melissa",
   "metadata": {},
   "outputs": [],
   "source": [
    "PortfolioRetornos = Portfolio.transpose().dot(DadosRetorno.transpose()).transpose()"
   ]
  },
  {
   "cell_type": "code",
   "execution_count": null,
   "id": "abstract-taylor",
   "metadata": {},
   "outputs": [],
   "source": [
    "DadosRetorno[\"Portfolio\"] = PortfolioRetornos[\"Pesos\"]"
   ]
  },
  {
   "cell_type": "code",
   "execution_count": null,
   "id": "comfortable-hierarchy",
   "metadata": {},
   "outputs": [],
   "source": [
    "DadosRetorno"
   ]
  },
  {
   "cell_type": "code",
   "execution_count": null,
   "id": "european-clerk",
   "metadata": {},
   "outputs": [],
   "source": [
    "SerieRetornos = plg.Scatter(x=DadosRetorno.index, y=DadosRetorno[\"Portfolio\"], name=\"Portfólio\", mode=\"lines\")\n",
    "Plot_Show(SerieRetornos, \"Retorno do Portfólio\")"
   ]
  },
  {
   "cell_type": "code",
   "execution_count": null,
   "id": "numeric-hungarian",
   "metadata": {},
   "outputs": [],
   "source": [
    "HistogramaRetornos = plg.Histogram(x=DadosRetorno[\"Portfolio\"])\n",
    "Plot_Show(HistogramaRetornos, \"Retornos do Portfólio\")"
   ]
  },
  {
   "cell_type": "markdown",
   "id": "narrative-marshall",
   "metadata": {},
   "source": [
    "- Retorno acumulado do portfólio"
   ]
  },
  {
   "cell_type": "code",
   "execution_count": null,
   "id": "former-jones",
   "metadata": {},
   "outputs": [],
   "source": [
    "DadosRetorno[\"Acumulado\"] = (1+DadosRetorno[\"Portfolio\"]).cumprod()-1"
   ]
  },
  {
   "cell_type": "code",
   "execution_count": null,
   "id": "mysterious-transition",
   "metadata": {},
   "outputs": [],
   "source": [
    "DadosRetorno"
   ]
  },
  {
   "cell_type": "code",
   "execution_count": null,
   "id": "stylish-notification",
   "metadata": {},
   "outputs": [],
   "source": [
    "DadosRetorno[-1:]"
   ]
  },
  {
   "cell_type": "code",
   "execution_count": null,
   "id": "possible-necklace",
   "metadata": {},
   "outputs": [],
   "source": [
    "SerieRetornos = plg.Scatter(x=DadosRetorno.index, y=DadosRetorno[\"Acumulado\"], name=\"Portfólio\", mode=\"lines\")\n",
    "Plot_Show(SerieRetornos, \"Retorno Acumulado do Portfólio\")"
   ]
  },
  {
   "cell_type": "markdown",
   "id": "proper-broadcast",
   "metadata": {},
   "source": [
    "### Indicadores do Portfólio"
   ]
  },
  {
   "cell_type": "markdown",
   "id": "historical-michigan",
   "metadata": {},
   "source": [
    "- Retorno Médio"
   ]
  },
  {
   "cell_type": "code",
   "execution_count": null,
   "id": "direct-steam",
   "metadata": {},
   "outputs": [],
   "source": [
    "RetornoMedio = DadosRetorno[\"Portfolio\"].mean()\n",
    "print(\"Retorno Médio: {0:.2%}\".format(RetornoMedio))"
   ]
  },
  {
   "cell_type": "markdown",
   "id": "consecutive-piece",
   "metadata": {},
   "source": [
    "- Risco"
   ]
  },
  {
   "cell_type": "code",
   "execution_count": null,
   "id": "faced-macro",
   "metadata": {},
   "outputs": [],
   "source": [
    "Risco = DadosRetorno[\"Portfolio\"].std()\n",
    "print(\"Risco: {0:.2%}\".format(Risco))"
   ]
  },
  {
   "cell_type": "markdown",
   "id": "talented-malawi",
   "metadata": {},
   "source": [
    "- Performance (Sharpe)"
   ]
  },
  {
   "cell_type": "code",
   "execution_count": null,
   "id": "dietary-butterfly",
   "metadata": {},
   "outputs": [],
   "source": [
    "Sharpe = RetornoMedio / Risco / 100\n",
    "print(\"Performance Sharpe: {0:.2%}\".format(Sharpe))"
   ]
  },
  {
   "cell_type": "markdown",
   "id": "prospective-guard",
   "metadata": {},
   "source": [
    "- VaR Histórico"
   ]
  },
  {
   "cell_type": "code",
   "execution_count": null,
   "id": "selected-sterling",
   "metadata": {},
   "outputs": [],
   "source": [
    "VarHistorico = np.quantile(DadosRetorno[\"Portfolio\"], 0.05)\n",
    "VarHistoricoPeriodos = np.sqrt([1,7,14,21]) * VarHistorico\n",
    "\n",
    "InvestimentoPrevisto = 10000\n",
    "PerdaMaxima = InvestimentoPrevisto * VarHistoricoPeriodos\n",
    "\n",
    "print(\"VaR 1 dia: {0:.2%}, Perda máxima de {1:.2f}\".format(VarHistoricoPeriodos[0], PerdaMaxima[0]))\n",
    "print(\"VaR 7 dias: {0:.2%}, Perda máxima de {1:.2f}\".format(VarHistoricoPeriodos[1], PerdaMaxima[1]))\n",
    "print(\"VaR 14 dias: {0:.2%}, Perda máxima de {1:.2f}\".format(VarHistoricoPeriodos[2], PerdaMaxima[2]))\n",
    "print(\"VaR 21 dias: {0:.2%}, Perda máxima de {1:.2f}\".format(VarHistoricoPeriodos[3], PerdaMaxima[3]))"
   ]
  },
  {
   "cell_type": "markdown",
   "id": "thrown-giving",
   "metadata": {},
   "source": [
    "- VaR Paramétrico"
   ]
  },
  {
   "cell_type": "code",
   "execution_count": null,
   "id": "essential-mediterranean",
   "metadata": {},
   "outputs": [],
   "source": [
    "VarParam = RetornoMedio - norm.ppf(0.95) * Risco\n",
    "VarParamPeriodos = np.sqrt([1,7,14,21]) * VarParam\n",
    "\n",
    "InvestimentoPrevisto = 10000\n",
    "PerdaMaxima = InvestimentoPrevisto * VarParamPeriodos\n",
    "\n",
    "print(\"VaR 1 dia: {0:.2%}, Perda máxima de {1:.2f}\".format(VarParamPeriodos[0], PerdaMaxima[0]))\n",
    "print(\"VaR 7 dias: {0:.2%}, Perda máxima de {1:.2f}\".format(VarParamPeriodos[1], PerdaMaxima[1]))\n",
    "print(\"VaR 14 dias: {0:.2%}, Perda máxima de {1:.2f}\".format(VarParamPeriodos[2], PerdaMaxima[2]))\n",
    "print(\"VaR 21 dias: {0:.2%}, Perda máxima de {1:.2f}\".format(VarParamPeriodos[3], PerdaMaxima[3]))"
   ]
  },
  {
   "cell_type": "code",
   "execution_count": null,
   "id": "rubber-advocate",
   "metadata": {},
   "outputs": [],
   "source": []
  }
 ],
 "metadata": {
  "kernelspec": {
   "display_name": "Python 3",
   "language": "python",
   "name": "python3"
  },
  "language_info": {
   "codemirror_mode": {
    "name": "ipython",
    "version": 3
   },
   "file_extension": ".py",
   "mimetype": "text/x-python",
   "name": "python",
   "nbconvert_exporter": "python",
   "pygments_lexer": "ipython3",
   "version": "3.7.9"
  }
 },
 "nbformat": 4,
 "nbformat_minor": 5
}
