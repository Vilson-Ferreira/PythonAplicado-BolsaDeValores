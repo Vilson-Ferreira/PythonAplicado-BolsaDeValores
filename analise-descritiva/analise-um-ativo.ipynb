{
 "cells": [
  {
   "cell_type": "markdown",
   "id": "considerable-messenger",
   "metadata": {},
   "source": [
    "# Análise de um Ativo\n",
    "Coleta dados e análise exploratórios de um ativo financeiro."
   ]
  },
  {
   "cell_type": "code",
   "execution_count": null,
   "id": "centered-birth",
   "metadata": {},
   "outputs": [],
   "source": [
    "import pandas as pd\n",
    "import numpy as np\n",
    "import datetime\n",
    "import pandas_datareader as pdr\n",
    "import plotly\n",
    "import plotly.offline as plo\n",
    "import plotly.graph_objs as plg\n",
    "from scipy.stats import norm"
   ]
  },
  {
   "cell_type": "markdown",
   "id": "every-saturn",
   "metadata": {},
   "source": [
    "### Funções de Configurações Gráficas\n",
    "Funções para configurações base de gráficos e exibição."
   ]
  },
  {
   "cell_type": "code",
   "execution_count": null,
   "id": "intimate-algeria",
   "metadata": {},
   "outputs": [],
   "source": [
    "def Plot_Config(fig, title):\n",
    "    title={'text': title, 'xanchor': 'center', 'yanchor': 'bottom', 'y':0, 'x':0.5,}\n",
    "    \n",
    "    fig.update_layout(title=title, \n",
    "            xaxis_rangeslider_visible=False,  width=1280, height=720,\n",
    "            xaxis_showgrid=True, xaxis_gridwidth=1, xaxis_gridcolor='#E8E8E8',\n",
    "            yaxis_showgrid=True, yaxis_gridwidth=1, yaxis_gridcolor='#E8E8E8',\n",
    "            plot_bgcolor='rgba(0,0,0,0)')\n",
    "    \n",
    "def Plot_Show(data, title):\n",
    "    fig = plg.Figure(data=data)\n",
    "\n",
    "    Plot_Config(fig, title)\n",
    "\n",
    "    fig.show()   "
   ]
  },
  {
   "cell_type": "markdown",
   "id": "similar-pleasure",
   "metadata": {},
   "source": [
    "### Leitura de Dados de Ativos\n",
    "Realiza a leitura online de dados de ativos financeiros."
   ]
  },
  {
   "cell_type": "code",
   "execution_count": null,
   "id": "hourly-universe",
   "metadata": {},
   "outputs": [],
   "source": [
    "Acoes = \"ITUB4.SA\"\n",
    "Periodo_Inicio = datetime.datetime(2016,1,1)\n",
    "Periodo_Termino = datetime.datetime(2021,2,10)"
   ]
  },
  {
   "cell_type": "code",
   "execution_count": null,
   "id": "bearing-grass",
   "metadata": {},
   "outputs": [],
   "source": [
    "Dados = pdr.get_data_yahoo(Acoes, start=Periodo_Inicio, end=Periodo_Termino)"
   ]
  },
  {
   "cell_type": "code",
   "execution_count": null,
   "id": "generous-indian",
   "metadata": {},
   "outputs": [],
   "source": [
    "Dados"
   ]
  },
  {
   "cell_type": "markdown",
   "id": "pretty-mortality",
   "metadata": {},
   "source": [
    "### Análise descritiva dos Preços\n",
    "- Contagem de dias.\n",
    "- Média dos preços do ativo.\n",
    "- Desvio padrão dos preços.\n",
    "- Preço Mínimo.\n",
    "- Preço Máximo.\n",
    "- Quartis dos Preços."
   ]
  },
  {
   "cell_type": "code",
   "execution_count": null,
   "id": "ranging-disability",
   "metadata": {},
   "outputs": [],
   "source": [
    "Dados.describe()"
   ]
  },
  {
   "cell_type": "markdown",
   "id": "completed-printing",
   "metadata": {},
   "source": [
    "### Cálculo e análise descritiva dos Retornos Diários\n",
    "- Retorno Médio do Ativo (Média).\n",
    "- Risco do Ativo (Desvio Padrão).\n",
    "- Maior perda do período (Mínimo).\n",
    "- Maior ganho no período (Máximo).\n",
    "- Quartis do Risco."
   ]
  },
  {
   "cell_type": "code",
   "execution_count": null,
   "id": "minor-technician",
   "metadata": {},
   "outputs": [],
   "source": [
    "Dados[\"Retorno\"] = Dados.Close.pct_change().fillna(0)"
   ]
  },
  {
   "cell_type": "code",
   "execution_count": null,
   "id": "stock-madrid",
   "metadata": {},
   "outputs": [],
   "source": [
    "Dados.Retorno.describe()"
   ]
  },
  {
   "cell_type": "code",
   "execution_count": null,
   "id": "pressing-chemical",
   "metadata": {},
   "outputs": [],
   "source": [
    "Dados[\"RetornoLog\"] = np.log(1+Dados.Retorno)"
   ]
  },
  {
   "cell_type": "code",
   "execution_count": null,
   "id": "piano-deficit",
   "metadata": {},
   "outputs": [],
   "source": [
    "Dados.RetornoLog.describe()"
   ]
  },
  {
   "cell_type": "code",
   "execution_count": null,
   "id": "bridal-tutorial",
   "metadata": {},
   "outputs": [],
   "source": [
    "HistogramaRetornos = [plg.Histogram(x=Dados.RetornoLog)]\n",
    "\n",
    "Plot_Show(HistogramaRetornos, \"Histograma dos Retornos\")"
   ]
  },
  {
   "cell_type": "markdown",
   "id": "romance-outline",
   "metadata": {},
   "source": [
    "### Cálculo do Retorno Acumulado\n",
    "Calcula dia-a-dia o retorno acumulado da série."
   ]
  },
  {
   "cell_type": "code",
   "execution_count": null,
   "id": "incomplete-softball",
   "metadata": {},
   "outputs": [],
   "source": [
    "Dados[\"RetornoAcumulado\"] = (1+Dados.Retorno).cumprod()-1"
   ]
  },
  {
   "cell_type": "code",
   "execution_count": null,
   "id": "hearing-george",
   "metadata": {},
   "outputs": [],
   "source": [
    "Dados[[\"Close\", \"Retorno\", \"RetornoAcumulado\"]]"
   ]
  },
  {
   "cell_type": "code",
   "execution_count": null,
   "id": "harmful-diameter",
   "metadata": {},
   "outputs": [],
   "source": [
    "print(\"Retorno do Período: {0}\".format( Dados.RetornoAcumulado[-1]) )"
   ]
  },
  {
   "cell_type": "markdown",
   "id": "determined-belief",
   "metadata": {},
   "source": [
    "### Indicadores do Ativo"
   ]
  },
  {
   "cell_type": "markdown",
   "id": "russian-pressure",
   "metadata": {},
   "source": [
    "- Retorno Médio"
   ]
  },
  {
   "cell_type": "code",
   "execution_count": null,
   "id": "injured-irrigation",
   "metadata": {},
   "outputs": [],
   "source": [
    "RetornoMedio = Dados.Retorno.mean()\n",
    "print(\"Retorno Médio: {0:.2%}\".format(RetornoMedio))"
   ]
  },
  {
   "cell_type": "markdown",
   "id": "satisfactory-fetish",
   "metadata": {},
   "source": [
    "- Risco"
   ]
  },
  {
   "cell_type": "code",
   "execution_count": null,
   "id": "sensitive-tissue",
   "metadata": {},
   "outputs": [],
   "source": [
    "Risco = Dados.Retorno.std()\n",
    "print(\"Risco: {0:.2%}\".format(Risco))"
   ]
  },
  {
   "cell_type": "markdown",
   "id": "extensive-stewart",
   "metadata": {},
   "source": [
    "- Risco Anualizado"
   ]
  },
  {
   "cell_type": "code",
   "execution_count": null,
   "id": "dress-touch",
   "metadata": {},
   "outputs": [],
   "source": [
    "Periodos = Dados.Retorno.count()\n",
    "RiscoAnualizado = Risco * np.sqrt(220)\n",
    "print(\"Risco Anualizado: {0:.2%}\".format(RiscoAnualizado))"
   ]
  },
  {
   "cell_type": "markdown",
   "id": "processed-istanbul",
   "metadata": {},
   "source": [
    "- VaR Histórico"
   ]
  },
  {
   "cell_type": "code",
   "execution_count": null,
   "id": "downtown-causing",
   "metadata": {},
   "outputs": [],
   "source": [
    "VarHistorico = np.quantile(Dados.Retorno, 0.05)\n",
    "VarHistoricoPeriodos = np.sqrt([1,7,14,21]) * VarHistorico\n",
    "\n",
    "InvestimentoPrevisto = 10000\n",
    "PerdaMaxima = InvestimentoPrevisto * VarHistoricoPeriodos\n",
    "\n",
    "print(\"VaR 1 dia: {0:.2%}, Perda máxima de {1:.2f}\".format(VarHistoricoPeriodos[0], PerdaMaxima[0]))\n",
    "print(\"VaR 7 dia: {0:.2%}, Perda máxima de {1:.2f}\".format(VarHistoricoPeriodos[1], PerdaMaxima[1]))\n",
    "print(\"VaR 14 dia: {0:.2%}, Perda máxima de {1:.2f}\".format(VarHistoricoPeriodos[2], PerdaMaxima[2]))\n",
    "print(\"VaR 21 dia: {0:.2%}, Perda máxima de {1:.2f}\".format(VarHistoricoPeriodos[3], PerdaMaxima[3]))"
   ]
  },
  {
   "cell_type": "markdown",
   "id": "boolean-camel",
   "metadata": {},
   "source": [
    "- VaR Paramétrico"
   ]
  },
  {
   "cell_type": "code",
   "execution_count": null,
   "id": "affected-declaration",
   "metadata": {},
   "outputs": [],
   "source": [
    "VarParam = RetornoMedio - norm.ppf(0.95) * Risco\n",
    "VarParamPeriodos = np.sqrt([1,7,14,21]) * VarParam\n",
    "\n",
    "InvestimentoPrevisto = 10000\n",
    "PerdaMaxima = InvestimentoPrevisto * VarParamPeriodos\n",
    "\n",
    "print(\"VaR 1 dia: {0:.2%}, Perda máxima de {1:.2f}\".format(VarParamPeriodos[0], PerdaMaxima[0]))\n",
    "print(\"VaR 7 dia: {0:.2%}, Perda máxima de {1:.2f}\".format(VarParamPeriodos[1], PerdaMaxima[1]))\n",
    "print(\"VaR 14 dia: {0:.2%}, Perda máxima de {1:.2f}\".format(VarParamPeriodos[2], PerdaMaxima[2]))\n",
    "print(\"VaR 21 dia: {0:.2%}, Perda máxima de {1:.2f}\".format(VarParamPeriodos[3], PerdaMaxima[3]))"
   ]
  },
  {
   "cell_type": "code",
   "execution_count": null,
   "id": "renewable-taiwan",
   "metadata": {},
   "outputs": [],
   "source": []
  }
 ],
 "metadata": {
  "kernelspec": {
   "display_name": "Python 3",
   "language": "python",
   "name": "python3"
  },
  "language_info": {
   "codemirror_mode": {
    "name": "ipython",
    "version": 3
   },
   "file_extension": ".py",
   "mimetype": "text/x-python",
   "name": "python",
   "nbconvert_exporter": "python",
   "pygments_lexer": "ipython3",
   "version": "3.7.9"
  }
 },
 "nbformat": 4,
 "nbformat_minor": 5
}
