{
 "cells": [
  {
   "cell_type": "markdown",
   "id": "grateful-replacement",
   "metadata": {},
   "source": [
    "# Análise de um Ativo\n",
    "Análise exploratória e indicadores de retorno, risco e performance de um ativo financeiro."
   ]
  },
  {
   "cell_type": "code",
   "execution_count": null,
   "id": "incorporate-miracle",
   "metadata": {},
   "outputs": [],
   "source": [
    "import pandas as pd\n",
    "import numpy as np\n",
    "import datetime\n",
    "import pandas_datareader as pdr\n",
    "import plotly\n",
    "import plotly.offline as plo\n",
    "import plotly.graph_objs as plg\n",
    "import plotly.express as plx\n",
    "from scipy.stats import norm"
   ]
  },
  {
   "cell_type": "markdown",
   "id": "small-mortgage",
   "metadata": {},
   "source": [
    "### Funções de Configurações Gráficas\n",
    "Funções para configurações base de gráficos e exibição."
   ]
  },
  {
   "cell_type": "code",
   "execution_count": null,
   "id": "comprehensive-forwarding",
   "metadata": {},
   "outputs": [],
   "source": [
    "def Plot_Config(fig, title):\n",
    "    title={'text': title, 'xanchor': 'center', 'yanchor': 'bottom', 'y':0, 'x':0.5,}\n",
    "    \n",
    "    fig.update_layout(title=title, \n",
    "            xaxis_rangeslider_visible=False,  width=1280, height=720,\n",
    "            xaxis_showgrid=True, xaxis_gridwidth=1, xaxis_gridcolor='#E8E8E8',\n",
    "            yaxis_showgrid=True, yaxis_gridwidth=1, yaxis_gridcolor='#E8E8E8',\n",
    "            plot_bgcolor='rgba(0,0,0,0)')\n",
    "    \n",
    "def Plot_Show(data, title):\n",
    "    fig = plg.Figure(data=data)\n",
    "\n",
    "    Plot_Config(fig, title)\n",
    "\n",
    "    fig.show()   "
   ]
  },
  {
   "cell_type": "markdown",
   "id": "reflected-pollution",
   "metadata": {},
   "source": [
    "### Leitura de Dados de Ativos\n",
    "Realiza a leitura online de dados de ativos financeiros."
   ]
  },
  {
   "cell_type": "code",
   "execution_count": null,
   "id": "operational-framing",
   "metadata": {},
   "outputs": [],
   "source": [
    "Acoes = \"ITUB4.SA\"\n",
    "Periodo_Inicio = datetime.datetime(2016,1,1)\n",
    "Periodo_Termino = datetime.datetime(2021,2,10)"
   ]
  },
  {
   "cell_type": "code",
   "execution_count": null,
   "id": "israeli-ultimate",
   "metadata": {},
   "outputs": [],
   "source": [
    "Dados = pdr.get_data_yahoo(Acoes, start=Periodo_Inicio, end=Periodo_Termino)"
   ]
  },
  {
   "cell_type": "code",
   "execution_count": null,
   "id": "fourth-progress",
   "metadata": {},
   "outputs": [],
   "source": [
    "Dados"
   ]
  },
  {
   "cell_type": "markdown",
   "id": "intimate-recycling",
   "metadata": {},
   "source": [
    "### Análise descritiva dos Preços\n",
    "- Contagem de dias.\n",
    "- Média dos preços do ativo.\n",
    "- Desvio padrão dos preços.\n",
    "- Preço Mínimo.\n",
    "- Preço Máximo.\n",
    "- Quartis dos Preços."
   ]
  },
  {
   "cell_type": "code",
   "execution_count": null,
   "id": "incorporate-polymer",
   "metadata": {},
   "outputs": [],
   "source": [
    "Dados.describe()"
   ]
  },
  {
   "cell_type": "code",
   "execution_count": null,
   "id": "advance-summer",
   "metadata": {},
   "outputs": [],
   "source": [
    "SeriePrecos = plg.Scatter(x=Dados.index, y=Dados.Close)\n",
    "Plot_Show(SeriePrecos, \"Preços\")"
   ]
  },
  {
   "cell_type": "code",
   "execution_count": null,
   "id": "hazardous-montana",
   "metadata": {},
   "outputs": [],
   "source": [
    "CandlePrecos = plg.Candlestick(x=Dados.index,\n",
    "                               open=Dados.Open,\n",
    "                               high=Dados.High,\n",
    "                               low=Dados.Low,\n",
    "                               close=Dados.Close)\n",
    "Plot_Show(CandlePrecos, \"Preços\")"
   ]
  },
  {
   "cell_type": "markdown",
   "id": "growing-newman",
   "metadata": {},
   "source": [
    "### Cálculo e análise descritiva dos Retornos Diários\n",
    "- Retorno Médio do Ativo (Média).\n",
    "- Risco do Ativo (Desvio Padrão).\n",
    "- Maior perda do período (Mínimo).\n",
    "- Maior ganho no período (Máximo).\n",
    "- Quartis do Risco."
   ]
  },
  {
   "cell_type": "code",
   "execution_count": null,
   "id": "coastal-allocation",
   "metadata": {},
   "outputs": [],
   "source": [
    "Dados[\"Retorno\"] = Dados.Close.pct_change().fillna(0)"
   ]
  },
  {
   "cell_type": "code",
   "execution_count": null,
   "id": "serial-printer",
   "metadata": {},
   "outputs": [],
   "source": [
    "Dados.Retorno.describe()"
   ]
  },
  {
   "cell_type": "code",
   "execution_count": null,
   "id": "improved-lodge",
   "metadata": {},
   "outputs": [],
   "source": [
    "Dados[\"RetornoLog\"] = np.log(1+Dados.Retorno)"
   ]
  },
  {
   "cell_type": "code",
   "execution_count": null,
   "id": "equivalent-collapse",
   "metadata": {},
   "outputs": [],
   "source": [
    "Dados.RetornoLog.describe()"
   ]
  },
  {
   "cell_type": "code",
   "execution_count": null,
   "id": "oriental-trigger",
   "metadata": {},
   "outputs": [],
   "source": [
    "SerieRetornos = plg.Scatter(x=Dados.index, y=Dados.Retorno)\n",
    "Plot_Show(SerieRetornos, \"Retornos\")"
   ]
  },
  {
   "cell_type": "code",
   "execution_count": null,
   "id": "white-brake",
   "metadata": {},
   "outputs": [],
   "source": [
    "HistogramaRetornos = plg.Histogram(x=Dados.Retorno)\n",
    "Plot_Show(HistogramaRetornos, \"Retornos\")"
   ]
  },
  {
   "cell_type": "markdown",
   "id": "fuzzy-petroleum",
   "metadata": {},
   "source": [
    "### Cálculo do Retorno Acumulado\n",
    "Calcula dia-a-dia o retorno acumulado da série."
   ]
  },
  {
   "cell_type": "code",
   "execution_count": null,
   "id": "oriental-albert",
   "metadata": {},
   "outputs": [],
   "source": [
    "Dados[\"RetornoAcumulado\"] = (1+Dados.Retorno).cumprod()-1"
   ]
  },
  {
   "cell_type": "code",
   "execution_count": null,
   "id": "complex-platinum",
   "metadata": {},
   "outputs": [],
   "source": [
    "Dados[[\"Close\", \"Retorno\", \"RetornoAcumulado\"]]"
   ]
  },
  {
   "cell_type": "code",
   "execution_count": null,
   "id": "delayed-position",
   "metadata": {},
   "outputs": [],
   "source": [
    "RetornoAcumulado = Dados.RetornoAcumulado[-1]\n",
    "print(\"Retorno do Período: {0:.2%}\".format( RetornoAcumulado ))"
   ]
  },
  {
   "cell_type": "code",
   "execution_count": null,
   "id": "turkish-sense",
   "metadata": {},
   "outputs": [],
   "source": [
    "SerieRetornosAcumulados = plg.Scatter(x=Dados.index, y=Dados.RetornoAcumulado)\n",
    "Plot_Show(SerieRetornosAcumulados, \"Retornos Acumulados\")"
   ]
  },
  {
   "cell_type": "markdown",
   "id": "minor-tenant",
   "metadata": {},
   "source": [
    "### Indicadores do Ativo"
   ]
  },
  {
   "cell_type": "markdown",
   "id": "dying-recipe",
   "metadata": {},
   "source": [
    "- Retorno Médio"
   ]
  },
  {
   "cell_type": "code",
   "execution_count": null,
   "id": "aggregate-planner",
   "metadata": {},
   "outputs": [],
   "source": [
    "RetornoMedio = Dados.Retorno.mean()\n",
    "print(\"Retorno Médio: {0:.2%}\".format(RetornoMedio))"
   ]
  },
  {
   "cell_type": "markdown",
   "id": "motivated-policy",
   "metadata": {},
   "source": [
    "- Risco"
   ]
  },
  {
   "cell_type": "code",
   "execution_count": null,
   "id": "brown-pharmacy",
   "metadata": {},
   "outputs": [],
   "source": [
    "Risco = Dados.Retorno.std()\n",
    "print(\"Risco: {0:.2%}\".format(Risco))"
   ]
  },
  {
   "cell_type": "markdown",
   "id": "female-attendance",
   "metadata": {},
   "source": [
    "- Performance (Sharpe)"
   ]
  },
  {
   "cell_type": "code",
   "execution_count": null,
   "id": "available-fantasy",
   "metadata": {},
   "outputs": [],
   "source": [
    "Sharpe = RetornoMedio / Risco / 100\n",
    "print(\"Performance Sharpe: {0:.2%}\".format(Sharpe))"
   ]
  },
  {
   "cell_type": "markdown",
   "id": "divided-trail",
   "metadata": {},
   "source": [
    "- Risco e Retorno Anualizado"
   ]
  },
  {
   "cell_type": "code",
   "execution_count": null,
   "id": "final-employment",
   "metadata": {},
   "outputs": [],
   "source": [
    "Periodos = Dados.Retorno.count()\n",
    "RiscoAnualizado = Risco * np.sqrt(220)\n",
    "RetornoDiario = ((1+RetornoAcumulado)**(1/Periodos))-1\n",
    "RetornoAnualizado = ((1+RetornoDiario)**(220/1))-1\n",
    "print(\"Risco Anualizado: {0:.2%}\".format(RiscoAnualizado))\n",
    "print(\"Retorno Anualizado: {0:.2%}\".format(RetornoAnualizado))"
   ]
  },
  {
   "cell_type": "markdown",
   "id": "working-spray",
   "metadata": {},
   "source": [
    "- VaR Histórico"
   ]
  },
  {
   "cell_type": "code",
   "execution_count": null,
   "id": "latest-shape",
   "metadata": {},
   "outputs": [],
   "source": [
    "VarHistorico = np.quantile(Dados.Retorno, 0.05)\n",
    "VarHistoricoPeriodos = np.sqrt([1,7,14,21]) * VarHistorico\n",
    "\n",
    "InvestimentoPrevisto = 10000\n",
    "PerdaMaxima = InvestimentoPrevisto * VarHistoricoPeriodos\n",
    "\n",
    "print(\"VaR 1 dia: {0:.2%}, Perda máxima de {1:.2f}\".format(VarHistoricoPeriodos[0], PerdaMaxima[0]))\n",
    "print(\"VaR 7 dias: {0:.2%}, Perda máxima de {1:.2f}\".format(VarHistoricoPeriodos[1], PerdaMaxima[1]))\n",
    "print(\"VaR 14 dias: {0:.2%}, Perda máxima de {1:.2f}\".format(VarHistoricoPeriodos[2], PerdaMaxima[2]))\n",
    "print(\"VaR 21 dias: {0:.2%}, Perda máxima de {1:.2f}\".format(VarHistoricoPeriodos[3], PerdaMaxima[3]))"
   ]
  },
  {
   "cell_type": "markdown",
   "id": "sitting-output",
   "metadata": {},
   "source": [
    "- VaR Paramétrico"
   ]
  },
  {
   "cell_type": "code",
   "execution_count": null,
   "id": "downtown-scheme",
   "metadata": {},
   "outputs": [],
   "source": [
    "VarParam = RetornoMedio - norm.ppf(0.95) * Risco\n",
    "VarParamPeriodos = np.sqrt([1,7,14,21]) * VarParam\n",
    "\n",
    "InvestimentoPrevisto = 10000\n",
    "PerdaMaxima = InvestimentoPrevisto * VarParamPeriodos\n",
    "\n",
    "print(\"VaR 1 dia: {0:.2%}, Perda máxima de {1:.2f}\".format(VarParamPeriodos[0], PerdaMaxima[0]))\n",
    "print(\"VaR 7 dias: {0:.2%}, Perda máxima de {1:.2f}\".format(VarParamPeriodos[1], PerdaMaxima[1]))\n",
    "print(\"VaR 14 dias: {0:.2%}, Perda máxima de {1:.2f}\".format(VarParamPeriodos[2], PerdaMaxima[2]))\n",
    "print(\"VaR 21 dias: {0:.2%}, Perda máxima de {1:.2f}\".format(VarParamPeriodos[3], PerdaMaxima[3]))"
   ]
  },
  {
   "cell_type": "code",
   "execution_count": null,
   "id": "pressing-registration",
   "metadata": {},
   "outputs": [],
   "source": []
  }
 ],
 "metadata": {
  "kernelspec": {
   "display_name": "Python 3",
   "language": "python",
   "name": "python3"
  },
  "language_info": {
   "codemirror_mode": {
    "name": "ipython",
    "version": 3
   },
   "file_extension": ".py",
   "mimetype": "text/x-python",
   "name": "python",
   "nbconvert_exporter": "python",
   "pygments_lexer": "ipython3",
   "version": "3.7.9"
  }
 },
 "nbformat": 4,
 "nbformat_minor": 5
}
